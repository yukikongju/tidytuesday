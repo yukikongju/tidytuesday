{
 "cells": [
  {
   "cell_type": "code",
   "execution_count": 12,
   "id": "5bf2abec",
   "metadata": {},
   "outputs": [],
   "source": [
    "import pandas as pd\n",
    "import os \n",
    "import numpy as np\n",
    "import matplotlib.pyplot as plt\n",
    "import geopandas as gpd\n",
    "import plotly.express as px"
   ]
  },
  {
   "cell_type": "code",
   "execution_count": 3,
   "id": "e85cead6",
   "metadata": {},
   "outputs": [
    {
     "name": "stdout",
     "output_type": "stream",
     "text": [
      "/home/yukikongju/Projects/tidytuesday/bixi/notebooks\n",
      "/home/yukikongju/Projects/tidytuesday/bixi\n"
     ]
    }
   ],
   "source": [
    "!pwd\n",
    "os.chdir('../')\n",
    "!pwd"
   ]
  },
  {
   "cell_type": "code",
   "execution_count": 4,
   "id": "247dcdd6",
   "metadata": {},
   "outputs": [],
   "source": [
    "df = pd.read_csv('data/stations.csv')"
   ]
  },
  {
   "cell_type": "code",
   "execution_count": 5,
   "id": "cda4b34d",
   "metadata": {},
   "outputs": [
    {
     "data": {
      "text/html": [
       "<div>\n",
       "<style scoped>\n",
       "    .dataframe tbody tr th:only-of-type {\n",
       "        vertical-align: middle;\n",
       "    }\n",
       "\n",
       "    .dataframe tbody tr th {\n",
       "        vertical-align: top;\n",
       "    }\n",
       "\n",
       "    .dataframe thead th {\n",
       "        text-align: right;\n",
       "    }\n",
       "</style>\n",
       "<table border=\"1\" class=\"dataframe\">\n",
       "  <thead>\n",
       "    <tr style=\"text-align: right;\">\n",
       "      <th></th>\n",
       "      <th>station_id</th>\n",
       "      <th>external_id</th>\n",
       "      <th>name</th>\n",
       "      <th>short_name</th>\n",
       "      <th>lat</th>\n",
       "      <th>lon</th>\n",
       "      <th>rental_methods</th>\n",
       "      <th>capacity</th>\n",
       "      <th>electric_bike_surcharge_waiver</th>\n",
       "      <th>is_charging</th>\n",
       "      <th>eightd_has_key_dispenser</th>\n",
       "      <th>eightd_station_services</th>\n",
       "      <th>has_kiosk</th>\n",
       "    </tr>\n",
       "  </thead>\n",
       "  <tbody>\n",
       "    <tr>\n",
       "      <th>0</th>\n",
       "      <td>42</td>\n",
       "      <td>0b102046-08f3-11e7-a1cb-3863bb33a4e4</td>\n",
       "      <td>Square Victoria (Viger / du Square-Victoria)</td>\n",
       "      <td>6043</td>\n",
       "      <td>45.502060</td>\n",
       "      <td>-73.562950</td>\n",
       "      <td>['CREDITCARD', 'KEY']</td>\n",
       "      <td>19</td>\n",
       "      <td>False</td>\n",
       "      <td>False</td>\n",
       "      <td>False</td>\n",
       "      <td>[{'id': '840d11cd-f56b-4164-8e66-b52b691b03a3'...</td>\n",
       "      <td>True</td>\n",
       "    </tr>\n",
       "    <tr>\n",
       "      <th>1</th>\n",
       "      <td>1</td>\n",
       "      <td>0b0fda98-08f3-11e7-a1cb-3863bb33a4e4</td>\n",
       "      <td>Métro Champ-de-Mars (Viger / Sanguinet)</td>\n",
       "      <td>6001</td>\n",
       "      <td>45.510163</td>\n",
       "      <td>-73.556637</td>\n",
       "      <td>['CREDITCARD', 'KEY']</td>\n",
       "      <td>35</td>\n",
       "      <td>False</td>\n",
       "      <td>False</td>\n",
       "      <td>False</td>\n",
       "      <td>NaN</td>\n",
       "      <td>True</td>\n",
       "    </tr>\n",
       "    <tr>\n",
       "      <th>2</th>\n",
       "      <td>2</td>\n",
       "      <td>0b0fdf05-08f3-11e7-a1cb-3863bb33a4e4</td>\n",
       "      <td>Ste-Catherine / Dezery</td>\n",
       "      <td>6002</td>\n",
       "      <td>45.539385</td>\n",
       "      <td>-73.541000</td>\n",
       "      <td>['CREDITCARD', 'KEY']</td>\n",
       "      <td>19</td>\n",
       "      <td>False</td>\n",
       "      <td>False</td>\n",
       "      <td>False</td>\n",
       "      <td>NaN</td>\n",
       "      <td>True</td>\n",
       "    </tr>\n",
       "    <tr>\n",
       "      <th>3</th>\n",
       "      <td>3</td>\n",
       "      <td>0b0fe114-08f3-11e7-a1cb-3863bb33a4e4</td>\n",
       "      <td>Evans / Clark</td>\n",
       "      <td>6003</td>\n",
       "      <td>45.511084</td>\n",
       "      <td>-73.567978</td>\n",
       "      <td>['CREDITCARD', 'KEY']</td>\n",
       "      <td>15</td>\n",
       "      <td>False</td>\n",
       "      <td>False</td>\n",
       "      <td>False</td>\n",
       "      <td>NaN</td>\n",
       "      <td>True</td>\n",
       "    </tr>\n",
       "    <tr>\n",
       "      <th>4</th>\n",
       "      <td>4</td>\n",
       "      <td>0b0fe2b5-08f3-11e7-a1cb-3863bb33a4e4</td>\n",
       "      <td>du Champ-de-Mars / Gosford</td>\n",
       "      <td>6004</td>\n",
       "      <td>45.509655</td>\n",
       "      <td>-73.554009</td>\n",
       "      <td>['CREDITCARD', 'KEY']</td>\n",
       "      <td>23</td>\n",
       "      <td>False</td>\n",
       "      <td>False</td>\n",
       "      <td>False</td>\n",
       "      <td>NaN</td>\n",
       "      <td>True</td>\n",
       "    </tr>\n",
       "  </tbody>\n",
       "</table>\n",
       "</div>"
      ],
      "text/plain": [
       "   station_id                           external_id  \\\n",
       "0          42  0b102046-08f3-11e7-a1cb-3863bb33a4e4   \n",
       "1           1  0b0fda98-08f3-11e7-a1cb-3863bb33a4e4   \n",
       "2           2  0b0fdf05-08f3-11e7-a1cb-3863bb33a4e4   \n",
       "3           3  0b0fe114-08f3-11e7-a1cb-3863bb33a4e4   \n",
       "4           4  0b0fe2b5-08f3-11e7-a1cb-3863bb33a4e4   \n",
       "\n",
       "                                           name short_name        lat  \\\n",
       "0  Square Victoria (Viger / du Square-Victoria)       6043  45.502060   \n",
       "1       Métro Champ-de-Mars (Viger / Sanguinet)       6001  45.510163   \n",
       "2                        Ste-Catherine / Dezery       6002  45.539385   \n",
       "3                                 Evans / Clark       6003  45.511084   \n",
       "4                    du Champ-de-Mars / Gosford       6004  45.509655   \n",
       "\n",
       "         lon         rental_methods  capacity  electric_bike_surcharge_waiver  \\\n",
       "0 -73.562950  ['CREDITCARD', 'KEY']        19                           False   \n",
       "1 -73.556637  ['CREDITCARD', 'KEY']        35                           False   \n",
       "2 -73.541000  ['CREDITCARD', 'KEY']        19                           False   \n",
       "3 -73.567978  ['CREDITCARD', 'KEY']        15                           False   \n",
       "4 -73.554009  ['CREDITCARD', 'KEY']        23                           False   \n",
       "\n",
       "   is_charging  eightd_has_key_dispenser  \\\n",
       "0        False                     False   \n",
       "1        False                     False   \n",
       "2        False                     False   \n",
       "3        False                     False   \n",
       "4        False                     False   \n",
       "\n",
       "                             eightd_station_services  has_kiosk  \n",
       "0  [{'id': '840d11cd-f56b-4164-8e66-b52b691b03a3'...       True  \n",
       "1                                                NaN       True  \n",
       "2                                                NaN       True  \n",
       "3                                                NaN       True  \n",
       "4                                                NaN       True  "
      ]
     },
     "execution_count": 5,
     "metadata": {},
     "output_type": "execute_result"
    }
   ],
   "source": [
    "df.head()"
   ]
  },
  {
   "cell_type": "code",
   "execution_count": 11,
   "id": "91a4b257",
   "metadata": {},
   "outputs": [
    {
     "data": {
      "text/plain": [
       "Text(0, 0.5, 'Number of stations')"
      ]
     },
     "execution_count": 11,
     "metadata": {},
     "output_type": "execute_result"
    },
    {
     "data": {
      "image/png": "[encoded data removed]",
      "text/plain": [
       "<Figure size 432x288 with 1 Axes>"
      ]
     },
     "metadata": {
      "needs_background": "light"
     },
     "output_type": "display_data"
    }
   ],
   "source": [
    "## Capacity\n",
    "\n",
    "plt.hist(df['capacity'])\n",
    "plt.title('Bixis capactiy count per stations')\n",
    "plt.xlabel('Number of bixis')\n",
    "plt.ylabel('Number of stations')"
   ]
  },
  {
   "cell_type": "code",
   "execution_count": 23,
   "id": "d3bdcdd6",
   "metadata": {},
   "outputs": [
    {
     "data": {
      "application/vnd.plotly.v1+json": {
       "config": {
        "plotlyServerURL": "https://plot.ly"
       },
       "data": [
        {
         "customdata": [
          [
           "Square Victoria (Viger / du Square-Victoria)",
           19
          ],
          [
           "Métro Champ-de-Mars (Viger / Sanguinet)",
           35
          ],
          [
           "Ste-Catherine / Dezery",
           19
          ],
          [
           "Evans / Clark",
           15
          ],
          [
           "du Champ-de-Mars / Gosford",
           23
          ],
          [
           "Brittany / Ainsley",
           19
          ],
          [
           "de Bellechasse / Pie-IX",
           23
          ],
          [
           "de l'Hôtel-de-Ville / Ste-Catherine",
           31
          ],
          [
           "Ste-Catherine / Sanguinet",
           47
          ],
          [
           "Crescent / de Maisonneuve",
           23
          ],
          [
           "de Grosbois / Duchesneau",
           15
          ],
          [
           "St-André / St-Antoine",
           27
          ],
          [
           "Métro St-Laurent (de Maisonneuve / St-Laurent)",
           23
          ],
          [
           "Sanguinet / de Maisonneuve",
           27
          ],
          [
           "St-Denis / Ste-Catherine",
           43
          ],
          [
           "Berri /Ste-Catherine",
           26
          ],
          [
           "Jacques-Le Ber / de la Pointe Nord",
           27
          ],
          [
           "Atateken / du Square Amherst",
           31
          ],
          [
           "St-André / Ontario",
           19
          ],
          [
           "Métro Sherbrooke (de Rigaud / Berri)",
           23
          ],
          [
           "de l'Hôtel-de-Ville / Ontario",
           27
          ],
          [
           "Beaudry / Ontario",
           23
          ],
          [
           "de la Commune / Berri",
           51
          ],
          [
           "des Ormeaux / Notre-Dame",
           27
          ],
          [
           "Notre-Dame / St-Gabriel",
           15
          ],
          [
           "de la Commune / Place Jacques-Cartier",
           81
          ],
          [
           "de Maisonneuve / Mansfield (sud)",
           27
          ],
          [
           "Irene / St-Jacques",
           19
          ],
          [
           "St-Antoine / St-François-Xavier",
           18
          ],
          [
           "Métro Place-d'Armes (Viger / St-Urbain)",
           29
          ],
          [
           "Viger / Chenneville",
           38
          ],
          [
           "de la Commune / St-Sulpice",
           43
          ],
          [
           "St-Nicolas / Place d'Youville",
           23
          ],
          [
           "Place d'Youville / McGill",
           19
          ],
          [
           "des Récollets / McGill",
           23
          ],
          [
           "St-Jacques / St-Pierre",
           23
          ],
          [
           "St-Jacques / McGill",
           27
          ],
          [
           "de la Gauchetière / Robert-Bourassa",
           27
          ],
          [
           "Roy / St-André",
           23
          ],
          [
           "Métro Bonaventure (de la Gauchetière / de la Cathédrale)",
           31
          ],
          [
           "Milton / Durocher",
           27
          ],
          [
           "William / St-Henri",
           15
          ],
          [
           "Queen / Wellington",
           47
          ],
          [
           "St-Maurice / Robert-Bourassa",
           35
          ],
          [
           "Henri-Julien / de Bellechasse",
           19
          ],
          [
           "de la Commune / King",
           70
          ],
          [
           "Métro Place-des-Arts (du Président-Kennedy / Jeanne-Mance)",
           27
          ],
          [
           "Place du Canada (Peel / de la Gauchetière)",
           22
          ],
          [
           "Cypress / Peel",
           27
          ],
          [
           "de la Cathédrale / René-Lévesque",
           43
          ],
          [
           "St-Urbain / René-Lévesque",
           33
          ],
          [
           "Mansfield / Ste-Catherine",
           23
          ],
          [
           "Drummond / Ste-Catherine",
           31
          ],
          [
           "Drummond / de Maisonneuve",
           47
          ],
          [
           "Métro Peel (de Maisonneuve / Stanley)",
           49
          ],
          [
           "de la Montagne / Sherbrooke",
           19
          ],
          [
           "Quai de la navette fluviale",
           19
          ],
          [
           "2e avenue / Jean-Rivard",
           31
          ],
          [
           "University / Milton",
           47
          ],
          [
           "de Maisonneuve / Aylmer (ouest)",
           37
          ],
          [
           "de Ville-Marie / Ste-Catherine",
           15
          ],
          [
           "St-Alexandre / Ste-Catherine",
           27
          ],
          [
           "Métro Vendôme (de Marlowe / de Maisonneuve)",
           31
          ],
          [
           "Mackay / Ste-Catherine",
           31
          ],
          [
           "5e avenue / Rosemont",
           19
          ],
          [
           "Aylmer / Ste-Catherine",
           47
          ],
          [
           "Duke / Brennan",
           27
          ],
          [
           "Notre-Dame / Jean-d'Estrées",
           47
          ],
          [
           "Henri-Julien / du Carmel",
           23
          ],
          [
           "Métro Lucien-L'Allier  (Lucien l'Allier / Argyle)",
           17
          ],
          [
           "Joseph-Manseau / René-Lévesque",
           19
          ],
          [
           "Crescent / René-Lévesque",
           31
          ],
          [
           "Métro Beaubien (de Chateaubriand / Beaubien)",
           23
          ],
          [
           "Métro Atwater (Atwater / Ste-Catherine)",
           35
          ],
          [
           "Chomedey / de Maisonneuve",
           19
          ],
          [
           "Lucien L'Allier / St-Jacques",
           23
          ],
          [
           "St-Marc / Ste-Catherine",
           31
          ],
          [
           "Ste-Catherine / Bishop",
           27
          ],
          [
           "Ste-Catherine / Labelle",
           31
          ],
          [
           "Mackay / de Maisonneuve",
           35
          ],
          [
           "Métro Villa-Maria (de Monkland / Décarie)",
           26
          ],
          [
           "Lincoln / du Fort",
           15
          ],
          [
           "de Rouen / Lespérance",
           27
          ],
          [
           "Wolfe / de la Gauchetière",
           27
          ],
          [
           "Plessis / René-Lévesque",
           19
          ],
          [
           "René-Lévesque / Papineau",
           25
          ],
          [
           "St-Mathieu / Baile",
           23
          ],
          [
           "Logan / Fullum",
           19
          ],
          [
           "Parc Plage",
           19
          ],
          [
           "Poupart / Ste-Catherine",
           19
          ],
          [
           "Ste-Catherine / Parthenais",
           23
          ],
          [
           "Montcalm / de Maisonneuve",
           19
          ],
          [
           "Alexandre-DeSève / Ste-Catherine",
           19
          ],
          [
           "Métro Papineau (Cartier / Ste-Catherine)",
           25
          ],
          [
           "Parc Benny (Benny / de Monkland)",
           23
          ],
          [
           "Plessis / Ontario",
           15
          ],
          [
           "de Maisonneuve / Aylmer (est)",
           21
          ],
          [
           "Alexandre-DeSève  / Ontario",
           23
          ],
          [
           "Dorion / Ontario",
           35
          ],
          [
           "Métro Frontenac (Ontario / du Havre)",
           23
          ],
          [
           "du Havre / de Rouen",
           27
          ],
          [
           "Logan / d'Iberville",
           19
          ],
          [
           "la Fontaine / Alexandre-de-Sève",
           19
          ],
          [
           "Poupart / Ontario",
           15
          ],
          [
           "de la Peltrie / de la Côte-des-Neiges",
           31
          ],
          [
           "Fullum / de Rouen",
           27
          ],
          [
           "Henri-Julien / de Castelnau",
           23
          ],
          [
           "Hogan / Ontario",
           11
          ],
          [
           "Sherbrooke / Frontenac",
           15
          ],
          [
           "Parc Baldwin (Fullum / Sherbrooke)",
           35
          ],
          [
           "Terrasse Mercure / Fullum",
           15
          ],
          [
           "Dorion / Sherbrooke",
           19
          ],
          [
           "Ste-Famille / Sherbrooke",
           35
          ],
          [
           "University / Prince-Arthur",
           47
          ],
          [
           "Hutchison / Prince-Arthur",
           39
          ],
          [
           "André-Laurendeau / Rachel",
           14
          ],
          [
           "Atwater / Sherbrooke",
           23
          ],
          [
           "Drolet / Beaubien",
           23
          ],
          [
           "de Gaspé / Beaubien",
           19
          ],
          [
           "Parc du Pélican (2e avenue / St-Joseph)",
           19
          ],
          [
           "Marquette / des Carrières",
           27
          ],
          [
           "Métro Fabre (Marquette / Jean-Talon)",
           19
          ],
          [
           "Louis-Hémon / Jean-Talon",
           19
          ],
          [
           "Metcalfe / de Maisonneuve",
           31
          ],
          [
           "Drolet / Marie-Anne",
           23
          ],
          [
           "Bercy / Rachel",
           15
          ],
          [
           "Larivière / de Lorimier",
           35
          ],
          [
           "Métro Laurier (Berri / Laurier)",
           23
          ],
          [
           "Gauthier / Papineau",
           19
          ],
          [
           "Gauthier / de Lorimier",
           15
          ],
          [
           "Gauthier / Parthenais",
           15
          ],
          [
           "Marquette / Rachel",
           15
          ],
          [
           "des Érables / Rachel",
           19
          ],
          [
           "Calixa-Lavallée / Rachel",
           30
          ],
          [
           "Rachel / de Brébeuf",
           29
          ],
          [
           "du Parc-La Fontaine / Duluth",
           23
          ],
          [
           "du Parc-La Fontaine / Roy",
           23
          ],
          [
           "Calixa-Lavallée / Sherbrooke",
           23
          ],
          [
           "Émile-Duployé / Sherbrooke",
           27
          ],
          [
           "Chapleau / du Mont-Royal",
           11
          ],
          [
           "Messier / du Mont-Royal",
           19
          ],
          [
           "Parthenais / du Mont-Royal",
           23
          ],
          [
           "Bordeaux / Mont-Royal",
           23
          ],
          [
           "Marie-Anne / Papineau",
           23
          ],
          [
           "Marquette / du Mont-Royal",
           19
          ],
          [
           "de Lanaudière / du Mont-Royal",
           27
          ],
          [
           "de la Roche / Marie-Anne",
           19
          ],
          [
           "de Brébeuf / du Mont-Royal",
           27
          ],
          [
           "de Brébeuf / Gilford",
           19
          ],
          [
           "Ann / Wellington",
           19
          ],
          [
           "Garnier / St-Joseph",
           23
          ],
          [
           "Cartier / St-Joseph",
           19
          ],
          [
           "St-Dominique / de Bellechasse",
           31
          ],
          [
           "Marquette / Laurier",
           27
          ],
          [
           "de Lanaudière / Laurier",
           19
          ],
          [
           "Laurier / de Brébeuf",
           23
          ],
          [
           "Gerry-Boulet / St-Grégoire",
           23
          ],
          [
           "Garnier / St-Grégoire",
           27
          ],
          [
           "Marmier / St-Denis",
           27
          ],
          [
           "Boyer / du Mont-Royal",
           18
          ],
          [
           "de Mentana / Laurier",
           23
          ],
          [
           "Wolfe / Robin",
           23
          ],
          [
           "Berri / Cherrier",
           39
          ],
          [
           "Roy / St-Denis",
           23
          ],
          [
           "St-André / Cherrier",
           31
          ],
          [
           "du Parc-Lafontaine / Rachel",
           19
          ],
          [
           "St-Hubert / Duluth",
           23
          ],
          [
           "Rivard / Rachel",
           15
          ],
          [
           "Duluth  / St-Denis",
           23
          ],
          [
           "des Soeurs-Grises / Marguerite d'Youville",
           39
          ],
          [
           "Clark / Rachel",
           31
          ],
          [
           "de Bullion / du Mont-Royal",
           15
          ],
          [
           "Laval / du Mont-Royal",
           19
          ],
          [
           "Métro Mont-Royal (Rivard / du Mont-Royal)",
           39
          ],
          [
           "des Érables / Bélanger",
           15
          ],
          [
           "St-Hubert / Laurier",
           15
          ],
          [
           "Resther / du Mont-Royal",
           23
          ],
          [
           "de Mentana / Marie-Anne",
           19
          ],
          [
           "Chabot / Villeray",
           15
          ],
          [
           "Pontiac / Gilford",
           23
          ],
          [
           "St-Zotique / Clark",
           11
          ],
          [
           "Boucher / St-Denis",
           23
          ],
          [
           "de l'Esplanade / Fairmount",
           15
          ],
          [
           "de Gaspé / Fairmount",
           23
          ],
          [
           "de Bullion / St-Joseph",
           31
          ],
          [
           "Villeneuve / St-Laurent",
           23
          ],
          [
           "de Bordeaux / Masson",
           19
          ],
          [
           "Hélène-Baillargeon / St-Denis",
           23
          ],
          [
           "Clark / St-Viateur",
           15
          ],
          [
           "Maguire / St-Laurent",
           23
          ],
          [
           "de l'Hôtel-de-Ville / Villeneuve",
           23
          ],
          [
           "Aylmer / Sherbrooke",
           27
          ],
          [
           "Milton / du Parc",
           23
          ],
          [
           "Prince-Arthur / du Parc",
           23
          ],
          [
           "Ste-Famille / des Pins",
           11
          ],
          [
           "Hutchison / des Pins",
           23
          ],
          [
           "Milton / Clark",
           27
          ],
          [
           "Métro Sauvé (Berri / Sauvé)",
           26
          ],
          [
           "Roy / St-Laurent",
           23
          ],
          [
           "Duluth / de l'Esplanade",
           23
          ],
          [
           "Duluth / St-Laurent",
           15
          ],
          [
           "Square St-Louis (du Square St-Louis / Laval)",
           31
          ],
          [
           "Metcalfe / St-Catherine",
           43
          ],
          [
           "Parc Jeanne-Mance (monument à sir George-Étienne Cartier)",
           43
          ],
          [
           "Vallières / St-Laurent",
           23
          ],
          [
           "de l'Hôtel-de-Ville / Roy",
           19
          ],
          [
           "Laval / Duluth",
           27
          ],
          [
           "du Mont-Royal / Clark",
           27
          ],
          [
           "de l'Esplanade / du Mont-Royal",
           23
          ],
          [
           "Parc Jeanne-Mance (du Mont-Royal / du Parc)",
           33
          ],
          [
           "Villeneuve / du Parc",
           15
          ],
          [
           "Villeneuve / St-Urbain",
           19
          ],
          [
           "Hôpital Maisonneuve-Rosemont (Rosemont / Chatelain)",
           31
          ],
          [
           "Jeanne-Mance / Laurier",
           23
          ],
          [
           "St-Dominique / du Mont-Royal",
           19
          ],
          [
           "Waverly / St-Viateur",
           19
          ],
          [
           "Jeanne-Mance / St-Viateur",
           23
          ],
          [
           "Bernard / St-Urbain",
           19
          ],
          [
           "St-Dominique / St-Viateur",
           31
          ],
          [
           "Laurier / de Bordeaux",
           19
          ],
          [
           "Gilford / de Lanaudière",
           15
          ],
          [
           "St-Dominique / Napoléon",
           23
          ],
          [
           "de Bordeaux / Jean-Talon",
           15
          ],
          [
           "Parc Kent (de Kent / Hudson)",
           27
          ],
          [
           "Querbes / Laurier",
           15
          ],
          [
           "Bloomfield / Bernard",
           23
          ],
          [
           "Bloomfield / Van Horne",
           23
          ],
          [
           "St-Cyril / Wiseman",
           23
          ],
          [
           "St-Dominique / St-Zotique",
           31
          ],
          [
           "St-Dominique / Rachel",
           23
          ],
          [
           "Bélanger / St-Denis",
           23
          ],
          [
           "Marché Jean-Talon (Henri-Julien / Jean-Talon)",
           23
          ],
          [
           "de Gaspé / Dante",
           23
          ],
          [
           "Mozart / St-Laurent",
           15
          ],
          [
           "Métro Jean-Talon (Berri / Jean-Talon)",
           19
          ],
          [
           "Boyer / Bélanger",
           23
          ],
          [
           "Boyer / St-Zotique",
           19
          ],
          [
           "de St-Vallier / St-Zotique",
           19
          ],
          [
           "Parc Père-Marquette (Chambord / Rosemont)",
           39
          ],
          [
           "des Érables / Dandurand",
           15
          ],
          [
           "Cartier / Dandurand",
           23
          ],
          [
           "Louis-Hémon / Rosemont",
           19
          ],
          [
           "de la Roche /  de Bellechasse",
           15
          ],
          [
           "de Hampton / de Monkland",
           15
          ],
          [
           "Chabot / de Bellechasse",
           15
          ],
          [
           "des Érables / Laurier",
           15
          ],
          [
           "Louis-Hébert / de Bellechasse",
           27
          ],
          [
           "Chabot / Beaubien",
           15
          ],
          [
           "Chambord / Beaubien",
           15
          ],
          [
           "Wurtele / de Rouen",
           15
          ],
          [
           "Fabre / St-Zotique",
           19
          ],
          [
           "Place du Village (St-Jean-Baptiste / Notre-Dame)",
           15
          ],
          [
           "de Bordeaux / St-Zotique",
           19
          ],
          [
           "Cartier / Bélanger",
           23
          ],
          [
           "Christophe-Colomb / St-Joseph",
           19
          ],
          [
           "Chambord / de Castelnau",
           15
          ],
          [
           "de la Roche / Bélanger",
           23
          ],
          [
           "Louis-Hébert / St-Zotique",
           15
          ],
          [
           "Louis-Hébert / Bélanger",
           19
          ],
          [
           "Fabre / Beaubien",
           19
          ],
          [
           "Fullum / Holt",
           26
          ],
          [
           "Métro Rosemont (de St-Vallier / Rosemont)",
           19
          ],
          [
           "Boyer / Rosemont",
           31
          ],
          [
           "de Bellechasse / de St-Vallier",
           15
          ],
          [
           "Augustin-Cantin / Shearer",
           31
          ],
          [
           "Marie-Anne / St-Hubert",
           19
          ],
          [
           "Édouard-Montpetit / de Stirling",
           19
          ],
          [
           "McKenna / Édouard-Montpetit",
           23
          ],
          [
           "Waverly / Van Horne",
           15
          ],
          [
           "Hutchison / Van Horne",
           19
          ],
          [
           "Bernard / Jeanne-Mance",
           27
          ],
          [
           "Basile-Routhier / Chabanel",
           15
          ],
          [
           "Bibliothèque et Complexe aquatique Rosemont (9e avenue / Rosemont)",
           15
          ],
          [
           "Boyer / Beaubien",
           23
          ],
          [
           "des Bassins / du Séminaire",
           31
          ],
          [
           "Notre-Dame / de la Montagne",
           27
          ],
          [
           "Guy / Notre-Dame",
           27
          ],
          [
           "Louis-Hébert / Beaubien",
           19
          ],
          [
           "St-Dominique / Laurier",
           23
          ],
          [
           "Métro Charlevoix (Centre / Charlevoix)",
           23
          ],
          [
           "des Seigneurs / Notre-Dame",
           22
          ],
          [
           "Ste-Émilie / Sir-Georges-Etienne-Cartier",
           23
          ],
          [
           "Georges-Vanier / Notre-Dame",
           19
          ],
          [
           "Quesnel / Vinet",
           19
          ],
          [
           "Duvernay / Charlevoix",
           19
          ],
          [
           "Marché Atwater",
           32
          ],
          [
           "Charlevoix / Lionel-Groulx",
           23
          ],
          [
           "Métro Georges-Vanier (St-Antoine / Canning)",
           17
          ],
          [
           "Laval / Rachel",
           19
          ],
          [
           "4e avenue / de Verdun",
           15
          ],
          [
           "de Soissons / de Darlington",
           31
          ],
          [
           "Bel Air / St-Antoine",
           23
          ],
          [
           "de Kent / de la Côte-des-Neiges",
           39
          ],
          [
           "Drolet / St-Zotique",
           19
          ],
          [
           "de Lanaudière / Marie-Anne",
           19
          ],
          [
           "Jean-Brillant / de la Côte-des-Neiges",
           23
          ],
          [
           "McLynn / Plamondon",
           27
          ],
          [
           "Bourbonnière / du Mont-Royal",
           23
          ],
          [
           "de Bordeaux / Gilford",
           19
          ],
          [
           "Métro Préfontaine (Moreau / Hochelaga)",
           30
          ],
          [
           "Métro Joliette  (Joliette / Hochelaga)",
           19
          ],
          [
           "d'Orléans / Hochelaga",
           19
          ],
          [
           "Boyer / Jean-Talon",
           23
          ],
          [
           "Aylwin / Ontario",
           23
          ],
          [
           "Dézéry / Ontario",
           23
          ],
          [
           "Parc Lalancette (de Rouen / Valois)",
           23
          ],
          [
           "Métro Viau (Viau / Pierre-de-Coubertin)",
           55
          ],
          [
           "Marché Maisonneuve",
           22
          ],
          [
           "de la Salle / Ontario",
           23
          ],
          [
           "Guizot / St-Laurent",
           19
          ],
          [
           "Faillon / St-Denis",
           23
          ],
          [
           "Drolet / Gounod",
           23
          ],
          [
           "de Gaspé / Jarry",
           23
          ],
          [
           "Guizot / St-Denis",
           23
          ],
          [
           "de Gaspé / de Liège",
           15
          ],
          [
           "Leman / de Chateaubriand",
           15
          ],
          [
           "Métro Jarry (Lajeunesse / Jarry)",
           19
          ],
          [
           "du Rosaire / St-Hubert",
           23
          ],
          [
           "Boyer / Everett",
           15
          ],
          [
           "de Chateaubriand / Jarry",
           15
          ],
          [
           "Harvard / de Monkland",
           19
          ],
          [
           "de la Roche / Everett",
           11
          ],
          [
           "Regina / de Verdun",
           23
          ],
          [
           "Marquette / Villeray",
           15
          ],
          [
           "Nicolet / Sherbrooke",
           27
          ],
          [
           "Métro St-Michel (Shaughnessy / St-Michel)",
           15
          ],
          [
           "Ryde / Charlevoix",
           27
          ],
          [
           "de Laprairie / Centre",
           23
          ],
          [
           "St-Dominique / Gounod",
           15
          ],
          [
           "Lajeunesse / de Liège",
           15
          ],
          [
           "de Gaspé / Villeray",
           15
          ],
          [
           "Marcil / Sherbrooke",
           23
          ],
          [
           "Ontario / Sicard",
           23
          ],
          [
           "de Monkland / Girouard",
           15
          ],
          [
           "12e avenue / St-Zotique",
           23
          ],
          [
           "1ère  avenue / St-Zotique",
           15
          ],
          [
           "St-Catherine / St-Laurent",
           27
          ],
          [
           "Beaubien / 8e avenue",
           15
          ],
          [
           "Molson / Beaubien",
           23
          ],
          [
           "1ère avenue / Rosemont",
           15
          ],
          [
           "de la Côte St-Antoine / Royal",
           19
          ],
          [
           "de Chambly / Rachel",
           23
          ],
          [
           "Wilderton  / Van Horne",
           19
          ],
          [
           "3e avenue / Holt",
           19
          ],
          [
           "10e avenue / Masson",
           23
          ],
          [
           "U. Concordia - Campus Loyola (Sherbrooke / West Broadway)",
           27
          ],
          [
           "d'Orléans / Masson",
           19
          ],
          [
           "5e avenue / Masson",
           23
          ],
          [
           "Parc du Pélican (1ère avenue / Masson)",
           39
          ],
          [
           "7e avenue / St-Joseph Rosemont",
           27
          ],
          [
           "15e avenue / Masson",
           23
          ],
          [
           "Métro Place St-Henri (St-Ferdinand / St-Jacques)",
           23
          ],
          [
           "16e avenue / St-Joseph",
           23
          ],
          [
           "de Châteauguay / Ropery",
           23
          ],
          [
           "de l'Église / Bannantyne",
           15
          ],
          [
           "Parc J.-Arthur-Champagne (de Chambly / du Mont-Royal)",
           23
          ],
          [
           "Omer-Lavallée / du Midway",
           18
          ],
          [
           "Darling / Sherbrooke",
           23
          ],
          [
           "Métro Pie-IX (Pierre-de-Coubertin / de la Salle)",
           31
          ],
          [
           "Bloomfied / St-Viateur",
           15
          ],
          [
           "Durocher / St-Viateur",
           15
          ],
          [
           "Parc Pratt (Dunlop / Van Horne)",
           15
          ],
          [
           "Parc Joyce (Rockland / Lajoie)",
           15
          ],
          [
           "Davaar / de la Côte-Ste-Catherine",
           15
          ],
          [
           "Métro Édouard-Montpetit (du Mont-Royal / Vincent-d'Indy)",
           26
          ],
          [
           "Gary-Carter / St-Laurent",
           38
          ],
          [
           "St-Dominique / Jean-Talon",
           35
          ],
          [
           "Delisle / George-Vanier",
           27
          ],
          [
           "11e avenue / du Souvenir",
           15
          ],
          [
           "de l'Hôtel-de-Ville / Sherbrooke",
           27
          ],
          [
           "Campus MIL (Outremont / Thérèse-Lavoie Roux)",
           23
          ],
          [
           "Prince-Arthur / St-Urbain",
           27
          ],
          [
           "Parc Jean-Drapeau (Chemin Macdonald)",
           47
          ],
          [
           "Casino de Montréal",
           19
          ],
          [
           "Métro Parc  (Hutchison / Ogilvy)",
           33
          ],
          [
           "La Ronde",
           23
          ],
          [
           "de Melrose / Sherbrooke",
           15
          ],
          [
           "Letourneux / Hochelaga",
           15
          ],
          [
           "Paré / Mountain Sights",
           15
          ],
          [
           "Cartier / Rosemont",
           19
          ],
          [
           "Notre-Dame-de-Grâce / Décarie",
           15
          ],
          [
           "Beaucourt / de la Côte-Ste-Catherine",
           23
          ],
          [
           "de Maisonneuve / Mansfield SE",
           23
          ],
          [
           "Métro Snowdon (de Westbury / Queen-Mary)",
           27
          ],
          [
           "Péloquin / Fleury",
           15
          ],
          [
           "Métro Crémazie (Crémazie / Lajeunesse)",
           15
          ],
          [
           "Louisbourg / O'brien",
           23
          ],
          [
           "Ste-Catherine / Union",
           34
          ],
          [
           "Parc St-Henri (Laporte / Guay)",
           15
          ],
          [
           "Métro de l'Église (Ross / de l'Église)",
           15
          ],
          [
           "Métro Verdun (Willibrord / de Verdun)",
           27
          ],
          [
           "Métro Lasalle (de Rushbrooke / Caisse)",
           23
          ],
          [
           "Place du Commerce",
           33
          ],
          [
           "Clark / Prince-Arthur",
           31
          ],
          [
           "Berlioz / de l'Île des Soeurs",
           23
          ],
          [
           "St-Hubert / St-Joseph",
           15
          ],
          [
           "de Maisonneuve / Greene",
           19
          ],
          [
           "Hillside / Ste-Catherine",
           15
          ],
          [
           "Victoria / de Maisonneuve",
           15
          ],
          [
           "Victoria Hall",
           15
          ],
          [
           "de la Côte St-Antoine / Argyle",
           19
          ],
          [
           "St-Charles / Montarville",
           15
          ],
          [
           "Place Longueuil",
           15
          ],
          [
           "St-Charles / Grant",
           11
          ],
          [
           "St-Charles / Labonté",
           5
          ],
          [
           "Collège Édouard-Montpetit (de Gentilly / de Normandie)",
           19
          ],
          [
           "Métro Longueuil - Université de Sherbrooke",
           35
          ],
          [
           "Parc Ludger-Duvernay (St-André / St-Hubert)",
           19
          ],
          [
           "Cité des Arts du Cirque (Paul Boutet / des Regrattiers)",
           34
          ],
          [
           "Letourneux / Ste-Catherine",
           19
          ],
          [
           "Drummond / Sherbrooke",
           23
          ],
          [
           "Métro Assomption (Chauveau / de l'Assomption)",
           27
          ],
          [
           "Jardin Botanique (Pie-IX / Sherbrooke)",
           24
          ],
          [
           "19e avenue / St-Zotique",
           27
          ],
          [
           "5e avenue / Bannantyne",
           15
          ],
          [
           "Beatty / de Verdun",
           23
          ],
          [
           "Métro Jolicoeur (de Sève / Drake)",
           19
          ],
          [
           "de Bleury / de Maisonneuve",
           21
          ],
          [
           "Parc St-Paul (Le Caron / Marc-Sauvalle)",
           23
          ],
          [
           "Chambord / Fleury",
           14
          ],
          [
           "Mozart / Waverly",
           15
          ],
          [
           "LaSalle / Crawford",
           15
          ],
          [
           "29e avenue / St-Zotique",
           15
          ],
          [
           "LaSalle / 80e avenue",
           23
          ],
          [
           "Natatorium (LaSalle / Rolland)",
           27
          ],
          [
           "Francis / Fleury",
           19
          ],
          [
           "Métro Plamondon (Carlton / Victoria)",
           19
          ],
          [
           "Grand Boulevard / Sherbrooke",
           19
          ],
          [
           "Park Row O / Sherbrooke",
           15
          ],
          [
           "Ontario / Viau",
           19
          ],
          [
           "Métro Cadillac (Cadillac / Sherbrooke)",
           19
          ],
          [
           "Du Quesne / Pierre-de-Coubertin",
           11
          ],
          [
           "26e avenue / Beaubien",
           15
          ],
          [
           "Léa-Roback / Sir-Georges-Etienne-Cartier",
           34
          ],
          [
           "Métro Monk (Allard / Beaulieu)",
           15
          ],
          [
           "Hamel / Sauvé",
           23
          ],
          [
           "Montmorency / Richardson",
           31
          ],
          [
           "d'Outremont / Ogilvy",
           19
          ],
          [
           "St-André / Ste-Catherine",
           15
          ],
          [
           "35e avenue / Beaubien",
           31
          ],
          [
           "de Normanville / Villeray",
           23
          ],
          [
           "Fortune / Wellington",
           27
          ],
          [
           "27e avenue / Rosemont",
           19
          ],
          [
           "Lajeunesse / Villeray",
           15
          ],
          [
           "Métro Henri-Bourassa (Henri-Bourassa / Millen)",
           16
          ],
          [
           "Jacques-Casault / Christophe-Colomb",
           19
          ],
          [
           "6e avenue / Villeray",
           15
          ],
          [
           "Union / René-Lévesque",
           31
          ],
          [
           "Pierre-de-Coubertin / Langelier",
           19
          ],
          [
           "Canning / Notre-Dame",
           23
          ],
          [
           "St-Patrick / Briand",
           17
          ],
          [
           "St-Marc / Sherbrooke",
           15
          ],
          [
           "Hamilton / Jolicoeur",
           15
          ],
          [
           "Bloomfield / Jean-Talon",
           19
          ],
          [
           "Métro Acadie (de l'Acadie / Beaumont)",
           13
          ],
          [
           "Waverly / St-Zotique",
           19
          ],
          [
           "Young / Wellington",
           27
          ],
          [
           "St-Laurent / St-Jacques",
           23
          ],
          [
           "de Mentana / St-Joseph",
           19
          ],
          [
           "Hutchison / Beaubien",
           26
          ],
          [
           "cyclo",
           2
          ],
          [
           "Centre ÉPIC (St-Zotique / 40e avenue)",
           23
          ],
          [
           "Dubois / Eadie",
           23
          ],
          [
           "Bloomfield / Ball",
           15
          ],
          [
           "Tolhurst / Fleury",
           19
          ],
          [
           "Guy / Sainte-Catherine",
           31
          ],
          [
           "Émile-Journault / de Chateaubriand",
           31
          ],
          [
           "Marquette / Fleury",
           15
          ],
          [
           "Clark / Fleury",
           19
          ],
          [
           "Kirkfield / de Chambois",
           27
          ],
          [
           "Everett / Garnier",
           15
          ],
          [
           "Panet / Ste-Catherine",
           19
          ],
          [
           "Earnscliffe / Queen-Mary",
           23
          ],
          [
           "Métro Beaudry (Beaudry / Ste-Catherine)",
           27
          ],
          [
           "St-Christophe / René-Lévesque",
           19
          ],
          [
           "Benny / Sherbrooke",
           19
          ],
          [
           "Métro Université de Montréal (Édouard-Montpetit / Louis-Collin)",
           26
          ],
          [
           "Parc des Rapides (LaSalle / 6e avenue)",
           23
          ],
          [
           "Métro Langelier (Langelier / Sherbrooke)",
           19
          ],
          [
           "Bennett / Adam",
           19
          ],
          [
           "Valois / Ste-Catherine",
           19
          ],
          [
           "Casgrain / St-Viateur",
           23
          ],
          [
           "St-Germain / Hochelaga",
           15
          ],
          [
           "Dollard / Van Horne",
           19
          ],
          [
           "Durocher / Bernard",
           15
          ],
          [
           "Parc Howard (de l'Épée / de Liège)",
           15
          ],
          [
           "Métro Laurier (Berri / St-Joseph)",
           18
          ],
          [
           "Alexandra / Jean-Talon",
           15
          ],
          [
           "St-Dominique / Bernard",
           23
          ],
          [
           "Maguire / Henri-Julien",
           19
          ],
          [
           "Fullum / Marie-Anne",
           15
          ],
          [
           "de Gaspé / St-Viateur",
           19
          ],
          [
           "Cartier / Masson",
           19
          ],
          [
           "de Bordeaux / Marie-Anne",
           11
          ],
          [
           "Berri / Rachel",
           15
          ],
          [
           "Drolet / Laurier",
           27
          ],
          [
           "Aylmer / Prince-Arthur",
           19
          ],
          [
           "Atwater / Greene",
           25
          ],
          [
           "Fullum / Gilford",
           15
          ],
          [
           "Labadie / du Parc",
           15
          ],
          [
           "Durocher / Sherbrooke",
           23
          ],
          [
           "Guilbault / Clark",
           19
          ],
          [
           "du Mont-Royal / Augustin-Frigon",
           19
          ],
          [
           "St-Urbain / Beaubien",
           15
          ],
          [
           "Grand Boulevard / de Terrebonne",
           31
          ],
          [
           "Ernest-Gendreau / du Mont-Royal",
           23
          ],
          [
           "Parc Maisonneuve (Viau / Sherbrooke)",
           23
          ],
          [
           "de Maisonneuve / Mansfield (nord)",
           19
          ],
          [
           "Peel / Ottawa",
           27
          ],
          [
           "Métro Angrignon (Lamont /  des Trinitaires)",
           27
          ],
          [
           "Parc de Dieppe",
           35
          ],
          [
           "Ottawa / William",
           15
          ],
          [
           "Jogues / Allard",
           19
          ],
          [
           "Shearer / Centre",
           15
          ],
          [
           "Ropery / Augustin-Cantin",
           23
          ],
          [
           "de la Côte St-Paul / St-Ambroise",
           35
          ],
          [
           "Rose-de-Lima / Workman",
           27
          ],
          [
           "Bibliothèque de Verdun (Brown / Bannantyne)",
           15
          ],
          [
           "2e avenue / Wellington",
           19
          ],
          [
           "Gordon / Wellington",
           15
          ],
          [
           "Argyle / de Verdun",
           23
          ],
          [
           "de l'Église / de Verdun",
           19
          ],
          [
           "de Castelnau / Lajeunesse",
           15
          ],
          [
           "William / Robert-Bourassa",
           21
          ],
          [
           "Drolet / Jarry",
           19
          ],
          [
           "Clark / de Liège",
           19
          ],
          [
           "de Lanaudière / Bélanger",
           23
          ],
          [
           "St-Urbain / de la Gauchetière",
           43
          ],
          [
           "City Councillors / du President-Kennedy",
           31
          ],
          [
           "Richmond / des Bassins",
           31
          ],
          [
           "Jeanne-Mance / René-Lévesque",
           58
          ],
          [
           "Bourgeoys / Favard",
           15
          ],
          [
           "St-Mathieu / Sherbrooke",
           23
          ],
          [
           "Beaudry / Sherbrooke",
           27
          ],
          [
           "Logan / de Champlain",
           19
          ],
          [
           "St-André / Robin",
           15
          ],
          [
           "Michelet / Jean-Talon",
           19
          ],
          [
           "Tupper / du Fort",
           19
          ],
          [
           "Jean Langlois / Fullum",
           31
          ],
          [
           "Hochelaga / Chapleau",
           23
          ],
          [
           "Notre-Dame / Gauvin",
           19
          ],
          [
           "du President-Kennedy / Union",
           23
          ],
          [
           "St-Hubert / de Maisonneuve (nord)",
           23
          ],
          [
           "Jeanne-d'Arc / Ontario",
           19
          ],
          [
           "Graham / Brookfield",
           23
          ],
          [
           "Graham / Wicksteed",
           19
          ],
          [
           "Métro Lionel-Groulx (St-Jacques / Atwater)",
           19
          ],
          [
           "McTavish / Sherbrooke",
           46
          ],
          [
           "Parc de Bullion (de Bullion / Prince-Arthur)",
           19
          ],
          [
           "Metcalfe / du Square-Dorchester",
           31
          ],
          [
           "Place des Festivals ( du Président-Kennedy / de Bleury)",
           27
          ],
          [
           "St-Jean-Baptiste / René-Lévesque",
           15
          ],
          [
           "Aréna Rodrigue-Gilbert (du Tricentenaire / de Montigny)",
           15
          ],
          [
           "du Tricentenaire / Prince-Albert",
           15
          ],
          [
           "de St-Firmin / Fleury",
           31
          ],
          [
           "d'Iberville / Fleury",
           19
          ],
          [
           "Gare Bois-de-Boulogne",
           31
          ],
          [
           "Laforest / Dudemaine",
           23
          ],
          [
           "Alfred Laliberté / de Poutrincourt",
           19
          ],
          [
           "Chabanel / de l'Esplanade",
           15
          ],
          [
           "Chabanel / du Parc",
           30
          ],
          [
           "Bélanger / des Galeries d'Anjou",
           23
          ],
          [
           "Grey / Sherbrooke",
           15
          ],
          [
           "Union / Ste-Catherine",
           7
          ],
          [
           "des Jockeys / Décarie",
           19
          ],
          [
           "Métro de la Savane (de Sorel / Bougainville)",
           23
          ],
          [
           "Graham / Kindersley",
           23
          ],
          [
           "St-Joseph / 8e avenue Lachine",
           31
          ],
          [
           "8e avenue / Notre-Dame Lachine",
           23
          ],
          [
           "Parc St-Louis (St-Joseph / 34e avenue)",
           27
          ],
          [
           "Victoria / 18e avenue Lachine",
           15
          ],
          [
           "St-Joseph Lachine / 21e avenue",
           19
          ],
          [
           "Gagne / LaSalle",
           23
          ],
          [
           "Mairie d'arrondissement LaSalle (Dupras / Jeannette)",
           19
          ],
          [
           "LaSalle / 37e avenue",
           23
          ],
          [
           "Parc Highlands (Highlands / LaSalle)",
           27
          ],
          [
           "Newman / Senkus",
           19
          ],
          [
           "Casgrain / Maguire",
           15
          ],
          [
           "Smith / Peel",
           19
          ],
          [
           "Métro Radisson (Sherbrooke / des Groseilliers)",
           15
          ],
          [
           "Métro Honoré-Beaugrand (Sherbrooke / Honoré-Beaugrand)",
           23
          ],
          [
           "Parc Félix-Leclerc (François-Boivin / St-Zotique)",
           15
          ],
          [
           "Ste-Claire / Pierre-Tétreault",
           19
          ],
          [
           "Duchesneau / de Marseille",
           27
          ],
          [
           "Bennett / Pierre-de-Coubertin",
           19
          ],
          [
           "Liébert / Hochelaga",
           23
          ],
          [
           "University / des Pins",
           39
          ],
          [
           "des Récollets / Martial",
           27
          ],
          [
           "Dollard / Bernard",
           23
          ],
          [
           "Rosemont / Viau",
           23
          ],
          [
           "41e avenue / Rosemont",
           19
          ],
          [
           "Jeanne-Mance / Beaubien",
           15
          ],
          [
           "Ste-Croix / Tassé",
           23
          ],
          [
           "Métro du Collège (Cartier / Décarie)",
           17
          ],
          [
           "Stinson / Montpellier",
           27
          ],
          [
           "Notre-Dame-de-Grâce / Westmount",
           15
          ],
          [
           "Thimens / Alexis-Nihon",
           27
          ],
          [
           "Sherbrooke / Vignal",
           23
          ],
          [
           "O'Brien / Poirier",
           23
          ],
          [
           "de Lisieux / Jean-Talon",
           22
          ],
          [
           "Parc Ferland (Belleherbe / Albanel)",
           19
          ],
          [
           "Glengarry / Graham",
           15
          ],
          [
           "St-Jacques / des Seigneurs",
           23
          ],
          [
           "Turgeon / Notre-Dame",
           19
          ],
          [
           "Elgar / de l'Île-des-Sœurs",
           14
          ],
          [
           "LaSalle / Godin",
           27
          ],
          [
           "Hickson / Wellington",
           23
          ],
          [
           "Argyle / Bannantyne",
           15
          ],
          [
           "de Versailles / St-Jacques",
           23
          ],
          [
           "Métro de Castelnau (de Castelnau / St-Laurent)",
           23
          ],
          [
           "Papineau / Émile-Journault",
           35
          ],
          [
           "16e avenue / Jean-Talon",
           11
          ],
          [
           "Melville / de Maisonneuve",
           15
          ],
          [
           "du Souvenir / Chomedey",
           15
          ],
          [
           "Parc Chopin (Dumouchel / Tessier)",
           19
          ],
          [
           "Parc St-Claude (7e avenue / 8e rue)",
           27
          ],
          [
           "Parc Henri-Dunant (Léger / Henri-Dunant)",
           19
          ],
          [
           "Robin / 15e rue",
           15
          ],
          [
           "Legrand / Cartier",
           15
          ],
          [
           "de Gaspé / Marmier",
           21
          ],
          [
           "Cégep Marie-Victorin",
           11
          ],
          [
           "Hôpital Sacré-Coeur (Forbes)",
           13
          ],
          [
           "Pratt / Bates",
           15
          ],
          [
           "Parc Van Horne (de la Peltrie / de Westbury)",
           15
          ],
          [
           "St-Rémi / Ste Émilie",
           23
          ],
          [
           "de Léry / Sherbrooke",
           15
          ],
          [
           "Parc de Beauséjour (Gouin / Henri-d'Arles)",
           19
          ],
          [
           "Parc nature de l'Île-de-la-Visitation (Gouin / de Bruchési)",
           19
          ],
          [
           "Parc Henri-Julien (Legendre / Henri-Julien)",
           19
          ],
          [
           "Parc Georges St-Pierre (Oxford / Upper Lachine)",
           19
          ],
          [
           "Parc de la Confédération (Fielding / West Hill)",
           23
          ],
          [
           "REV (Souligny / Desmarteau)",
           15
          ],
          [
           "des Ormeaux / de Grosbois",
           15
          ],
          [
           "Parc MacDonald (Clanranald / Isabella)",
           15
          ],
          [
           "Parc Reine-Élizabeth (Penniston / Crawford)",
           15
          ],
          [
           "Parc Labelle (LaSalle / Henri-Duhamel)",
           19
          ],
          [
           "Parc Champdoré (Champdoré / de Lille)",
           15
          ],
          [
           "Beurling / Godin",
           19
          ],
          [
           "Parc Loyola (Somerled / Doherty)",
           19
          ],
          [
           "Parc Villeray (Christophe-Colomb / Jarry)",
           15
          ],
          [
           "Champdoré / de Lorimier",
           15
          ],
          [
           "Parc Marlborough (Beauzèle / Robichaud)",
           15
          ],
          [
           "Place Rodolphe-Rousseau (Gohier / Édouard-Laurin)",
           25
          ],
          [
           "Molson / William-Tremblay",
           15
          ],
          [
           "Cégep André-Laurendeau (Lapierre)",
           30
          ],
          [
           "Terminus Newman (Airlie / Lafleur)",
           19
          ],
          [
           "Parc Ivan-Franko (33e avenue / Victoria)",
           15
          ],
          [
           "19e avenue / St-Antoine",
           15
          ],
          [
           "Parc des Vétérans (des Vétérans / Broadway)",
           23
          ],
          [
           "Monsabré / Boileau",
           19
          ],
          [
           "Monk / Biencourt",
           15
          ],
          [
           "Egan / Laurendeau",
           15
          ],
          [
           "Parc de l'Hôtel-de-Ville (Laurendeau / Ste-Julie)",
           19
          ],
          [
           "Parc Sauvé (Balzac / de Bayonne)",
           15
          ],
          [
           "Plessis / Logan",
           19
          ],
          [
           "41e avenue / Victoria",
           15
          ],
          [
           "de Côme / Jean-Talon",
           15
          ],
          [
           "Lapierre / Serge",
           15
          ],
          [
           "St-Antoine / de la Montagne",
           19
          ],
          [
           "McCulloch / de la Côte Ste-Catherine",
           15
          ],
          [
           "Lacombe / Victoria",
           11
          ],
          [
           "Langelier / Marie-Victorin",
           15
          ],
          [
           "Parc Joseph-Robin (18e avenue / Everett)",
           19
          ],
          [
           "Centre récréatif Édouard-Rivet (Lesage / Notre-Dame)",
           19
          ],
          [
           "Gare d'autocars de Montréal (Berri / Ontario)",
           15
          ],
          [
           "Marquette / Gilford",
           15
          ],
          [
           "Gilford / St-Denis",
           39
          ],
          [
           "Parc Chenier (de l'Aréna / Chenier)",
           19
          ],
          [
           "Gloria / Dollard",
           15
          ],
          [
           "Dixie / 54e avenue",
           19
          ],
          [
           "St-Ambroise / Louis-Cyr",
           31
          ],
          [
           "St-Charles / Thomas-Keefer",
           19
          ],
          [
           "Gilford / des Érables",
           15
          ],
          [
           "Dorion / Rachel",
           19
          ],
          [
           "6e avenue / Bélanger",
           19
          ],
          [
           "Parc Père-Marquette (de Lanaudière / de Bellechasse)",
           19
          ],
          [
           "Messier / St-Joseph",
           17
          ],
          [
           "Fullum / Ontario",
           15
          ],
          [
           "Travaux publics LaSalle (Cordner / Léger)",
           15
          ],
          [
           "8e avenue / Everett",
           15
          ],
          [
           "CHU Ste-Justine (de la Côte Ste-Catherine / Hudson)",
           37
          ],
          [
           "Durocher / Beaumont",
           19
          ],
          [
           "Sabrevois / des Récollets",
           15
          ],
          [
           "Parc de Montréal-Est (Notre-Dame Est / David)",
           15
          ],
          [
           "Ateliers municipaux de St-Laurent (Cavendish / Poirier)",
           19
          ],
          [
           "Rousselot / Jarry",
           15
          ],
          [
           "Centre des loisirs (Tassé / Grenet)",
           15
          ],
          [
           "Parc St-Laurent (Salk / Thomas-Chapais)",
           19
          ],
          [
           "Bibliothèque du Boisé (Thimens / Todd)",
           23
          ],
          [
           "Parc St-Laurent (Dutrisac)",
           19
          ],
          [
           "Parc Beaulac (rue Élizabeth)",
           15
          ],
          [
           "CHSLD St-Michel (8e avenue / Jarry)",
           15
          ],
          [
           "Parc Wilfrid-Bastien (Lacordaire / des Galets)",
           19
          ],
          [
           "Hôpital Santa Cabrini (St-Zotique / Jeanne-Jugan)",
           15
          ],
          [
           "Parc Delorme (Malouin / Laferté)",
           19
          ],
          [
           "Mairie d'arrondissement Montréal-Nord (Hébert / de Charleroi)",
           21
          ],
          [
           "Parc Luigi-Pirandello (de Bretagne / Jean-Rivard)",
           15
          ],
          [
           "Parc LaSalle (10e avenue / Victoria)",
           19
          ],
          [
           "Parc Stoney-Point (St-Joseph / 47e avenue)",
           19
          ],
          [
           "Parc riverain de Lachine (des Iroquois)",
           21
          ],
          [
           "Bibliothèque Jean-Corbeil (Goncourt / Place Montrichard)",
           11
          ],
          [
           "Aréna Chaumont (Chaumont / des Ormeaux)",
           19
          ],
          [
           "Parc Chamberland (Dorais / de l'Église)",
           19
          ],
          [
           "Bassin olympique (Chemin du Chenal le Moyne)",
           19
          ],
          [
           "Parc Noel-Nord (Toupin / Keller)",
           19
          ],
          [
           "Parc du Bois-Franc (de l'Équateur / des Andes)",
           19
          ],
          [
           "Parc Grovehill (St-Antoine / Ivan-Franko)",
           15
          ],
          [
           "Parc Summerlea (53e avenue / St-Joseph)",
           15
          ],
          [
           "Parc Kirkland (des Érables / Boyer)",
           15
          ],
          [
           "Métro Montmorency",
           23
          ],
          [
           "Métro Cartier",
           19
          ],
          [
           "Parc Painter (Marcotte / Quenneville)",
           15
          ],
          [
           "Parc du Mail (Bois de Coulonges / du Mail)",
           15
          ],
          [
           "Marché Jean-Talon (Casgrain / Shamrock)",
           26
          ],
          [
           "2e avenue / Centrale",
           15
          ],
          [
           "Métro de la Concorde (Léo-Lacombe)",
           19
          ],
          [
           "Bibliothèque d'Ahuntsic (Lajeunesse / Fleury)",
           15
          ],
          [
           "Parc d'Antioche (Place d'Antioche / St-Zotique)",
           19
          ],
          [
           "CCI Outremont (Dollard / Durcharme)",
           15
          ],
          [
           "Fabrik8 (Waverly / Jean-Talon)",
           18
          ],
          [
           "Terminus Le Carrefour (Terry-Fox / Le Carrefour)",
           23
          ],
          [
           "LaSalle / 90e avenue",
           15
          ],
          [
           "test514",
           0
          ],
          [
           "Parc Beaubien Outremont (Stuart / St-Viateur)",
           15
          ],
          [
           "HEC (Decelles / Jean-Brillant)",
           25
          ],
          [
           "Parc Olympique (Pie-IX / Sherbrooke)",
           25
          ],
          [
           "de Chenonceau / Chomedey",
           23
          ],
          [
           "Mayfield / St-Martin O",
           19
          ],
          [
           "9100",
           0
          ],
          [
           "9102",
           0
          ],
          [
           "9103",
           0
          ],
          [
           "Parc Hébert (Colbert / Provencher)",
           15
          ],
          [
           "Parc Courbertin (Valéry / Perrier)",
           19
          ],
          [
           "Parc Garibaldi (Liénart / Bélanger)",
           15
          ],
          [
           "Alton-Goldbloom / Notre-Dame",
           19
          ],
          [
           "Parc Charleroi (Alfred / Louis-Francoeur)",
           15
          ],
          [
           "Parc Aimé-Léonard (Gouin / Ste-Gertrude)",
           17
          ],
          [
           "Parc Maurice-Bélanger (Hébert / Denommée)",
           15
          ],
          [
           "St-Hubert / de Maisonneuve (sud)",
           19
          ],
          [
           "CÉGEP du Vieux-Montréal (Ontario / de l'Hôtel-de-Ville)",
           15
          ],
          [
           "Complexe sportif Claude Robillard (Émile-Journault)",
           24
          ],
          [
           "Gare St-Michel / Montréal-Nord (Pie-IX / 56e)",
           15
          ],
          [
           "IUSMM (Georges-Villeneuve)",
           27
          ],
          [
           "Parc Eusèbe-Ménard (Gouin / St-Vital)",
           18
          ],
          [
           "CHSLD Joseph-François-Perrault (St-Michel / Everett)",
           18
          ],
          [
           "Mairie d'arrondissement St-Laurent (Beaudet / Marcel-Laurin)",
           27
          ],
          [
           "Hochelaga / de l'Assomption",
           23
          ],
          [
           "Gare Montpellier (Muir / de la Côte-Vertu)",
           15
          ],
          [
           "Bibliothèque du Vieux-St-Laurent (de l'Église / Filiatrault)",
           18
          ],
          [
           "Gare du Ruisseau (Dutrisac / Henri-Bourassa)",
           19
          ],
          [
           "Métro St-Laurent 2 ( de Maisonneuve / St-Laurent)",
           23
          ],
          [
           "Parc Nicolas-Tillemont (des Érables / Villeray)",
           18
          ],
          [
           "BAnQ (Berri)",
           15
          ],
          [
           "Parc Ottawa (de Belleville / Fleury)",
           15
          ],
          [
           "CHSLD Robert Cliche (de Bellechasse / 16e avenue)",
           15
          ],
          [
           "Square Viger (Berri / Viger)",
           30
          ],
          [
           "Collège de Rosemont (15e avenue / Beaubien)",
           25
          ],
          [
           "Parc Armand-Bombardier (Perras / Armand-Bombardier)",
           15
          ],
          [
           "du Mans / des Alouettes",
           23
          ],
          [
           "Pierre-Péladeau / du Centropolis",
           23
          ],
          [
           "Jeanne-Mance / St-Martin O",
           23
          ],
          [
           "de Grenoble / de Cassis",
           19
          ],
          [
           "Le Corbusier / St-Martin O",
           19
          ],
          [
           "McNamara / St-Martin O",
           19
          ],
          [
           "Préfontaine / Marcel-Pépin",
           19
          ],
          [
           "Keller / Cousineau",
           15
          ],
          [
           "de Chambly / de Rouen",
           11
          ],
          [
           "Hôpital Général Juif (de la Côte-Ste-Catherine / Légaré)",
           26
          ],
          [
           "Parc Ernest-Rouleau (Gouin)",
           19
          ],
          [
           "8115",
           3
          ],
          [
           "Square Nelligan (des Appalaches / Alexis-Nihon)",
           15
          ],
          [
           "Parc Honoré-Mercier (Notre-Dame / Liébert)",
           27
          ],
          [
           "Test ECO5.1.1",
           0
          ],
          [
           "CHU Ste-Justine 2 (Decelles / de la Côte-Ste-Catherine)",
           3
          ],
          [
           "8099",
           3
          ],
          [
           "8139",
           3
          ],
          [
           "Grenet / Poirier",
           15
          ],
          [
           "8101",
           2
          ],
          [
           "Gare Lachine (Sir George Simpson / 48e avenue)",
           15
          ],
          [
           "8100",
           3
          ]
         ],
         "hovertemplate": "<b>%{hovertext}</b><br><br>capacity=%{marker.color}<br>lat=%{lat}<br>lon=%{lon}<br>name=%{customdata[0]}<extra></extra>",
         "hovertext": [
          "Square Victoria (Viger / du Square-Victoria)",
          "Métro Champ-de-Mars (Viger / Sanguinet)",
          "Ste-Catherine / Dezery",
          "Evans / Clark",
          "du Champ-de-Mars / Gosford",
          "Brittany / Ainsley",
          "de Bellechasse / Pie-IX",
          "de l'Hôtel-de-Ville / Ste-Catherine",
          "Ste-Catherine / Sanguinet",
          "Crescent / de Maisonneuve",
          "de Grosbois / Duchesneau",
          "St-André / St-Antoine",
          "Métro St-Laurent (de Maisonneuve / St-Laurent)",
          "Sanguinet / de Maisonneuve",
          "St-Denis / Ste-Catherine",
          "Berri /Ste-Catherine",
          "Jacques-Le Ber / de la Pointe Nord",
          "Atateken / du Square Amherst",
          "St-André / Ontario",
          "Métro Sherbrooke (de Rigaud / Berri)",
          "de l'Hôtel-de-Ville / Ontario",
          "Beaudry / Ontario",
          "de la Commune / Berri",
          "des Ormeaux / Notre-Dame",
          "Notre-Dame / St-Gabriel",
          "de la Commune / Place Jacques-Cartier",
          "de Maisonneuve / Mansfield (sud)",
          "Irene / St-Jacques",
          "St-Antoine / St-François-Xavier",
          "Métro Place-d'Armes (Viger / St-Urbain)",
          "Viger / Chenneville",
          "de la Commune / St-Sulpice",
          "St-Nicolas / Place d'Youville",
          "Place d'Youville / McGill",
          "des Récollets / McGill",
          "St-Jacques / St-Pierre",
          "St-Jacques / McGill",
          "de la Gauchetière / Robert-Bourassa",
          "Roy / St-André",
          "Métro Bonaventure (de la Gauchetière / de la Cathédrale)",
          "Milton / Durocher",
          "William / St-Henri",
          "Queen / Wellington",
          "St-Maurice / Robert-Bourassa",
          "Henri-Julien / de Bellechasse",
          "de la Commune / King",
          "Métro Place-des-Arts (du Président-Kennedy / Jeanne-Mance)",
          "Place du Canada (Peel / de la Gauchetière)",
          "Cypress / Peel",
          "de la Cathédrale / René-Lévesque",
          "St-Urbain / René-Lévesque",
          "Mansfield / Ste-Catherine",
          "Drummond / Ste-Catherine",
          "Drummond / de Maisonneuve",
          "Métro Peel (de Maisonneuve / Stanley)",
          "de la Montagne / Sherbrooke",
          "Quai de la navette fluviale",
          "2e avenue / Jean-Rivard",
          "University / Milton",
          "de Maisonneuve / Aylmer (ouest)",
          "de Ville-Marie / Ste-Catherine",
          "St-Alexandre / Ste-Catherine",
          "Métro Vendôme (de Marlowe / de Maisonneuve)",
          "Mackay / Ste-Catherine",
          "5e avenue / Rosemont",
          "Aylmer / Ste-Catherine",
          "Duke / Brennan",
          "Notre-Dame / Jean-d'Estrées",
          "Henri-Julien / du Carmel",
          "Métro Lucien-L'Allier  (Lucien l'Allier / Argyle)",
          "Joseph-Manseau / René-Lévesque",
          "Crescent / René-Lévesque",
          "Métro Beaubien (de Chateaubriand / Beaubien)",
          "Métro Atwater (Atwater / Ste-Catherine)",
          "Chomedey / de Maisonneuve",
          "Lucien L'Allier / St-Jacques",
          "St-Marc / Ste-Catherine",
          "Ste-Catherine / Bishop",
          "Ste-Catherine / Labelle",
          "Mackay / de Maisonneuve",
          "Métro Villa-Maria (de Monkland / Décarie)",
          "Lincoln / du Fort",
          "de Rouen / Lespérance",
          "Wolfe / de la Gauchetière",
          "Plessis / René-Lévesque",
          "René-Lévesque / Papineau",
          "St-Mathieu / Baile",
          "Logan / Fullum",
          "Parc Plage",
          "Poupart / Ste-Catherine",
          "Ste-Catherine / Parthenais",
          "Montcalm / de Maisonneuve",
          "Alexandre-DeSève / Ste-Catherine",
          "Métro Papineau (Cartier / Ste-Catherine)",
          "Parc Benny (Benny / de Monkland)",
          "Plessis / Ontario",
          "de Maisonneuve / Aylmer (est)",
          "Alexandre-DeSève  / Ontario",
          "Dorion / Ontario",
          "Métro Frontenac (Ontario / du Havre)",
          "du Havre / de Rouen",
          "Logan / d'Iberville",
          "la Fontaine / Alexandre-de-Sève",
          "Poupart / Ontario",
          "de la Peltrie / de la Côte-des-Neiges",
          "Fullum / de Rouen",
          "Henri-Julien / de Castelnau",
          "Hogan / Ontario",
          "Sherbrooke / Frontenac",
          "Parc Baldwin (Fullum / Sherbrooke)",
          "Terrasse Mercure / Fullum",
          "Dorion / Sherbrooke",
          "Ste-Famille / Sherbrooke",
          "University / Prince-Arthur",
          "Hutchison / Prince-Arthur",
          "André-Laurendeau / Rachel",
          "Atwater / Sherbrooke",
          "Drolet / Beaubien",
          "de Gaspé / Beaubien",
          "Parc du Pélican (2e avenue / St-Joseph)",
          "Marquette / des Carrières",
          "Métro Fabre (Marquette / Jean-Talon)",
          "Louis-Hémon / Jean-Talon",
          "Metcalfe / de Maisonneuve",
          "Drolet / Marie-Anne",
          "Bercy / Rachel",
          "Larivière / de Lorimier",
          "Métro Laurier (Berri / Laurier)",
          "Gauthier / Papineau",
          "Gauthier / de Lorimier",
          "Gauthier / Parthenais",
          "Marquette / Rachel",
          "des Érables / Rachel",
          "Calixa-Lavallée / Rachel",
          "Rachel / de Brébeuf",
          "du Parc-La Fontaine / Duluth",
          "du Parc-La Fontaine / Roy",
          "Calixa-Lavallée / Sherbrooke",
          "Émile-Duployé / Sherbrooke",
          "Chapleau / du Mont-Royal",
          "Messier / du Mont-Royal",
          "Parthenais / du Mont-Royal",
          "Bordeaux / Mont-Royal",
          "Marie-Anne / Papineau",
          "Marquette / du Mont-Royal",
          "de Lanaudière / du Mont-Royal",
          "de la Roche / Marie-Anne",
          "de Brébeuf / du Mont-Royal",
          "de Brébeuf / Gilford",
          "Ann / Wellington",
          "Garnier / St-Joseph",
          "Cartier / St-Joseph",
          "St-Dominique / de Bellechasse",
          "Marquette / Laurier",
          "de Lanaudière / Laurier",
          "Laurier / de Brébeuf",
          "Gerry-Boulet / St-Grégoire",
          "Garnier / St-Grégoire",
          "Marmier / St-Denis",
          "Boyer / du Mont-Royal",
          "de Mentana / Laurier",
          "Wolfe / Robin",
          "Berri / Cherrier",
          "Roy / St-Denis",
          "St-André / Cherrier",
          "du Parc-Lafontaine / Rachel",
          "St-Hubert / Duluth",
          "Rivard / Rachel",
          "Duluth  / St-Denis",
          "des Soeurs-Grises / Marguerite d'Youville",
          "Clark / Rachel",
          "de Bullion / du Mont-Royal",
          "Laval / du Mont-Royal",
          "Métro Mont-Royal (Rivard / du Mont-Royal)",
          "des Érables / Bélanger",
          "St-Hubert / Laurier",
          "Resther / du Mont-Royal",
          "de Mentana / Marie-Anne",
          "Chabot / Villeray",
          "Pontiac / Gilford",
          "St-Zotique / Clark",
          "Boucher / St-Denis",
          "de l'Esplanade / Fairmount",
          "de Gaspé / Fairmount",
          "de Bullion / St-Joseph",
          "Villeneuve / St-Laurent",
          "de Bordeaux / Masson",
          "Hélène-Baillargeon / St-Denis",
          "Clark / St-Viateur",
          "Maguire / St-Laurent",
          "de l'Hôtel-de-Ville / Villeneuve",
          "Aylmer / Sherbrooke",
          "Milton / du Parc",
          "Prince-Arthur / du Parc",
          "Ste-Famille / des Pins",
          "Hutchison / des Pins",
          "Milton / Clark",
          "Métro Sauvé (Berri / Sauvé)",
          "Roy / St-Laurent",
          "Duluth / de l'Esplanade",
          "Duluth / St-Laurent",
          "Square St-Louis (du Square St-Louis / Laval)",
          "Metcalfe / St-Catherine",
          "Parc Jeanne-Mance (monument à sir George-Étienne Cartier)",
          "Vallières / St-Laurent",
          "de l'Hôtel-de-Ville / Roy",
          "Laval / Duluth",
          "du Mont-Royal / Clark",
          "de l'Esplanade / du Mont-Royal",
          "Parc Jeanne-Mance (du Mont-Royal / du Parc)",
          "Villeneuve / du Parc",
          "Villeneuve / St-Urbain",
          "Hôpital Maisonneuve-Rosemont (Rosemont / Chatelain)",
          "Jeanne-Mance / Laurier",
          "St-Dominique / du Mont-Royal",
          "Waverly / St-Viateur",
          "Jeanne-Mance / St-Viateur",
          "Bernard / St-Urbain",
          "St-Dominique / St-Viateur",
          "Laurier / de Bordeaux",
          "Gilford / de Lanaudière",
          "St-Dominique / Napoléon",
          "de Bordeaux / Jean-Talon",
          "Parc Kent (de Kent / Hudson)",
          "Querbes / Laurier",
          "Bloomfield / Bernard",
          "Bloomfield / Van Horne",
          "St-Cyril / Wiseman",
          "St-Dominique / St-Zotique",
          "St-Dominique / Rachel",
          "Bélanger / St-Denis",
          "Marché Jean-Talon (Henri-Julien / Jean-Talon)",
          "de Gaspé / Dante",
          "Mozart / St-Laurent",
          "Métro Jean-Talon (Berri / Jean-Talon)",
          "Boyer / Bélanger",
          "Boyer / St-Zotique",
          "de St-Vallier / St-Zotique",
          "Parc Père-Marquette (Chambord / Rosemont)",
          "des Érables / Dandurand",
          "Cartier / Dandurand",
          "Louis-Hémon / Rosemont",
          "de la Roche /  de Bellechasse",
          "de Hampton / de Monkland",
          "Chabot / de Bellechasse",
          "des Érables / Laurier",
          "Louis-Hébert / de Bellechasse",
          "Chabot / Beaubien",
          "Chambord / Beaubien",
          "Wurtele / de Rouen",
          "Fabre / St-Zotique",
          "Place du Village (St-Jean-Baptiste / Notre-Dame)",
          "de Bordeaux / St-Zotique",
          "Cartier / Bélanger",
          "Christophe-Colomb / St-Joseph",
          "Chambord / de Castelnau",
          "de la Roche / Bélanger",
          "Louis-Hébert / St-Zotique",
          "Louis-Hébert / Bélanger",
          "Fabre / Beaubien",
          "Fullum / Holt",
          "Métro Rosemont (de St-Vallier / Rosemont)",
          "Boyer / Rosemont",
          "de Bellechasse / de St-Vallier",
          "Augustin-Cantin / Shearer",
          "Marie-Anne / St-Hubert",
          "Édouard-Montpetit / de Stirling",
          "McKenna / Édouard-Montpetit",
          "Waverly / Van Horne",
          "Hutchison / Van Horne",
          "Bernard / Jeanne-Mance",
          "Basile-Routhier / Chabanel",
          "Bibliothèque et Complexe aquatique Rosemont (9e avenue / Rosemont)",
          "Boyer / Beaubien",
          "des Bassins / du Séminaire",
          "Notre-Dame / de la Montagne",
          "Guy / Notre-Dame",
          "Louis-Hébert / Beaubien",
          "St-Dominique / Laurier",
          "Métro Charlevoix (Centre / Charlevoix)",
          "des Seigneurs / Notre-Dame",
          "Ste-Émilie / Sir-Georges-Etienne-Cartier",
          "Georges-Vanier / Notre-Dame",
          "Quesnel / Vinet",
          "Duvernay / Charlevoix",
          "Marché Atwater",
          "Charlevoix / Lionel-Groulx",
          "Métro Georges-Vanier (St-Antoine / Canning)",
          "Laval / Rachel",
          "4e avenue / de Verdun",
          "de Soissons / de Darlington",
          "Bel Air / St-Antoine",
          "de Kent / de la Côte-des-Neiges",
          "Drolet / St-Zotique",
          "de Lanaudière / Marie-Anne",
          "Jean-Brillant / de la Côte-des-Neiges",
          "McLynn / Plamondon",
          "Bourbonnière / du Mont-Royal",
          "de Bordeaux / Gilford",
          "Métro Préfontaine (Moreau / Hochelaga)",
          "Métro Joliette  (Joliette / Hochelaga)",
          "d'Orléans / Hochelaga",
          "Boyer / Jean-Talon",
          "Aylwin / Ontario",
          "Dézéry / Ontario",
          "Parc Lalancette (de Rouen / Valois)",
          "Métro Viau (Viau / Pierre-de-Coubertin)",
          "Marché Maisonneuve",
          "de la Salle / Ontario",
          "Guizot / St-Laurent",
          "Faillon / St-Denis",
          "Drolet / Gounod",
          "de Gaspé / Jarry",
          "Guizot / St-Denis",
          "de Gaspé / de Liège",
          "Leman / de Chateaubriand",
          "Métro Jarry (Lajeunesse / Jarry)",
          "du Rosaire / St-Hubert",
          "Boyer / Everett",
          "de Chateaubriand / Jarry",
          "Harvard / de Monkland",
          "de la Roche / Everett",
          "Regina / de Verdun",
          "Marquette / Villeray",
          "Nicolet / Sherbrooke",
          "Métro St-Michel (Shaughnessy / St-Michel)",
          "Ryde / Charlevoix",
          "de Laprairie / Centre",
          "St-Dominique / Gounod",
          "Lajeunesse / de Liège",
          "de Gaspé / Villeray",
          "Marcil / Sherbrooke",
          "Ontario / Sicard",
          "de Monkland / Girouard",
          "12e avenue / St-Zotique",
          "1ère  avenue / St-Zotique",
          "St-Catherine / St-Laurent",
          "Beaubien / 8e avenue",
          "Molson / Beaubien",
          "1ère avenue / Rosemont",
          "de la Côte St-Antoine / Royal",
          "de Chambly / Rachel",
          "Wilderton  / Van Horne",
          "3e avenue / Holt",
          "10e avenue / Masson",
          "U. Concordia - Campus Loyola (Sherbrooke / West Broadway)",
          "d'Orléans / Masson",
          "5e avenue / Masson",
          "Parc du Pélican (1ère avenue / Masson)",
          "7e avenue / St-Joseph Rosemont",
          "15e avenue / Masson",
          "Métro Place St-Henri (St-Ferdinand / St-Jacques)",
          "16e avenue / St-Joseph",
          "de Châteauguay / Ropery",
          "de l'Église / Bannantyne",
          "Parc J.-Arthur-Champagne (de Chambly / du Mont-Royal)",
          "Omer-Lavallée / du Midway",
          "Darling / Sherbrooke",
          "Métro Pie-IX (Pierre-de-Coubertin / de la Salle)",
          "Bloomfied / St-Viateur",
          "Durocher / St-Viateur",
          "Parc Pratt (Dunlop / Van Horne)",
          "Parc Joyce (Rockland / Lajoie)",
          "Davaar / de la Côte-Ste-Catherine",
          "Métro Édouard-Montpetit (du Mont-Royal / Vincent-d'Indy)",
          "Gary-Carter / St-Laurent",
          "St-Dominique / Jean-Talon",
          "Delisle / George-Vanier",
          "11e avenue / du Souvenir",
          "de l'Hôtel-de-Ville / Sherbrooke",
          "Campus MIL (Outremont / Thérèse-Lavoie Roux)",
          "Prince-Arthur / St-Urbain",
          "Parc Jean-Drapeau (Chemin Macdonald)",
          "Casino de Montréal",
          "Métro Parc  (Hutchison / Ogilvy)",
          "La Ronde",
          "de Melrose / Sherbrooke",
          "Letourneux / Hochelaga",
          "Paré / Mountain Sights",
          "Cartier / Rosemont",
          "Notre-Dame-de-Grâce / Décarie",
          "Beaucourt / de la Côte-Ste-Catherine",
          "de Maisonneuve / Mansfield SE",
          "Métro Snowdon (de Westbury / Queen-Mary)",
          "Péloquin / Fleury",
          "Métro Crémazie (Crémazie / Lajeunesse)",
          "Louisbourg / O'brien",
          "Ste-Catherine / Union",
          "Parc St-Henri (Laporte / Guay)",
          "Métro de l'Église (Ross / de l'Église)",
          "Métro Verdun (Willibrord / de Verdun)",
          "Métro Lasalle (de Rushbrooke / Caisse)",
          "Place du Commerce",
          "Clark / Prince-Arthur",
          "Berlioz / de l'Île des Soeurs",
          "St-Hubert / St-Joseph",
          "de Maisonneuve / Greene",
          "Hillside / Ste-Catherine",
          "Victoria / de Maisonneuve",
          "Victoria Hall",
          "de la Côte St-Antoine / Argyle",
          "St-Charles / Montarville",
          "Place Longueuil",
          "St-Charles / Grant",
          "St-Charles / Labonté",
          "Collège Édouard-Montpetit (de Gentilly / de Normandie)",
          "Métro Longueuil - Université de Sherbrooke",
          "Parc Ludger-Duvernay (St-André / St-Hubert)",
          "Cité des Arts du Cirque (Paul Boutet / des Regrattiers)",
          "Letourneux / Ste-Catherine",
          "Drummond / Sherbrooke",
          "Métro Assomption (Chauveau / de l'Assomption)",
          "Jardin Botanique (Pie-IX / Sherbrooke)",
          "19e avenue / St-Zotique",
          "5e avenue / Bannantyne",
          "Beatty / de Verdun",
          "Métro Jolicoeur (de Sève / Drake)",
          "de Bleury / de Maisonneuve",
          "Parc St-Paul (Le Caron / Marc-Sauvalle)",
          "Chambord / Fleury",
          "Mozart / Waverly",
          "LaSalle / Crawford",
          "29e avenue / St-Zotique",
          "LaSalle / 80e avenue",
          "Natatorium (LaSalle / Rolland)",
          "Francis / Fleury",
          "Métro Plamondon (Carlton / Victoria)",
          "Grand Boulevard / Sherbrooke",
          "Park Row O / Sherbrooke",
          "Ontario / Viau",
          "Métro Cadillac (Cadillac / Sherbrooke)",
          "Du Quesne / Pierre-de-Coubertin",
          "26e avenue / Beaubien",
          "Léa-Roback / Sir-Georges-Etienne-Cartier",
          "Métro Monk (Allard / Beaulieu)",
          "Hamel / Sauvé",
          "Montmorency / Richardson",
          "d'Outremont / Ogilvy",
          "St-André / Ste-Catherine",
          "35e avenue / Beaubien",
          "de Normanville / Villeray",
          "Fortune / Wellington",
          "27e avenue / Rosemont",
          "Lajeunesse / Villeray",
          "Métro Henri-Bourassa (Henri-Bourassa / Millen)",
          "Jacques-Casault / Christophe-Colomb",
          "6e avenue / Villeray",
          "Union / René-Lévesque",
          "Pierre-de-Coubertin / Langelier",
          "Canning / Notre-Dame",
          "St-Patrick / Briand",
          "St-Marc / Sherbrooke",
          "Hamilton / Jolicoeur",
          "Bloomfield / Jean-Talon",
          "Métro Acadie (de l'Acadie / Beaumont)",
          "Waverly / St-Zotique",
          "Young / Wellington",
          "St-Laurent / St-Jacques",
          "de Mentana / St-Joseph",
          "Hutchison / Beaubien",
          "cyclo",
          "Centre ÉPIC (St-Zotique / 40e avenue)",
          "Dubois / Eadie",
          "Bloomfield / Ball",
          "Tolhurst / Fleury",
          "Guy / Sainte-Catherine",
          "Émile-Journault / de Chateaubriand",
          "Marquette / Fleury",
          "Clark / Fleury",
          "Kirkfield / de Chambois",
          "Everett / Garnier",
          "Panet / Ste-Catherine",
          "Earnscliffe / Queen-Mary",
          "Métro Beaudry (Beaudry / Ste-Catherine)",
          "St-Christophe / René-Lévesque",
          "Benny / Sherbrooke",
          "Métro Université de Montréal (Édouard-Montpetit / Louis-Collin)",
          "Parc des Rapides (LaSalle / 6e avenue)",
          "Métro Langelier (Langelier / Sherbrooke)",
          "Bennett / Adam",
          "Valois / Ste-Catherine",
          "Casgrain / St-Viateur",
          "St-Germain / Hochelaga",
          "Dollard / Van Horne",
          "Durocher / Bernard",
          "Parc Howard (de l'Épée / de Liège)",
          "Métro Laurier (Berri / St-Joseph)",
          "Alexandra / Jean-Talon",
          "St-Dominique / Bernard",
          "Maguire / Henri-Julien",
          "Fullum / Marie-Anne",
          "de Gaspé / St-Viateur",
          "Cartier / Masson",
          "de Bordeaux / Marie-Anne",
          "Berri / Rachel",
          "Drolet / Laurier",
          "Aylmer / Prince-Arthur",
          "Atwater / Greene",
          "Fullum / Gilford",
          "Labadie / du Parc",
          "Durocher / Sherbrooke",
          "Guilbault / Clark",
          "du Mont-Royal / Augustin-Frigon",
          "St-Urbain / Beaubien",
          "Grand Boulevard / de Terrebonne",
          "Ernest-Gendreau / du Mont-Royal",
          "Parc Maisonneuve (Viau / Sherbrooke)",
          "de Maisonneuve / Mansfield (nord)",
          "Peel / Ottawa",
          "Métro Angrignon (Lamont /  des Trinitaires)",
          "Parc de Dieppe",
          "Ottawa / William",
          "Jogues / Allard",
          "Shearer / Centre",
          "Ropery / Augustin-Cantin",
          "de la Côte St-Paul / St-Ambroise",
          "Rose-de-Lima / Workman",
          "Bibliothèque de Verdun (Brown / Bannantyne)",
          "2e avenue / Wellington",
          "Gordon / Wellington",
          "Argyle / de Verdun",
          "de l'Église / de Verdun",
          "de Castelnau / Lajeunesse",
          "William / Robert-Bourassa",
          "Drolet / Jarry",
          "Clark / de Liège",
          "de Lanaudière / Bélanger",
          "St-Urbain / de la Gauchetière",
          "City Councillors / du President-Kennedy",
          "Richmond / des Bassins",
          "Jeanne-Mance / René-Lévesque",
          "Bourgeoys / Favard",
          "St-Mathieu / Sherbrooke",
          "Beaudry / Sherbrooke",
          "Logan / de Champlain",
          "St-André / Robin",
          "Michelet / Jean-Talon",
          "Tupper / du Fort",
          "Jean Langlois / Fullum",
          "Hochelaga / Chapleau",
          "Notre-Dame / Gauvin",
          "du President-Kennedy / Union",
          "St-Hubert / de Maisonneuve (nord)",
          "Jeanne-d'Arc / Ontario",
          "Graham / Brookfield",
          "Graham / Wicksteed",
          "Métro Lionel-Groulx (St-Jacques / Atwater)",
          "McTavish / Sherbrooke",
          "Parc de Bullion (de Bullion / Prince-Arthur)",
          "Metcalfe / du Square-Dorchester",
          "Place des Festivals ( du Président-Kennedy / de Bleury)",
          "St-Jean-Baptiste / René-Lévesque",
          "Aréna Rodrigue-Gilbert (du Tricentenaire / de Montigny)",
          "du Tricentenaire / Prince-Albert",
          "de St-Firmin / Fleury",
          "d'Iberville / Fleury",
          "Gare Bois-de-Boulogne",
          "Laforest / Dudemaine",
          "Alfred Laliberté / de Poutrincourt",
          "Chabanel / de l'Esplanade",
          "Chabanel / du Parc",
          "Bélanger / des Galeries d'Anjou",
          "Grey / Sherbrooke",
          "Union / Ste-Catherine",
          "des Jockeys / Décarie",
          "Métro de la Savane (de Sorel / Bougainville)",
          "Graham / Kindersley",
          "St-Joseph / 8e avenue Lachine",
          "8e avenue / Notre-Dame Lachine",
          "Parc St-Louis (St-Joseph / 34e avenue)",
          "Victoria / 18e avenue Lachine",
          "St-Joseph Lachine / 21e avenue",
          "Gagne / LaSalle",
          "Mairie d'arrondissement LaSalle (Dupras / Jeannette)",
          "LaSalle / 37e avenue",
          "Parc Highlands (Highlands / LaSalle)",
          "Newman / Senkus",
          "Casgrain / Maguire",
          "Smith / Peel",
          "Métro Radisson (Sherbrooke / des Groseilliers)",
          "Métro Honoré-Beaugrand (Sherbrooke / Honoré-Beaugrand)",
          "Parc Félix-Leclerc (François-Boivin / St-Zotique)",
          "Ste-Claire / Pierre-Tétreault",
          "Duchesneau / de Marseille",
          "Bennett / Pierre-de-Coubertin",
          "Liébert / Hochelaga",
          "University / des Pins",
          "des Récollets / Martial",
          "Dollard / Bernard",
          "Rosemont / Viau",
          "41e avenue / Rosemont",
          "Jeanne-Mance / Beaubien",
          "Ste-Croix / Tassé",
          "Métro du Collège (Cartier / Décarie)",
          "Stinson / Montpellier",
          "Notre-Dame-de-Grâce / Westmount",
          "Thimens / Alexis-Nihon",
          "Sherbrooke / Vignal",
          "O'Brien / Poirier",
          "de Lisieux / Jean-Talon",
          "Parc Ferland (Belleherbe / Albanel)",
          "Glengarry / Graham",
          "St-Jacques / des Seigneurs",
          "Turgeon / Notre-Dame",
          "Elgar / de l'Île-des-Sœurs",
          "LaSalle / Godin",
          "Hickson / Wellington",
          "Argyle / Bannantyne",
          "de Versailles / St-Jacques",
          "Métro de Castelnau (de Castelnau / St-Laurent)",
          "Papineau / Émile-Journault",
          "16e avenue / Jean-Talon",
          "Melville / de Maisonneuve",
          "du Souvenir / Chomedey",
          "Parc Chopin (Dumouchel / Tessier)",
          "Parc St-Claude (7e avenue / 8e rue)",
          "Parc Henri-Dunant (Léger / Henri-Dunant)",
          "Robin / 15e rue",
          "Legrand / Cartier",
          "de Gaspé / Marmier",
          "Cégep Marie-Victorin",
          "Hôpital Sacré-Coeur (Forbes)",
          "Pratt / Bates",
          "Parc Van Horne (de la Peltrie / de Westbury)",
          "St-Rémi / Ste Émilie",
          "de Léry / Sherbrooke",
          "Parc de Beauséjour (Gouin / Henri-d'Arles)",
          "Parc nature de l'Île-de-la-Visitation (Gouin / de Bruchési)",
          "Parc Henri-Julien (Legendre / Henri-Julien)",
          "Parc Georges St-Pierre (Oxford / Upper Lachine)",
          "Parc de la Confédération (Fielding / West Hill)",
          "REV (Souligny / Desmarteau)",
          "des Ormeaux / de Grosbois",
          "Parc MacDonald (Clanranald / Isabella)",
          "Parc Reine-Élizabeth (Penniston / Crawford)",
          "Parc Labelle (LaSalle / Henri-Duhamel)",
          "Parc Champdoré (Champdoré / de Lille)",
          "Beurling / Godin",
          "Parc Loyola (Somerled / Doherty)",
          "Parc Villeray (Christophe-Colomb / Jarry)",
          "Champdoré / de Lorimier",
          "Parc Marlborough (Beauzèle / Robichaud)",
          "Place Rodolphe-Rousseau (Gohier / Édouard-Laurin)",
          "Molson / William-Tremblay",
          "Cégep André-Laurendeau (Lapierre)",
          "Terminus Newman (Airlie / Lafleur)",
          "Parc Ivan-Franko (33e avenue / Victoria)",
          "19e avenue / St-Antoine",
          "Parc des Vétérans (des Vétérans / Broadway)",
          "Monsabré / Boileau",
          "Monk / Biencourt",
          "Egan / Laurendeau",
          "Parc de l'Hôtel-de-Ville (Laurendeau / Ste-Julie)",
          "Parc Sauvé (Balzac / de Bayonne)",
          "Plessis / Logan",
          "41e avenue / Victoria",
          "de Côme / Jean-Talon",
          "Lapierre / Serge",
          "St-Antoine / de la Montagne",
          "McCulloch / de la Côte Ste-Catherine",
          "Lacombe / Victoria",
          "Langelier / Marie-Victorin",
          "Parc Joseph-Robin (18e avenue / Everett)",
          "Centre récréatif Édouard-Rivet (Lesage / Notre-Dame)",
          "Gare d'autocars de Montréal (Berri / Ontario)",
          "Marquette / Gilford",
          "Gilford / St-Denis",
          "Parc Chenier (de l'Aréna / Chenier)",
          "Gloria / Dollard",
          "Dixie / 54e avenue",
          "St-Ambroise / Louis-Cyr",
          "St-Charles / Thomas-Keefer",
          "Gilford / des Érables",
          "Dorion / Rachel",
          "6e avenue / Bélanger",
          "Parc Père-Marquette (de Lanaudière / de Bellechasse)",
          "Messier / St-Joseph",
          "Fullum / Ontario",
          "Travaux publics LaSalle (Cordner / Léger)",
          "8e avenue / Everett",
          "CHU Ste-Justine (de la Côte Ste-Catherine / Hudson)",
          "Durocher / Beaumont",
          "Sabrevois / des Récollets",
          "Parc de Montréal-Est (Notre-Dame Est / David)",
          "Ateliers municipaux de St-Laurent (Cavendish / Poirier)",
          "Rousselot / Jarry",
          "Centre des loisirs (Tassé / Grenet)",
          "Parc St-Laurent (Salk / Thomas-Chapais)",
          "Bibliothèque du Boisé (Thimens / Todd)",
          "Parc St-Laurent (Dutrisac)",
          "Parc Beaulac (rue Élizabeth)",
          "CHSLD St-Michel (8e avenue / Jarry)",
          "Parc Wilfrid-Bastien (Lacordaire / des Galets)",
          "Hôpital Santa Cabrini (St-Zotique / Jeanne-Jugan)",
          "Parc Delorme (Malouin / Laferté)",
          "Mairie d'arrondissement Montréal-Nord (Hébert / de Charleroi)",
          "Parc Luigi-Pirandello (de Bretagne / Jean-Rivard)",
          "Parc LaSalle (10e avenue / Victoria)",
          "Parc Stoney-Point (St-Joseph / 47e avenue)",
          "Parc riverain de Lachine (des Iroquois)",
          "Bibliothèque Jean-Corbeil (Goncourt / Place Montrichard)",
          "Aréna Chaumont (Chaumont / des Ormeaux)",
          "Parc Chamberland (Dorais / de l'Église)",
          "Bassin olympique (Chemin du Chenal le Moyne)",
          "Parc Noel-Nord (Toupin / Keller)",
          "Parc du Bois-Franc (de l'Équateur / des Andes)",
          "Parc Grovehill (St-Antoine / Ivan-Franko)",
          "Parc Summerlea (53e avenue / St-Joseph)",
          "Parc Kirkland (des Érables / Boyer)",
          "Métro Montmorency",
          "Métro Cartier",
          "Parc Painter (Marcotte / Quenneville)",
          "Parc du Mail (Bois de Coulonges / du Mail)",
          "Marché Jean-Talon (Casgrain / Shamrock)",
          "2e avenue / Centrale",
          "Métro de la Concorde (Léo-Lacombe)",
          "Bibliothèque d'Ahuntsic (Lajeunesse / Fleury)",
          "Parc d'Antioche (Place d'Antioche / St-Zotique)",
          "CCI Outremont (Dollard / Durcharme)",
          "Fabrik8 (Waverly / Jean-Talon)",
          "Terminus Le Carrefour (Terry-Fox / Le Carrefour)",
          "LaSalle / 90e avenue",
          "test514",
          "Parc Beaubien Outremont (Stuart / St-Viateur)",
          "HEC (Decelles / Jean-Brillant)",
          "Parc Olympique (Pie-IX / Sherbrooke)",
          "de Chenonceau / Chomedey",
          "Mayfield / St-Martin O",
          "9100",
          "9102",
          "9103",
          "Parc Hébert (Colbert / Provencher)",
          "Parc Courbertin (Valéry / Perrier)",
          "Parc Garibaldi (Liénart / Bélanger)",
          "Alton-Goldbloom / Notre-Dame",
          "Parc Charleroi (Alfred / Louis-Francoeur)",
          "Parc Aimé-Léonard (Gouin / Ste-Gertrude)",
          "Parc Maurice-Bélanger (Hébert / Denommée)",
          "St-Hubert / de Maisonneuve (sud)",
          "CÉGEP du Vieux-Montréal (Ontario / de l'Hôtel-de-Ville)",
          "Complexe sportif Claude Robillard (Émile-Journault)",
          "Gare St-Michel / Montréal-Nord (Pie-IX / 56e)",
          "IUSMM (Georges-Villeneuve)",
          "Parc Eusèbe-Ménard (Gouin / St-Vital)",
          "CHSLD Joseph-François-Perrault (St-Michel / Everett)",
          "Mairie d'arrondissement St-Laurent (Beaudet / Marcel-Laurin)",
          "Hochelaga / de l'Assomption",
          "Gare Montpellier (Muir / de la Côte-Vertu)",
          "Bibliothèque du Vieux-St-Laurent (de l'Église / Filiatrault)",
          "Gare du Ruisseau (Dutrisac / Henri-Bourassa)",
          "Métro St-Laurent 2 ( de Maisonneuve / St-Laurent)",
          "Parc Nicolas-Tillemont (des Érables / Villeray)",
          "BAnQ (Berri)",
          "Parc Ottawa (de Belleville / Fleury)",
          "CHSLD Robert Cliche (de Bellechasse / 16e avenue)",
          "Square Viger (Berri / Viger)",
          "Collège de Rosemont (15e avenue / Beaubien)",
          "Parc Armand-Bombardier (Perras / Armand-Bombardier)",
          "du Mans / des Alouettes",
          "Pierre-Péladeau / du Centropolis",
          "Jeanne-Mance / St-Martin O",
          "de Grenoble / de Cassis",
          "Le Corbusier / St-Martin O",
          "McNamara / St-Martin O",
          "Préfontaine / Marcel-Pépin",
          "Keller / Cousineau",
          "de Chambly / de Rouen",
          "Hôpital Général Juif (de la Côte-Ste-Catherine / Légaré)",
          "Parc Ernest-Rouleau (Gouin)",
          "8115",
          "Square Nelligan (des Appalaches / Alexis-Nihon)",
          "Parc Honoré-Mercier (Notre-Dame / Liébert)",
          "Test ECO5.1.1",
          "CHU Ste-Justine 2 (Decelles / de la Côte-Ste-Catherine)",
          "8099",
          "8139",
          "Grenet / Poirier",
          "8101",
          "Gare Lachine (Sir George Simpson / 48e avenue)",
          "8100"
         ],
         "lat": [
          45.50206,
          45.51016276368593,
          45.53938508196168,
          45.51108373027205,
          45.50965520472071,
          45.52588991809354,
          45.56129266944769,
          45.51166045593874,
          45.512936177874096,
          45.49813207464428,
          45.611230741550536,
          45.51411170862938,
          45.51064978555748,
          45.51340553558378,
          45.51372291221464,
          45.514690595934766,
          45.47259900304475,
          45.52063377251984,
          45.51889,
          45.51814312154928,
          45.513591550752274,
          45.52145824890192,
          45.51086,
          45.59926552299961,
          45.50714391928411,
          45.50761009451047,
          45.502053864057466,
          45.4801330021149,
          45.50459069556304,
          45.50631445605528,
          45.50531166520915,
          45.50424245563397,
          45.501966859101564,
          45.49996470926352,
          45.5008764952487,
          45.50278649802565,
          45.50144108135568,
          45.50060578095098,
          45.521564270906616,
          45.49831217703312,
          45.508140959417744,
          45.49891911390352,
          45.49760527699099,
          45.49857779102015,
          45.5315079142152,
          45.49750375338383,
          45.50820461505136,
          45.49788352593901,
          45.49933033434456,
          45.499191207076606,
          45.50783754150584,
          45.50135588195754,
          45.49863930330429,
          45.49964099818754,
          45.50038,
          45.500015468871446,
          45.51366626207095,
          45.56250903804892,
          45.50651117539984,
          45.505173440423306,
          45.55797068222815,
          45.50527354034462,
          45.47393028235147,
          45.49582294706495,
          45.54990048023633,
          45.50434678685089,
          45.495581350533946,
          45.49428921452628,
          45.52795093787009,
          45.49487159597493,
          45.49168652100804,
          45.49600732302391,
          45.5353599615622,
          45.48952522221574,
          45.491750449903954,
          45.49325704729831,
          45.49285655460094,
          45.49663668261945,
          45.51473288454674,
          45.49682986230046,
          45.4789683985657,
          45.493245802758366,
          45.53862710657643,
          45.51622236316333,
          45.51937252291976,
          45.521052325434745,
          45.49289039867385,
          45.52836601591233,
          45.50265866521738,
          45.52900206660643,
          45.526179830406086,
          45.519131967116216,
          45.52123044585842,
          45.52353,
          45.46693565237702,
          45.52349210923463,
          45.50538591756765,
          45.52435882510794,
          45.526991277453526,
          45.53370598779895,
          45.53456256501449,
          45.53061161207863,
          45.52330366033427,
          45.53183672649831,
          45.499797390231926,
          45.5321322155395,
          45.53789110878484,
          45.53529548038031,
          45.5367,
          45.53407048533949,
          45.53569002831637,
          45.529352149785566,
          45.51007154847701,
          45.50746453265044,
          45.50975858607626,
          45.54303187243879,
          45.4912258547597,
          45.533348,
          45.53195791682639,
          45.54458083116821,
          45.53879934493943,
          45.54740777921938,
          45.5517742671765,
          45.501804363327565,
          45.52240257341408,
          45.53840340979245,
          45.5291345371163,
          45.52809995527671,
          45.52966629503036,
          45.53166363055749,
          45.53292625574653,
          45.52983801723605,
          45.533313304815366,
          45.52783154456306,
          45.52689,
          45.52451761488783,
          45.52286653749578,
          45.52479,
          45.52733971427933,
          45.53867,
          45.53711414,
          45.53640396516409,
          45.534583643143264,
          45.53198492626314,
          45.53229,
          45.53022106537559,
          45.52766001533137,
          45.52927839879717,
          45.530952034513255,
          45.49462764515684,
          45.5330129192707,
          45.53582823686429,
          45.52952466565309,
          45.53543,
          45.5333136054992,
          45.53251395631143,
          45.53383521794791,
          45.5358215436799,
          45.530846300478125,
          45.527432126380575,
          45.53045006508681,
          45.51958082831579,
          45.519266156911335,
          45.51908,
          45.52051578783967,
          45.52551168509886,
          45.52242565278864,
          45.5222776,
          45.52080238036152,
          45.498846367453694,
          45.5173538,
          45.52141314643908,
          45.5223645775784,
          45.524673,
          45.54912085535069,
          45.52895039362793,
          45.52562819123256,
          45.52602656522141,
          45.552289376429215,
          45.527009334270645,
          45.53140956373919,
          45.528150161032585,
          45.521495731487576,
          45.52557815939422,
          45.52404631813311,
          45.52142922483992,
          45.53898439552301,
          45.52974,
          45.5251943015533,
          45.52462848559264,
          45.52348082760688,
          45.50629456823703,
          45.50936142835129,
          45.51059,
          45.51283174510449,
          45.51069,
          45.5126400299994,
          45.55069206841976,
          45.51552884427053,
          45.51509198406273,
          45.51690647640709,
          45.516090801970655,
          45.50083231626815,
          45.5148664330228,
          45.51896722332005,
          45.51733075399989,
          45.51922631024093,
          45.51941,
          45.51825290855221,
          45.51689731423111,
          45.51829,
          45.520188,
          45.575707,
          45.52027633320609,
          45.52055948154798,
          45.5238561444472,
          45.523026476635074,
          45.52626688601944,
          45.52655700191558,
          45.53727946481992,
          45.53200800170645,
          45.51666442219882,
          45.54975479298636,
          45.5057209331225,
          45.51753998795678,
          45.520545179997015,
          45.522745298216094,
          45.52085479492202,
          45.53226461018495,
          45.518593,
          45.53696,
          45.53678525128436,
          45.53429782539273,
          45.53319050274838,
          45.53900036432657,
          45.54006,
          45.53848,
          45.536434338630336,
          45.53708783301333,
          45.54133176097677,
          45.53923559055867,
          45.54433850465683,
          45.53718135927993,
          45.47117930747152,
          45.5425697477813,
          45.53857413661824,
          45.546661109634606,
          45.54437554639807,
          45.539900246044354,
          45.5376278134876,
          45.543653916207866,
          45.640002860465096,
          45.546539011777845,
          45.546779039476185,
          45.53036486555959,
          45.545369233087456,
          45.54166959576632,
          45.55001,
          45.55158518908433,
          45.54189933152816,
          45.54391953154915,
          45.531921043052655,
          45.53409866804061,
          45.53341043363302,
          45.48390169543355,
          45.5246829812827,
          45.50723,
          45.50116506773693,
          45.527363,
          45.52497706918177,
          45.52428310031213,
          45.54986843142164,
          45.5520234093726,
          45.537041,
          45.49047561880464,
          45.49302901258371,
          45.48998450498787,
          45.5481863712796,
          45.52361490311454,
          45.478346880342265,
          45.48772278774177,
          45.472781067977614,
          45.48504797982277,
          45.485889,
          45.4820980397155,
          45.48020822800015,
          45.48392802,
          45.4891,
          45.52017845247635,
          45.4568844514464,
          45.50689914049937,
          45.4824297233159,
          45.50144933057703,
          45.53488214147823,
          45.52932643090091,
          45.49602276227824,
          45.48911308766352,
          45.55358456339093,
          45.53611005443118,
          45.541374968866094,
          45.54690718297082,
          45.55061693669672,
          45.54152678327907,
          45.54430657661276,
          45.54095791741757,
          45.54814504700217,
          45.56308416715535,
          45.55321884238814,
          45.55169283687059,
          45.53968044327973,
          45.53989085278141,
          45.54095134225734,
          45.540780049798,
          45.543423548290185,
          45.54248521237199,
          45.54721107501036,
          45.54355974189168,
          45.54481928225348,
          45.54310243053054,
          45.545841561840085,
          45.474565185029945,
          45.544867,
          45.467369,
          45.550681320460136,
          45.54969542033443,
          45.559199,
          45.4757434,
          45.48059248038378,
          45.53873794947064,
          45.545580534390176,
          45.53888723230076,
          45.471743,
          45.55626186680846,
          45.47710675189806,
          45.5568667309625,
          45.551937362101,
          45.50993151446477,
          45.55345684597528,
          45.54968589617967,
          45.54779995287998,
          45.46892698487744,
          45.54991069359101,
          45.51014162409143,
          45.54800352985515,
          45.55037651450808,
          45.45750908083069,
          45.557192,
          45.54752382909683,
          45.5451997,
          45.54710817336986,
          45.55389801568004,
          45.47729315148685,
          45.55293611277267,
          45.47930107352825,
          45.4632535358533,
          45.551584,
          45.5457759528664,
          45.54539579902699,
          45.55524110710243,
          45.51898660413148,
          45.52079584115535,
          45.514947674964425,
          45.515617,
          45.514379,
          45.510200304274754,
          45.53613488953656,
          45.53520398241678,
          45.48597399321214,
          45.56933906192115,
          45.5145247302944,
          45.52311432992147,
          45.51258740220925,
          45.51252079509179,
          45.5063732,
          45.53035130173597,
          45.52156536710626,
          45.46981978744856,
          45.55465888075087,
          45.49810026070624,
          45.54124722370603,
          45.47738495518824,
          45.491513,
          45.50229349416256,
          45.48542414888848,
          45.55702223161539,
          45.54640752148169,
          45.53039449604383,
          45.50373771539475,
          45.48013378575666,
          45.462846046287325,
          45.459487694540734,
          45.47069642604657,
          45.46714,
          45.513342512307055,
          45.45998577640931,
          45.528087917632654,
          45.48697062,
          45.48282602624293,
          45.47742856483265,
          45.48129146961133,
          45.48624101696415,
          45.53368199320325,
          45.52841043752244,
          45.539824,
          45.53527504835821,
          45.53722603812578,
          45.52331869398737,
          45.53147464147482,
          45.55984236120471,
          45.55078357889704,
          45.499967529242944,
          45.569789,
          45.554946972033726,
          45.56168275734862,
          45.456365,
          45.450729976972944,
          45.45608545783109,
          45.507096455662456,
          45.46174102134744,
          45.55982811984724,
          45.5315236502754,
          45.43791380065227,
          45.56776565172907,
          45.4157471675921,
          45.44454701497536,
          45.56387237463668,
          45.49530079236066,
          45.46670033299904,
          45.46072936353252,
          45.5594818,
          45.57683333463968,
          45.57505358749168,
          45.56485589064712,
          45.472051276471305,
          45.451030919298056,
          45.56076192837154,
          45.48511326136532,
          45.52687028194893,
          45.516426545782224,
          45.570081,
          45.547172039327485,
          45.477923,
          45.563709940264175,
          45.54218173507584,
          45.55675103297278,
          45.552123,
          45.55873962047568,
          45.50235036136798,
          45.580314546424674,
          45.48631864401023,
          45.46339729163665,
          45.49444855920154,
          45.45670282849069,
          45.52746031240825,
          45.52357479400008,
          45.53050525974957,
          45.49282530947313,
          45.50649566410142,
          45.52910695379893,
          45.52605851018324,
          45.53007509225256,
          45.57414703721992,
          45.45760820718457,
          45.52995941738481,
          45.54407915308118,
          45.49497512853125,
          45.54983321292286,
          45.56735205736566,
          45.54758205939525,
          45.51293324107222,
          45.54758153109644,
          45.51999897796297,
          45.48184507137741,
          45.51888453178292,
          45.5150280816668,
          45.4648769981855,
          45.50363996257211,
          45.42947143740888,
          45.58284663189181,
          45.55365135666641,
          45.54522973039872,
          45.52751292628879,
          45.543652466151,
          45.51915286772737,
          45.52222528598142,
          45.53318929909303,
          45.52723106564012,
          45.53233064590805,
          45.52793332015246,
          45.527041096087785,
          45.53650541861215,
          45.5276726466961,
          45.5380207402854,
          45.53340912723174,
          45.52287768023207,
          45.52625187609252,
          45.50856686947439,
          45.48049514330605,
          45.53922374455291,
          45.5198946757576,
          45.50707624836584,
          45.514107949601446,
          45.54355786336148,
          45.52954744851231,
          45.470535000953966,
          45.549713734001415,
          45.56493679334249,
          45.50238607958335,
          45.49419955357054,
          45.44705915105563,
          45.501863463435576,
          45.48972725318433,
          45.450020323797766,
          45.4828250990486,
          45.48097552629275,
          45.46766565386597,
          45.48026417718717,
          45.44826204820947,
          45.457784797618295,
          45.46098527155975,
          45.45301583620112,
          45.46300108733155,
          45.54043190217008,
          45.49716534003792,
          45.54195463236575,
          45.5399716347916,
          45.54365085053057,
          45.50707812811467,
          45.50625103256782,
          45.48752158511353,
          45.5063713381299,
          45.47993042065731,
          45.49578910481176,
          45.52303493310712,
          45.5231943285584,
          45.5181280865132,
          45.57627820285533,
          45.49122961531575,
          45.526499983000186,
          45.53445294687473,
          45.50002580878596,
          45.5051022424836,
          45.51613214980722,
          45.54959767887176,
          45.52022241072457,
          45.51693654712809,
          45.48295816149219,
          45.50277615861811,
          45.515604257816335,
          45.50022226680107,
          45.50764392965887,
          45.64141535746634,
          45.65140583915357,
          45.64954588445726,
          45.57062472207837,
          45.57543175951154,
          45.53972553109637,
          45.539806548176045,
          45.53308032414161,
          45.54068551727877,
          45.53830765459552,
          45.59722114932571,
          45.47629426230192,
          45.504027213143104,
          45.49404432109336,
          45.50045094800223,
          45.514080696641386,
          45.431518914135125,
          45.43498715540587,
          45.432839840726125,
          45.43579350588776,
          45.43352120253739,
          45.422451407155854,
          45.429166968311485,
          45.41631023854958,
          45.42612352042827,
          45.44404309237571,
          45.52576254881296,
          45.49276061084002,
          45.58917500418707,
          45.5967964774917,
          45.5914549914687,
          45.60191332161639,
          45.60962627826218,
          45.55774273362134,
          45.59587457490178,
          45.50817464963893,
          45.59089190991344,
          45.51678269880724,
          45.56833021674857,
          45.57178977666956,
          45.527650097960205,
          45.51953948301331,
          45.50843904979172,
          45.51962176248447,
          45.48046706437983,
          45.50897852206792,
          45.489979216588914,
          45.52252484113786,
          45.57934937043077,
          45.59576800881258,
          45.50918998627081,
          45.48918571608228,
          45.47888852807208,
          45.45682318753668,
          45.44693448484644,
          45.46484230147321,
          45.453318765468914,
          45.49277435999721,
          45.53570881624427,
          45.55988367688166,
          45.56244008398078,
          45.48184019359366,
          45.55188644388879,
          45.570726609302966,
          45.562152236510016,
          45.56843961893042,
          45.559495502858624,
          45.55233742797057,
          45.529668174024685,
          45.61749978312808,
          45.5319435900764,
          45.51694782364431,
          45.490494421832885,
          45.46976641104386,
          45.54099971663243,
          45.526765,
          45.57833184623925,
          45.5460355901214,
          45.46887995929811,
          45.47188199358608,
          45.604620837709874,
          45.605901731906485,
          45.48274245886277,
          45.43914465255811,
          45.47256100297732,
          45.5692509593831,
          45.44791581215845,
          45.45976107571447,
          45.54813638885782,
          45.566869345371856,
          45.52234149817879,
          45.5129938566323,
          45.54154850456526,
          45.43605512104547,
          45.42505966615074,
          45.43745998781385,
          45.43977865314493,
          45.63158117102497,
          45.57179634822239,
          45.45866319241031,
          45.45290792768395,
          45.630873806604825,
          45.59836857189897,
          45.5218942750191,
          45.44053238705948,
          45.58830296569168,
          45.43854405099729,
          45.49537171535007,
          45.51577505385328,
          45.49048314001669,
          45.61451982045293,
          45.56481129244175,
          45.62835934791188,
          45.516926210319546,
          45.53385065978592,
          45.52515518044864,
          45.60248649638568,
          45.42971096449354,
          45.44338026469991,
          45.47519326260791,
          45.477605,
          45.53723648862597,
          45.53163403743962,
          45.55456382820465,
          45.53932399260009,
          45.53946063965585,
          45.5303174,
          45.44527192876118,
          45.55776151418005,
          45.50398168549117,
          45.52800016604284,
          45.583287878804136,
          45.61269083010209,
          45.506175841460966,
          45.55081979211847,
          45.51473429416659,
          45.6062348,
          45.50403766981151,
          45.52591381815231,
          45.5200557245067,
          45.5616903,
          45.5864002,
          45.579346,
          45.5904902,
          45.59398503487043,
          45.57940569041942,
          45.43805550384184,
          45.43656827071224,
          45.43054314462451,
          45.6027276,
          45.610926628992026,
          45.502989,
          45.5169025120042,
          45.51758306374252,
          45.51317758246596,
          45.43982382100397,
          45.43836713933041,
          45.44606092178209,
          45.55814299291968,
          45.56007440937141,
          45.528630548578505,
          45.59833498124187,
          45.53519006163501,
          45.43289463113104,
          45.5604898518365,
          45.5534000891078,
          45.59566584124368,
          45.52001910239164,
          45.53330725719417,
          45.56842034638607,
          45.41774583815495,
          0,
          45.51596969492228,
          45.49772282989976,
          45.554824549823,
          45.56157,
          45.553017541248565,
          0,
          0,
          0,
          45.57237805962001,
          45.5839877335556,
          45.586476480180046,
          45.54502601340392,
          45.59953472156509,
          45.60835820969716,
          45.5877138098252,
          45.51586835126322,
          45.51401222645779,
          45.55298554800475,
          45.583197821913785,
          45.58661042838809,
          45.59253950875074,
          45.55969734528566,
          45.50682415585665,
          45.56688309109519,
          45.52374047147138,
          45.512843286755896,
          45.52814371649508,
          45.51076983368672,
          45.55463653358596,
          45.51601387670667,
          45.58116,
          45.557568,
          45.51221209004337,
          45.55774990838239,
          45.6391233,
          45.58033485941123,
          45.56251175219665,
          45.55742148238964,
          45.57889719514108,
          45.56500671740751,
          45.57120355585774,
          45.54365380040509,
          45.52355020292929,
          45.54710313981358,
          45.49624140543275,
          45.63131269772338,
          0,
          45.51431824920811,
          45.59275253568305,
          0,
          45.50094101588506,
          0,
          0,
          45.51871924623225,
          0,
          45.447821314280105,
          0
         ],
         "legendgroup": "",
         "lon": [
          -73.56295,
          -73.55663707494385,
          -73.54099988937377,
          -73.56797754764557,
          -73.55400860309601,
          -73.65003436803818,
          -73.57611326515325,
          -73.56213569641113,
          -73.56124520301817,
          -73.57762072817422,
          -73.5312415660519,
          -73.552655428648,
          -73.56511591007802,
          -73.56259435415267,
          -73.5603104531765,
          -73.55990141630173,
          -73.5398056358099,
          -73.56390595436096,
          -73.56353,
          -73.56800436973572,
          -73.56625556945801,
          -73.56204986572264,
          -73.54983,
          -73.51226069033146,
          -73.55511903762817,
          -73.55183601379395,
          -73.57346534729004,
          -73.58393132686615,
          -73.55918794870377,
          -73.55967122894072,
          -73.56089115142822,
          -73.553469479084,
          -73.55515256524086,
          -73.55615437030792,
          -73.55900555849075,
          -73.55913430452347,
          -73.56014415621758,
          -73.56544822454453,
          -73.57036739587784,
          -73.56725603342056,
          -73.57492983341217,
          -73.55725407600403,
          -73.55534970760345,
          -73.56024205684662,
          -73.60308364033699,
          -73.55284452438353,
          -73.56881439685822,
          -73.56856763362885,
          -73.57175691987322,
          -73.56942057609558,
          -73.56313616037369,
          -73.57173800468445,
          -73.57422709465027,
          -73.576257401146,
          -73.57507,
          -73.57938900589943,
          -73.53842496871948,
          -73.61656039953232,
          -73.57666924595833,
          -73.5706517100334,
          -73.5291700065136,
          -73.5674786567688,
          -73.60473453998564,
          -73.57696294784546,
          -73.58308374881744,
          -73.56894850730896,
          -73.55371087789534,
          -73.56380335986614,
          -73.59502326697111,
          -73.57112377882004,
          -73.57676714658737,
          -73.57334746981905,
          -73.60363483428955,
          -73.5844581949641,
          -73.58394473791122,
          -73.56808215379715,
          -73.58065430100396,
          -73.57612865511328,
          -73.55961576104164,
          -73.57913017272949,
          -73.61959934234618,
          -73.58368472341681,
          -73.55283915996552,
          -73.55297327041626,
          -73.55195805430411,
          -73.54986727237701,
          -73.57761260132973,
          -73.55117082595825,
          -73.52753520011902,
          -73.54619935154915,
          -73.54922890663147,
          -73.55788965214742,
          -73.55386108160019,
          -73.55199,
          -73.63153114914894,
          -73.56073021888733,
          -73.5704317688942,
          -73.56053441762924,
          -73.55821162462234,
          -73.55217933654784,
          -73.55478646466509,
          -73.54911457747221,
          -73.55799973011017,
          -73.55348825454712,
          -73.6301752924919,
          -73.55876013636589,
          -73.6182153224945,
          -73.55116009712219,
          -73.56081,
          -73.56265068054199,
          -73.56586396694183,
          -73.56331842485814,
          -73.57075229287146,
          -73.57866883277892,
          -73.57610732316971,
          -73.56256484985352,
          -73.58763009309769,
          -73.605834,
          -73.60700100660324,
          -73.5717111825943,
          -73.58870029449461,
          -73.60766887664795,
          -73.60347837231528,
          -73.57434511184692,
          -73.58117669820786,
          -73.56196403503418,
          -73.55923354625702,
          -73.58843871625139,
          -73.56733649969101,
          -73.56536373496056,
          -73.56377989053726,
          -73.5703244805336,
          -73.56671154499054,
          -73.5719096660614,
          -73.57264,
          -73.57197672128677,
          -73.56837719678879,
          -73.56545,
          -73.56485076248646,
          -73.56936,
          -73.5710031,
          -73.57141345739365,
          -73.57315957546234,
          -73.57222616672516,
          -73.57544,
          -73.57699647545813,
          -73.57612399398931,
          -73.57792854309082,
          -73.58158497154362,
          -73.55674982070923,
          -73.58128666877745,
          -73.57869029045105,
          -73.60488876700401,
          -73.5822,
          -73.58373686671257,
          -73.58481109142303,
          -73.58928233385086,
          -73.58710169792175,
          -73.59832721208477,
          -73.57991673052311,
          -73.58763813972473,
          -73.5601159930229,
          -73.5692971944809,
          -73.5727,
          -73.567695915699,
          -73.57424452900887,
          -73.57418417930603,
          -73.5775906,
          -73.575798869133,
          -73.55462982326571,
          -73.58212888,
          -73.58498811721802,
          -73.58414590358734,
          -73.58255,
          -73.60087350010872,
          -73.587866127491,
          -73.58177483081818,
          -73.57785880565643,
          -73.61300647258759,
          -73.58576595783234,
          -73.61271411180496,
          -73.59169363975525,
          -73.5968267172575,
          -73.59285570681095,
          -73.59015061847458,
          -73.58953826151264,
          -73.5824453830719,
          -73.59527,
          -73.59935637563467,
          -73.5958108305931,
          -73.58732756238169,
          -73.57282698154448,
          -73.57386365532875,
          -73.57547,
          -73.57688784599304,
          -73.57805,
          -73.57060074806213,
          -73.65636706352234,
          -73.5758525133133,
          -73.58114182949066,
          -73.57950568199158,
          -73.5701286792755,
          -73.57245951890945,
          -73.58475860237377,
          -73.5836161673069,
          -73.57449866831303,
          -73.57718793155072,
          -73.58685,
          -73.5883381962776,
          -73.58910799026489,
          -73.59235,
          -73.590559,
          -73.561562,
          -73.59497621666378,
          -73.58582027256489,
          -73.60012650489807,
          -73.60184043645859,
          -73.60319092869759,
          -73.5982757806778,
          -73.5791677236557,
          -73.58044445514679,
          -73.57722043991089,
          -73.60556602478027,
          -73.62945914268494,
          -73.59783187508583,
          -73.60820215362764,
          -73.61328139901161,
          -73.61573964357376,
          -73.6110632121563,
          -73.581566,
          -73.61199,
          -73.6148879583925,
          -73.61217230558395,
          -73.61546069383621,
          -73.6142510175705,
          -73.60897,
          -73.60556,
          -73.60783427975548,
          -73.59321847558022,
          -73.58387768268585,
          -73.58594566583633,
          -73.58794391155243,
          -73.59750330448149,
          -73.6270022392273,
          -73.59214425086974,
          -73.57773005962372,
          -73.58868420124054,
          -73.59564453363419,
          -73.59936207532883,
          -73.5533943772316,
          -73.60126135876271,
          -73.49011301994324,
          -73.59866470098495,
          -73.60281676054001,
          -73.58439266681671,
          -73.61176248650736,
          -73.60760450363159,
          -73.59576,
          -73.59916493296623,
          -73.59758377075194,
          -73.58424894533528,
          -73.59804779291153,
          -73.59553456306458,
          -73.60112428665161,
          -73.56363236904144,
          -73.5788968205452,
          -73.615085,
          -73.62054750323296,
          -73.607723,
          -73.6106863617897,
          -73.6049484461546,
          -73.64765658974648,
          -73.58171837870032,
          -73.602026,
          -73.56022328138351,
          -73.56481790542603,
          -73.56710570398717,
          -73.592010140419,
          -73.59245739877223,
          -73.5696920567716,
          -73.5690826177597,
          -73.5852724313736,
          -73.5719633102417,
          -73.577514,
          -73.57487618923187,
          -73.57759863138199,
          -73.57731164,
          -73.57656,
          -73.57942387461662,
          -73.57260704040527,
          -73.623526096344,
          -73.58367975812143,
          -73.63305062055588,
          -73.60941231250763,
          -73.57480645179749,
          -73.62184492885717,
          -73.6470128595829,
          -73.56052905321121,
          -73.5762870311737,
          -73.5542231798172,
          -73.5515570640564,
          -73.54901432991028,
          -73.61248868051915,
          -73.54551016355799,
          -73.54702949523926,
          -73.5471260547638,
          -73.5481941328544,
          -73.53978216648102,
          -73.54009049478918,
          -73.63450437784195,
          -73.62026989459991,
          -73.62637460231781,
          -73.63040059804916,
          -73.63246187567711,
          -73.63634169101715,
          -73.63105237483978,
          -73.62777203321457,
          -73.6215104162693,
          -73.61607524188003,
          -73.62665355205536,
          -73.62403571605682,
          -73.614841,
          -73.570769,
          -73.61533787112421,
          -73.55464696884155,
          -73.599658,
          -73.5646007,
          -73.56577813625336,
          -73.62802147865295,
          -73.63490000367165,
          -73.62390697002411,
          -73.613924,
          -73.53744059801102,
          -73.6214379966259,
          -73.589306473732,
          -73.59392791986465,
          -73.56380671262741,
          -73.58784198760986,
          -73.59115451574326,
          -73.58486741781235,
          -73.6198702454567,
          -73.55826258659361,
          -73.6247518658638,
          -73.58138993382454,
          -73.57373356819151,
          -73.6394852399826,
          -73.569847,
          -73.57513636350632,
          -73.57645065,
          -73.56936693191528,
          -73.5713866353035,
          -73.58732163906097,
          -73.56577143073082,
          -73.56629446148872,
          -73.57587933540344,
          -73.561916,
          -73.56217458844185,
          -73.5565418866463,
          -73.55082213878632,
          -73.60493557993321,
          -73.6032706975675,
          -73.61962616443634,
          -73.614991,
          -73.610871,
          -73.6114051938057,
          -73.62258464097977,
          -73.6175217570053,
          -73.57283234596252,
          -73.70472729206085,
          -73.56835573911665,
          -73.61815363168716,
          -73.57373893260956,
          -73.53200376033783,
          -73.52457672,
          -73.6243924498558,
          -73.53533238172531,
          -73.61696138978003,
          -73.54660302400589,
          -73.65294188261032,
          -73.59104454517365,
          -73.61527817789465,
          -73.633649,
          -73.5733064264059,
          -73.62816195935011,
          -73.6599015713,
          -73.63842844963074,
          -73.70393217686795,
          -73.56948494911194,
          -73.58590811491013,
          -73.56592163443565,
          -73.57209205627441,
          -73.56542240828276,
          -73.54259,
          -73.57301607728004,
          -73.54395568370819,
          -73.58586251735687,
          -73.58929306,
          -73.59084337949753,
          -73.60016942024231,
          -73.6003303527832,
          -73.59572768211365,
          -73.51526074111462,
          -73.51716578006744,
          -73.508752,
          -73.51361989974976,
          -73.49506705999374,
          -73.52012693881989,
          -73.59242051839828,
          -73.61544728279114,
          -73.53409996037954,
          -73.57697367668152,
          -73.548081,
          -73.55529472231865,
          -73.58564794063568,
          -73.57614,
          -73.5725748538971,
          -73.58193710446358,
          -73.56844156980515,
          -73.58412176370621,
          -73.65832507610321,
          -73.61701235175133,
          -73.58274042606354,
          -73.57968807220459,
          -73.63751649856567,
          -73.57509076595306,
          -73.6555677652359,
          -73.63949386417517,
          -73.62355081379064,
          -73.63407254219055,
          -73.535496,
          -73.54647415224463,
          -73.53893224149942,
          -73.5774926841259,
          -73.5827162861824,
          -73.5939010977745,
          -73.6505614221096,
          -73.56043841700739,
          -73.62672328948975,
          -73.5581123828888,
          -73.573047,
          -73.61815631389618,
          -73.559038,
          -73.57139468193054,
          -73.62268656492233,
          -73.66716161370277,
          -73.630103,
          -73.60589044634253,
          -73.56658279895781,
          -73.5353136062622,
          -73.5702332854271,
          -73.59643578529356,
          -73.58337610960007,
          -73.59764268636354,
          -73.6241751909256,
          -73.62344294786453,
          -73.61470833420753,
          -73.55797827243805,
          -73.55649395853106,
          -73.58480304479599,
          -73.61296892166138,
          -73.60150516033173,
          -73.57462137937546,
          -73.59051011502743,
          -73.6329460144043,
          -73.66735741496086,
          -73.57777043248461,
          -73.64063255488873,
          -73.65378744900227,
          -73.66522908210754,
          -73.63389015197754,
          -73.61220851540565,
          -73.5548883676529,
          -73.63037377595901,
          -73.55593845248222,
          -73.55635821819305,
          -73.62659722566605,
          -73.6182689666748,
          -73.59309915918857,
          -73.54247644543648,
          -73.53414952754974,
          -73.53725016117096,
          -73.59879076480864,
          -73.5534825682771,
          -73.61646920442581,
          -73.60668718814848,
          -73.64188581705093,
          -73.58672618865965,
          -73.62018674612045,
          -73.60122251338906,
          -73.59347056655677,
          -73.56803923845291,
          -73.59738260507582,
          -73.58352363109587,
          -73.57065707445145,
          -73.57748061418532,
          -73.58975838928018,
          -73.57769787311554,
          -73.57782661914825,
          -73.57383679656778,
          -73.59682738780975,
          -73.57228517532349,
          -73.57523024082184,
          -73.56780052185059,
          -73.61071854829788,
          -73.63165721297264,
          -73.56384828686714,
          -73.5555911064148,
          -73.57333794236183,
          -73.55998456478119,
          -73.60229507088661,
          -73.5439610481262,
          -73.56406286358833,
          -73.60030621290207,
          -73.56206325352105,
          -73.56863468885422,
          -73.59391784324544,
          -73.58099363744259,
          -73.57785612344742,
          -73.56772773026023,
          -73.56731025516638,
          -73.57191503047943,
          -73.57156895217486,
          -73.61650675535202,
          -73.55933010578154,
          -73.62994194030762,
          -73.638114631176,
          -73.60565051436424,
          -73.56139540672302,
          -73.57139065861702,
          -73.56500297784805,
          -73.5642009973526,
          -73.55592101812363,
          -73.58259558677672,
          -73.56539458036421,
          -73.55584256350994,
          -73.56185138225555,
          -73.58353972434998,
          -73.58078241348267,
          -73.54575277422555,
          -73.55965197086334,
          -73.5601931065321,
          -73.57187882065773,
          -73.56049686670303,
          -73.54187428951263,
          -73.62985610961914,
          -73.64048302173615,
          -73.57975836854166,
          -73.57589408755302,
          -73.57213497161865,
          -73.57110500335693,
          -73.56932401657104,
          -73.4999567270279,
          -73.50041270256041,
          -73.49191546440125,
          -73.6517858505249,
          -73.64743050198739,
          -73.67716491222382,
          -73.6872661113739,
          -73.6945965886116,
          -73.65337640047073,
          -73.6548838019371,
          -73.56279015541077,
          -73.60617488622665,
          -73.56970220804214,
          -73.65449488162994,
          -73.66142839193344,
          -73.64694982767105,
          -73.67110446095467,
          -73.67079868912697,
          -73.69349151849747,
          -73.6801904439926,
          -73.68354320526123,
          -73.601194024086,
          -73.66280972957611,
          -73.61291594803333,
          -73.65741580724716,
          -73.61375212669373,
          -73.59485328197479,
          -73.55641052126883,
          -73.53965610265732,
          -73.53517949581145,
          -73.56275528669356,
          -73.52441847324371,
          -73.52273898082785,
          -73.54713141918182,
          -73.52352797985077,
          -73.58002064942411,
          -73.64061713218689,
          -73.61142262816429,
          -73.56666326522826,
          -73.56431499123573,
          -73.61229971051216,
          -73.68516325950623,
          -73.6729645729065,
          -73.6662483215332,
          -73.61122308304402,
          -73.69856357574463,
          -73.58932256698608,
          -73.69143962860107,
          -73.58168095350266,
          -73.5953038930893,
          -73.66032063961029,
          -73.57190027832984,
          -73.58198940753937,
          -73.546804189682,
          -73.57219934463501,
          -73.5666268694331,
          -73.5767751932144,
          -73.56885731220245,
          -73.61962348222733,
          -73.63356828689575,
          -73.59533339738846,
          -73.59537899494171,
          -73.74444007873535,
          -73.7370860205192,
          -73.69181513786316,
          -73.6752020941276,
          -73.6989176273346,
          -73.70748996734619,
          -73.60166944563389,
          -73.60601127147675,
          -73.71360540390015,
          -73.62631559371948,
          -73.63852232694626,
          -73.58925875287241,
          -73.55826258659361,
          -73.730423,
          -73.65595400333405,
          -73.6465984582901,
          -73.60943913459778,
          -73.64002168178558,
          -73.51599633693695,
          -73.53436946868896,
          -73.63497912883759,
          -73.59173655509949,
          -73.56998920440674,
          -73.63642623429769,
          -73.58381867408752,
          -73.64477455615997,
          -73.62434014678001,
          -73.64101678133011,
          -73.72167885303497,
          -73.68249848484993,
          -73.56501236557959,
          -73.60577523708344,
          -73.64959917962551,
          -73.69353175163269,
          -73.68137061595917,
          -73.50796043872833,
          -73.54152023792267,
          -73.59602272510529,
          -73.58918591405198,
          -73.49503889679909,
          -73.63610029220581,
          -73.55725058932876,
          -73.70242863893507,
          -73.57783721439773,
          -73.62021625041962,
          -73.56858909130096,
          -73.60060930252075,
          -73.62913727760315,
          -73.6118745803833,
          -73.59580412507057,
          -73.5000479221344,
          -73.56425732374191,
          -73.57891157269478,
          -73.58563594055795,
          -73.5432904958725,
          -73.633883446455,
          -73.71789157390594,
          -73.58094334602356,
          -73.573775,
          -73.5753321647644,
          -73.56824576854706,
          -73.59615683555603,
          -73.59587844472117,
          -73.57605636119843,
          -73.5548669,
          -73.62448364496231,
          -73.60154539346695,
          -73.62283945083618,
          -73.6192358493281,
          -73.63276362419128,
          -73.51004987955093,
          -73.71118605136871,
          -73.62088680267334,
          -73.69144901633263,
          -73.6287838,
          -73.70444297790526,
          -73.68911147117615,
          -73.67795147001743,
          -73.610512,
          -73.5952181,
          -73.570601,
          -73.5902694,
          -73.63767206668854,
          -73.60258877277374,
          -73.67273926734924,
          -73.70836973190308,
          -73.66902440786362,
          -73.5579303,
          -73.54673445224762,
          -73.689113,
          -73.52724552154541,
          -73.72661411762238,
          -73.71306091547012,
          -73.69487822055817,
          -73.71546685695648,
          -73.65079946815968,
          -73.71942043304443,
          -73.68125259876251,
          -73.67731243371964,
          -73.54596734046936,
          -73.61548215150833,
          -73.59685689210892,
          -73.7091851234436,
          -73.66225451231003,
          -73.5596626996994,
          -73.61890733242035,
          -73.62082242965698,
          -73.74687284231186,
          -73.64518761634827,
          0,
          -73.60827505588531,
          -73.61925333738327,
          -73.55370283126831,
          -73.75448,
          -73.75822663307189,
          0,
          0,
          0,
          -73.59370462596415,
          -73.60809333622456,
          -73.570396900177,
          -73.73787671327591,
          -73.62360253930092,
          -73.63850623369217,
          -73.63171823322773,
          -73.56008380651474,
          -73.56598667800426,
          -73.6386477202177,
          -73.62978704273701,
          -73.52969169616699,
          -73.64874824881554,
          -73.60145956277847,
          -73.68184804916382,
          -73.53943817317486,
          -73.67169924080372,
          -73.67612421512604,
          -73.69254536926746,
          -73.56493726372719,
          -73.61255215771962,
          -73.56291957199574,
          -73.6412434,
          -73.579191,
          -73.5546288639307,
          -73.58380123972893,
          -73.5961118,
          -73.68471868336201,
          -73.74370649456978,
          -73.7480603903532,
          -73.70492711663245,
          -73.7319054454565,
          -73.72351884841918,
          -73.55942063033581,
          -73.7138856947422,
          -73.54892447590828,
          -73.62983867526054,
          -73.61631497740746,
          0,
          -73.70799824595451,
          -73.51035632193089,
          0,
          -73.62563699483871,
          0,
          0,
          -73.69875401258469,
          0,
          -73.71091783046722,
          0
         ],
         "marker": {
          "color": [
           19,
           35,
           19,
           15,
           23,
           19,
           23,
           31,
           47,
           23,
           15,
           27,
           23,
           27,
           43,
           26,
           27,
           31,
           19,
           23,
           27,
           23,
           51,
           27,
           15,
           81,
           27,
           19,
           18,
           29,
           38,
           43,
           23,
           19,
           23,
           23,
           27,
           27,
           23,
           31,
           27,
           15,
           47,
           35,
           19,
           70,
           27,
           22,
           27,
           43,
           33,
           23,
           31,
           47,
           49,
           19,
           19,
           31,
           47,
           37,
           15,
           27,
           31,
           31,
           19,
           47,
           27,
           47,
           23,
           17,
           19,
           31,
           23,
           35,
           19,
           23,
           31,
           27,
           31,
           35,
           26,
           15,
           27,
           27,
           19,
           25,
           23,
           19,
           19,
           19,
           23,
           19,
           19,
           25,
           23,
           15,
           21,
           23,
           35,
           23,
           27,
           19,
           19,
           15,
           31,
           27,
           23,
           11,
           15,
           35,
           15,
           19,
           35,
           47,
           39,
           14,
           23,
           23,
           19,
           19,
           27,
           19,
           19,
           31,
           23,
           15,
           35,
           23,
           19,
           15,
           15,
           15,
           19,
           30,
           29,
           23,
           23,
           23,
           27,
           11,
           19,
           23,
           23,
           23,
           19,
           27,
           19,
           27,
           19,
           19,
           23,
           19,
           31,
           27,
           19,
           23,
           23,
           27,
           27,
           18,
           23,
           23,
           39,
           23,
           31,
           19,
           23,
           15,
           23,
           39,
           31,
           15,
           19,
           39,
           15,
           15,
           23,
           19,
           15,
           23,
           11,
           23,
           15,
           23,
           31,
           23,
           19,
           23,
           15,
           23,
           23,
           27,
           23,
           23,
           11,
           23,
           27,
           26,
           23,
           23,
           15,
           31,
           43,
           43,
           23,
           19,
           27,
           27,
           23,
           33,
           15,
           19,
           31,
           23,
           19,
           19,
           23,
           19,
           31,
           19,
           15,
           23,
           15,
           27,
           15,
           23,
           23,
           23,
           31,
           23,
           23,
           23,
           23,
           15,
           19,
           23,
           19,
           19,
           39,
           15,
           23,
           19,
           15,
           15,
           15,
           15,
           27,
           15,
           15,
           15,
           19,
           15,
           19,
           23,
           19,
           15,
           23,
           15,
           19,
           19,
           26,
           19,
           31,
           15,
           31,
           19,
           19,
           23,
           15,
           19,
           27,
           15,
           15,
           23,
           31,
           27,
           27,
           19,
           23,
           23,
           22,
           23,
           19,
           19,
           19,
           32,
           23,
           17,
           19,
           15,
           31,
           23,
           39,
           19,
           19,
           23,
           27,
           23,
           19,
           30,
           19,
           19,
           23,
           23,
           23,
           23,
           55,
           22,
           23,
           19,
           23,
           23,
           23,
           23,
           15,
           15,
           19,
           23,
           15,
           15,
           19,
           11,
           23,
           15,
           27,
           15,
           27,
           23,
           15,
           15,
           15,
           23,
           23,
           15,
           23,
           15,
           27,
           15,
           23,
           15,
           19,
           23,
           19,
           19,
           23,
           27,
           19,
           23,
           39,
           27,
           23,
           23,
           23,
           23,
           15,
           23,
           18,
           23,
           31,
           15,
           15,
           15,
           15,
           15,
           26,
           38,
           35,
           27,
           15,
           27,
           23,
           27,
           47,
           19,
           33,
           23,
           15,
           15,
           15,
           19,
           15,
           23,
           23,
           27,
           15,
           15,
           23,
           34,
           15,
           15,
           27,
           23,
           33,
           31,
           23,
           15,
           19,
           15,
           15,
           15,
           19,
           15,
           15,
           11,
           5,
           19,
           35,
           19,
           34,
           19,
           23,
           27,
           24,
           27,
           15,
           23,
           19,
           21,
           23,
           14,
           15,
           15,
           15,
           23,
           27,
           19,
           19,
           19,
           15,
           19,
           19,
           11,
           15,
           34,
           15,
           23,
           31,
           19,
           15,
           31,
           23,
           27,
           19,
           15,
           16,
           19,
           15,
           31,
           19,
           23,
           17,
           15,
           15,
           19,
           13,
           19,
           27,
           23,
           19,
           26,
           2,
           23,
           23,
           15,
           19,
           31,
           31,
           15,
           19,
           27,
           15,
           19,
           23,
           27,
           19,
           19,
           26,
           23,
           19,
           19,
           19,
           23,
           15,
           19,
           15,
           15,
           18,
           15,
           23,
           19,
           15,
           19,
           19,
           11,
           15,
           27,
           19,
           25,
           15,
           15,
           23,
           19,
           19,
           15,
           31,
           23,
           23,
           19,
           27,
           27,
           35,
           15,
           19,
           15,
           23,
           35,
           27,
           15,
           19,
           15,
           23,
           19,
           15,
           21,
           19,
           19,
           23,
           43,
           31,
           31,
           58,
           15,
           23,
           27,
           19,
           15,
           19,
           19,
           31,
           23,
           19,
           23,
           23,
           19,
           23,
           19,
           19,
           46,
           19,
           31,
           27,
           15,
           15,
           15,
           31,
           19,
           31,
           23,
           19,
           15,
           30,
           23,
           15,
           7,
           19,
           23,
           23,
           31,
           23,
           27,
           15,
           19,
           23,
           19,
           23,
           27,
           19,
           15,
           19,
           15,
           23,
           15,
           19,
           27,
           19,
           23,
           39,
           27,
           23,
           23,
           19,
           15,
           23,
           17,
           27,
           15,
           27,
           23,
           23,
           22,
           19,
           15,
           23,
           19,
           14,
           27,
           23,
           15,
           23,
           23,
           35,
           11,
           15,
           15,
           19,
           27,
           19,
           15,
           15,
           21,
           11,
           13,
           15,
           15,
           23,
           15,
           19,
           19,
           19,
           19,
           23,
           15,
           15,
           15,
           15,
           19,
           15,
           19,
           19,
           15,
           15,
           15,
           25,
           15,
           30,
           19,
           15,
           15,
           23,
           19,
           15,
           15,
           19,
           15,
           19,
           15,
           15,
           15,
           19,
           15,
           11,
           15,
           19,
           19,
           15,
           15,
           39,
           19,
           15,
           19,
           31,
           19,
           15,
           19,
           19,
           19,
           17,
           15,
           15,
           15,
           37,
           19,
           15,
           15,
           19,
           15,
           15,
           19,
           23,
           19,
           15,
           15,
           19,
           15,
           19,
           21,
           15,
           19,
           19,
           21,
           11,
           19,
           19,
           19,
           19,
           19,
           15,
           15,
           15,
           23,
           19,
           15,
           15,
           26,
           15,
           19,
           15,
           19,
           15,
           18,
           23,
           15,
           0,
           15,
           25,
           25,
           23,
           19,
           0,
           0,
           0,
           15,
           19,
           15,
           19,
           15,
           17,
           15,
           19,
           15,
           24,
           15,
           27,
           18,
           18,
           27,
           23,
           15,
           18,
           19,
           23,
           18,
           15,
           15,
           15,
           30,
           25,
           15,
           23,
           23,
           23,
           19,
           19,
           19,
           19,
           15,
           11,
           26,
           19,
           3,
           15,
           27,
           0,
           3,
           3,
           3,
           15,
           2,
           15,
           3
          ],
          "coloraxis": "coloraxis",
          "size": [
           19,
           35,
           19,
           15,
           23,
           19,
           23,
           31,
           47,
           23,
           15,
           27,
           23,
           27,
           43,
           26,
           27,
           31,
           19,
           23,
           27,
           23,
           51,
           27,
           15,
           81,
           27,
           19,
           18,
           29,
           38,
           43,
           23,
           19,
           23,
           23,
           27,
           27,
           23,
           31,
           27,
           15,
           47,
           35,
           19,
           70,
           27,
           22,
           27,
           43,
           33,
           23,
           31,
           47,
           49,
           19,
           19,
           31,
           47,
           37,
           15,
           27,
           31,
           31,
           19,
           47,
           27,
           47,
           23,
           17,
           19,
           31,
           23,
           35,
           19,
           23,
           31,
           27,
           31,
           35,
           26,
           15,
           27,
           27,
           19,
           25,
           23,
           19,
           19,
           19,
           23,
           19,
           19,
           25,
           23,
           15,
           21,
           23,
           35,
           23,
           27,
           19,
           19,
           15,
           31,
           27,
           23,
           11,
           15,
           35,
           15,
           19,
           35,
           47,
           39,
           14,
           23,
           23,
           19,
           19,
           27,
           19,
           19,
           31,
           23,
           15,
           35,
           23,
           19,
           15,
           15,
           15,
           19,
           30,
           29,
           23,
           23,
           23,
           27,
           11,
           19,
           23,
           23,
           23,
           19,
           27,
           19,
           27,
           19,
           19,
           23,
           19,
           31,
           27,
           19,
           23,
           23,
           27,
           27,
           18,
           23,
           23,
           39,
           23,
           31,
           19,
           23,
           15,
           23,
           39,
           31,
           15,
           19,
           39,
           15,
           15,
           23,
           19,
           15,
           23,
           11,
           23,
           15,
           23,
           31,
           23,
           19,
           23,
           15,
           23,
           23,
           27,
           23,
           23,
           11,
           23,
           27,
           26,
           23,
           23,
           15,
           31,
           43,
           43,
           23,
           19,
           27,
           27,
           23,
           33,
           15,
           19,
           31,
           23,
           19,
           19,
           23,
           19,
           31,
           19,
           15,
           23,
           15,
           27,
           15,
           23,
           23,
           23,
           31,
           23,
           23,
           23,
           23,
           15,
           19,
           23,
           19,
           19,
           39,
           15,
           23,
           19,
           15,
           15,
           15,
           15,
           27,
           15,
           15,
           15,
           19,
           15,
           19,
           23,
           19,
           15,
           23,
           15,
           19,
           19,
           26,
           19,
           31,
           15,
           31,
           19,
           19,
           23,
           15,
           19,
           27,
           15,
           15,
           23,
           31,
           27,
           27,
           19,
           23,
           23,
           22,
           23,
           19,
           19,
           19,
           32,
           23,
           17,
           19,
           15,
           31,
           23,
           39,
           19,
           19,
           23,
           27,
           23,
           19,
           30,
           19,
           19,
           23,
           23,
           23,
           23,
           55,
           22,
           23,
           19,
           23,
           23,
           23,
           23,
           15,
           15,
           19,
           23,
           15,
           15,
           19,
           11,
           23,
           15,
           27,
           15,
           27,
           23,
           15,
           15,
           15,
           23,
           23,
           15,
           23,
           15,
           27,
           15,
           23,
           15,
           19,
           23,
           19,
           19,
           23,
           27,
           19,
           23,
           39,
           27,
           23,
           23,
           23,
           23,
           15,
           23,
           18,
           23,
           31,
           15,
           15,
           15,
           15,
           15,
           26,
           38,
           35,
           27,
           15,
           27,
           23,
           27,
           47,
           19,
           33,
           23,
           15,
           15,
           15,
           19,
           15,
           23,
           23,
           27,
           15,
           15,
           23,
           34,
           15,
           15,
           27,
           23,
           33,
           31,
           23,
           15,
           19,
           15,
           15,
           15,
           19,
           15,
           15,
           11,
           5,
           19,
           35,
           19,
           34,
           19,
           23,
           27,
           24,
           27,
           15,
           23,
           19,
           21,
           23,
           14,
           15,
           15,
           15,
           23,
           27,
           19,
           19,
           19,
           15,
           19,
           19,
           11,
           15,
           34,
           15,
           23,
           31,
           19,
           15,
           31,
           23,
           27,
           19,
           15,
           16,
           19,
           15,
           31,
           19,
           23,
           17,
           15,
           15,
           19,
           13,
           19,
           27,
           23,
           19,
           26,
           2,
           23,
           23,
           15,
           19,
           31,
           31,
           15,
           19,
           27,
           15,
           19,
           23,
           27,
           19,
           19,
           26,
           23,
           19,
           19,
           19,
           23,
           15,
           19,
           15,
           15,
           18,
           15,
           23,
           19,
           15,
           19,
           19,
           11,
           15,
           27,
           19,
           25,
           15,
           15,
           23,
           19,
           19,
           15,
           31,
           23,
           23,
           19,
           27,
           27,
           35,
           15,
           19,
           15,
           23,
           35,
           27,
           15,
           19,
           15,
           23,
           19,
           15,
           21,
           19,
           19,
           23,
           43,
           31,
           31,
           58,
           15,
           23,
           27,
           19,
           15,
           19,
           19,
           31,
           23,
           19,
           23,
           23,
           19,
           23,
           19,
           19,
           46,
           19,
           31,
           27,
           15,
           15,
           15,
           31,
           19,
           31,
           23,
           19,
           15,
           30,
           23,
           15,
           7,
           19,
           23,
           23,
           31,
           23,
           27,
           15,
           19,
           23,
           19,
           23,
           27,
           19,
           15,
           19,
           15,
           23,
           15,
           19,
           27,
           19,
           23,
           39,
           27,
           23,
           23,
           19,
           15,
           23,
           17,
           27,
           15,
           27,
           23,
           23,
           22,
           19,
           15,
           23,
           19,
           14,
           27,
           23,
           15,
           23,
           23,
           35,
           11,
           15,
           15,
           19,
           27,
           19,
           15,
           15,
           21,
           11,
           13,
           15,
           15,
           23,
           15,
           19,
           19,
           19,
           19,
           23,
           15,
           15,
           15,
           15,
           19,
           15,
           19,
           19,
           15,
           15,
           15,
           25,
           15,
           30,
           19,
           15,
           15,
           23,
           19,
           15,
           15,
           19,
           15,
           19,
           15,
           15,
           15,
           19,
           15,
           11,
           15,
           19,
           19,
           15,
           15,
           39,
           19,
           15,
           19,
           31,
           19,
           15,
           19,
           19,
           19,
           17,
           15,
           15,
           15,
           37,
           19,
           15,
           15,
           19,
           15,
           15,
           19,
           23,
           19,
           15,
           15,
           19,
           15,
           19,
           21,
           15,
           19,
           19,
           21,
           11,
           19,
           19,
           19,
           19,
           19,
           15,
           15,
           15,
           23,
           19,
           15,
           15,
           26,
           15,
           19,
           15,
           19,
           15,
           18,
           23,
           15,
           0,
           15,
           25,
           25,
           23,
           19,
           0,
           0,
           0,
           15,
           19,
           15,
           19,
           15,
           17,
           15,
           19,
           15,
           24,
           15,
           27,
           18,
           18,
           27,
           23,
           15,
           18,
           19,
           23,
           18,
           15,
           15,
           15,
           30,
           25,
           15,
           23,
           23,
           23,
           19,
           19,
           19,
           19,
           15,
           11,
           26,
           19,
           3,
           15,
           27,
           0,
           3,
           3,
           3,
           15,
           2,
           15,
           3
          ],
          "sizemode": "area",
          "sizeref": 0.2025
         },
         "mode": "markers",
         "name": "",
         "showlegend": false,
         "subplot": "mapbox",
         "type": "scattermapbox"
        }
       ],
       "layout": {
        "coloraxis": {
         "colorbar": {
          "title": {
           "text": "capacity"
          }
         },
         "colorscale": [
          [
           0,
           "#0d0887"
          ],
          [
           0.1111111111111111,
           "#46039f"
          ],
          [
           0.2222222222222222,
           "#7201a8"
          ],
          [
           0.3333333333333333,
           "#9c179e"
          ],
          [
           0.4444444444444444,
           "#bd3786"
          ],
          [
           0.5555555555555556,
           "#d8576b"
          ],
          [
           0.6666666666666666,
           "#ed7953"
          ],
          [
           0.7777777777777778,
           "#fb9f3a"
          ],
          [
           0.8888888888888888,
           "#fdca26"
          ],
          [
           1,
           "#f0f921"
          ]
         ]
        },
        "height": 800,
        "hovermode": "closest",
        "legend": {
         "itemsizing": "constant",
         "tracegroupgap": 0
        },
        "mapbox": {
         "center": {
          "lat": 44.93868770117234,
          "lon": -72.6510886348803
         },
         "domain": {
          "x": [
           0,
           1
          ],
          "y": [
           0,
           1
          ]
         },
         "style": "open-street-map",
         "zoom": 8
        },
        "margin": {
         "t": 60
        },
        "template": {
         "data": {
          "bar": [
           {
            "error_x": {
             "color": "#2a3f5f"
            },
            "error_y": {
             "color": "#2a3f5f"
            },
            "marker": {
             "line": {
              "color": "#E5ECF6",
              "width": 0.5
             },
             "pattern": {
              "fillmode": "overlay",
              "size": 10,
              "solidity": 0.2
             }
            },
            "type": "bar"
           }
          ],
          "barpolar": [
           {
            "marker": {
             "line": {
              "color": "#E5ECF6",
              "width": 0.5
             },
             "pattern": {
              "fillmode": "overlay",
              "size": 10,
              "solidity": 0.2
             }
            },
            "type": "barpolar"
           }
          ],
          "carpet": [
           {
            "aaxis": {
             "endlinecolor": "#2a3f5f",
             "gridcolor": "white",
             "linecolor": "white",
             "minorgridcolor": "white",
             "startlinecolor": "#2a3f5f"
            },
            "baxis": {
             "endlinecolor": "#2a3f5f",
             "gridcolor": "white",
             "linecolor": "white",
             "minorgridcolor": "white",
             "startlinecolor": "#2a3f5f"
            },
            "type": "carpet"
           }
          ],
          "choropleth": [
           {
            "colorbar": {
             "outlinewidth": 0,
             "ticks": ""
            },
            "type": "choropleth"
           }
          ],
          "contour": [
           {
            "colorbar": {
             "outlinewidth": 0,
             "ticks": ""
            },
            "colorscale": [
             [
              0,
              "#0d0887"
             ],
             [
              0.1111111111111111,
              "#46039f"
             ],
             [
              0.2222222222222222,
              "#7201a8"
             ],
             [
              0.3333333333333333,
              "#9c179e"
             ],
             [
              0.4444444444444444,
              "#bd3786"
             ],
             [
              0.5555555555555556,
              "#d8576b"
             ],
             [
              0.6666666666666666,
              "#ed7953"
             ],
             [
              0.7777777777777778,
              "#fb9f3a"
             ],
             [
              0.8888888888888888,
              "#fdca26"
             ],
             [
              1,
              "#f0f921"
             ]
            ],
            "type": "contour"
           }
          ],
          "contourcarpet": [
           {
            "colorbar": {
             "outlinewidth": 0,
             "ticks": ""
            },
            "type": "contourcarpet"
           }
          ],
          "heatmap": [
           {
            "colorbar": {
             "outlinewidth": 0,
             "ticks": ""
            },
            "colorscale": [
             [
              0,
              "#0d0887"
             ],
             [
              0.1111111111111111,
              "#46039f"
             ],
             [
              0.2222222222222222,
              "#7201a8"
             ],
             [
              0.3333333333333333,
              "#9c179e"
             ],
             [
              0.4444444444444444,
              "#bd3786"
             ],
             [
              0.5555555555555556,
              "#d8576b"
             ],
             [
              0.6666666666666666,
              "#ed7953"
             ],
             [
              0.7777777777777778,
              "#fb9f3a"
             ],
             [
              0.8888888888888888,
              "#fdca26"
             ],
             [
              1,
              "#f0f921"
             ]
            ],
            "type": "heatmap"
           }
          ],
          "heatmapgl": [
           {
            "colorbar": {
             "outlinewidth": 0,
             "ticks": ""
            },
            "colorscale": [
             [
              0,
              "#0d0887"
             ],
             [
              0.1111111111111111,
              "#46039f"
             ],
             [
              0.2222222222222222,
              "#7201a8"
             ],
             [
              0.3333333333333333,
              "#9c179e"
             ],
             [
              0.4444444444444444,
              "#bd3786"
             ],
             [
              0.5555555555555556,
              "#d8576b"
             ],
             [
              0.6666666666666666,
              "#ed7953"
             ],
             [
              0.7777777777777778,
              "#fb9f3a"
             ],
             [
              0.8888888888888888,
              "#fdca26"
             ],
             [
              1,
              "#f0f921"
             ]
            ],
            "type": "heatmapgl"
           }
          ],
          "histogram": [
           {
            "marker": {
             "pattern": {
              "fillmode": "overlay",
              "size": 10,
              "solidity": 0.2
             }
            },
            "type": "histogram"
           }
          ],
          "histogram2d": [
           {
            "colorbar": {
             "outlinewidth": 0,
             "ticks": ""
            },
            "colorscale": [
             [
              0,
              "#0d0887"
             ],
             [
              0.1111111111111111,
              "#46039f"
             ],
             [
              0.2222222222222222,
              "#7201a8"
             ],
             [
              0.3333333333333333,
              "#9c179e"
             ],
             [
              0.4444444444444444,
              "#bd3786"
             ],
             [
              0.5555555555555556,
              "#d8576b"
             ],
             [
              0.6666666666666666,
              "#ed7953"
             ],
             [
              0.7777777777777778,
              "#fb9f3a"
             ],
             [
              0.8888888888888888,
              "#fdca26"
             ],
             [
              1,
              "#f0f921"
             ]
            ],
            "type": "histogram2d"
           }
          ],
          "histogram2dcontour": [
           {
            "colorbar": {
             "outlinewidth": 0,
             "ticks": ""
            },
            "colorscale": [
             [
              0,
              "#0d0887"
             ],
             [
              0.1111111111111111,
              "#46039f"
             ],
             [
              0.2222222222222222,
              "#7201a8"
             ],
             [
              0.3333333333333333,
              "#9c179e"
             ],
             [
              0.4444444444444444,
              "#bd3786"
             ],
             [
              0.5555555555555556,
              "#d8576b"
             ],
             [
              0.6666666666666666,
              "#ed7953"
             ],
             [
              0.7777777777777778,
              "#fb9f3a"
             ],
             [
              0.8888888888888888,
              "#fdca26"
             ],
             [
              1,
              "#f0f921"
             ]
            ],
            "type": "histogram2dcontour"
           }
          ],
          "mesh3d": [
           {
            "colorbar": {
             "outlinewidth": 0,
             "ticks": ""
            },
            "type": "mesh3d"
           }
          ],
          "parcoords": [
           {
            "line": {
             "colorbar": {
              "outlinewidth": 0,
              "ticks": ""
             }
            },
            "type": "parcoords"
           }
          ],
          "pie": [
           {
            "automargin": true,
            "type": "pie"
           }
          ],
          "scatter": [
           {
            "marker": {
             "colorbar": {
              "outlinewidth": 0,
              "ticks": ""
             }
            },
            "type": "scatter"
           }
          ],
          "scatter3d": [
           {
            "line": {
             "colorbar": {
              "outlinewidth": 0,
              "ticks": ""
             }
            },
            "marker": {
             "colorbar": {
              "outlinewidth": 0,
              "ticks": ""
             }
            },
            "type": "scatter3d"
           }
          ],
          "scattercarpet": [
           {
            "marker": {
             "colorbar": {
              "outlinewidth": 0,
              "ticks": ""
             }
            },
            "type": "scattercarpet"
           }
          ],
          "scattergeo": [
           {
            "marker": {
             "colorbar": {
              "outlinewidth": 0,
              "ticks": ""
             }
            },
            "type": "scattergeo"
           }
          ],
          "scattergl": [
           {
            "marker": {
             "colorbar": {
              "outlinewidth": 0,
              "ticks": ""
             }
            },
            "type": "scattergl"
           }
          ],
          "scattermapbox": [
           {
            "marker": {
             "colorbar": {
              "outlinewidth": 0,
              "ticks": ""
             }
            },
            "type": "scattermapbox"
           }
          ],
          "scatterpolar": [
           {
            "marker": {
             "colorbar": {
              "outlinewidth": 0,
              "ticks": ""
             }
            },
            "type": "scatterpolar"
           }
          ],
          "scatterpolargl": [
           {
            "marker": {
             "colorbar": {
              "outlinewidth": 0,
              "ticks": ""
             }
            },
            "type": "scatterpolargl"
           }
          ],
          "scatterternary": [
           {
            "marker": {
             "colorbar": {
              "outlinewidth": 0,
              "ticks": ""
             }
            },
            "type": "scatterternary"
           }
          ],
          "surface": [
           {
            "colorbar": {
             "outlinewidth": 0,
             "ticks": ""
            },
            "colorscale": [
             [
              0,
              "#0d0887"
             ],
             [
              0.1111111111111111,
              "#46039f"
             ],
             [
              0.2222222222222222,
              "#7201a8"
             ],
             [
              0.3333333333333333,
              "#9c179e"
             ],
             [
              0.4444444444444444,
              "#bd3786"
             ],
             [
              0.5555555555555556,
              "#d8576b"
             ],
             [
              0.6666666666666666,
              "#ed7953"
             ],
             [
              0.7777777777777778,
              "#fb9f3a"
             ],
             [
              0.8888888888888888,
              "#fdca26"
             ],
             [
              1,
              "#f0f921"
             ]
            ],
            "type": "surface"
           }
          ],
          "table": [
           {
            "cells": {
             "fill": {
              "color": "#EBF0F8"
             },
             "line": {
              "color": "white"
             }
            },
            "header": {
             "fill": {
              "color": "#C8D4E3"
             },
             "line": {
              "color": "white"
             }
            },
            "type": "table"
           }
          ]
         },
         "layout": {
          "annotationdefaults": {
           "arrowcolor": "#2a3f5f",
           "arrowhead": 0,
           "arrowwidth": 1
          },
          "autotypenumbers": "strict",
          "coloraxis": {
           "colorbar": {
            "outlinewidth": 0,
            "ticks": ""
           }
          },
          "colorscale": {
           "diverging": [
            [
             0,
             "#8e0152"
            ],
            [
             0.1,
             "#c51b7d"
            ],
            [
             0.2,
             "#de77ae"
            ],
            [
             0.3,
             "#f1b6da"
            ],
            [
             0.4,
             "#fde0ef"
            ],
            [
             0.5,
             "#f7f7f7"
            ],
            [
             0.6,
             "#e6f5d0"
            ],
            [
             0.7,
             "#b8e186"
            ],
            [
             0.8,
             "#7fbc41"
            ],
            [
             0.9,
             "#4d9221"
            ],
            [
             1,
             "#276419"
            ]
           ],
           "sequential": [
            [
             0,
             "#0d0887"
            ],
            [
             0.1111111111111111,
             "#46039f"
            ],
            [
             0.2222222222222222,
             "#7201a8"
            ],
            [
             0.3333333333333333,
             "#9c179e"
            ],
            [
             0.4444444444444444,
             "#bd3786"
            ],
            [
             0.5555555555555556,
             "#d8576b"
            ],
            [
             0.6666666666666666,
             "#ed7953"
            ],
            [
             0.7777777777777778,
             "#fb9f3a"
            ],
            [
             0.8888888888888888,
             "#fdca26"
            ],
            [
             1,
             "#f0f921"
            ]
           ],
           "sequentialminus": [
            [
             0,
             "#0d0887"
            ],
            [
             0.1111111111111111,
             "#46039f"
            ],
            [
             0.2222222222222222,
             "#7201a8"
            ],
            [
             0.3333333333333333,
             "#9c179e"
            ],
            [
             0.4444444444444444,
             "#bd3786"
            ],
            [
             0.5555555555555556,
             "#d8576b"
            ],
            [
             0.6666666666666666,
             "#ed7953"
            ],
            [
             0.7777777777777778,
             "#fb9f3a"
            ],
            [
             0.8888888888888888,
             "#fdca26"
            ],
            [
             1,
             "#f0f921"
            ]
           ]
          },
          "colorway": [
           "#636efa",
           "#EF553B",
           "#00cc96",
           "#ab63fa",
           "#FFA15A",
           "#19d3f3",
           "#FF6692",
           "#B6E880",
           "#FF97FF",
           "#FECB52"
          ],
          "font": {
           "color": "#2a3f5f"
          },
          "geo": {
           "bgcolor": "white",
           "lakecolor": "white",
           "landcolor": "#E5ECF6",
           "showlakes": true,
           "showland": true,
           "subunitcolor": "white"
          },
          "hoverlabel": {
           "align": "left"
          },
          "hovermode": "closest",
          "mapbox": {
           "style": "light"
          },
          "paper_bgcolor": "white",
          "plot_bgcolor": "#E5ECF6",
          "polar": {
           "angularaxis": {
            "gridcolor": "white",
            "linecolor": "white",
            "ticks": ""
           },
           "bgcolor": "#E5ECF6",
           "radialaxis": {
            "gridcolor": "white",
            "linecolor": "white",
            "ticks": ""
           }
          },
          "scene": {
           "xaxis": {
            "backgroundcolor": "#E5ECF6",
            "gridcolor": "white",
            "gridwidth": 2,
            "linecolor": "white",
            "showbackground": true,
            "ticks": "",
            "zerolinecolor": "white"
           },
           "yaxis": {
            "backgroundcolor": "#E5ECF6",
            "gridcolor": "white",
            "gridwidth": 2,
            "linecolor": "white",
            "showbackground": true,
            "ticks": "",
            "zerolinecolor": "white"
           },
           "zaxis": {
            "backgroundcolor": "#E5ECF6",
            "gridcolor": "white",
            "gridwidth": 2,
            "linecolor": "white",
            "showbackground": true,
            "ticks": "",
            "zerolinecolor": "white"
           }
          },
          "shapedefaults": {
           "line": {
            "color": "#2a3f5f"
           }
          },
          "ternary": {
           "aaxis": {
            "gridcolor": "white",
            "linecolor": "white",
            "ticks": ""
           },
           "baxis": {
            "gridcolor": "white",
            "linecolor": "white",
            "ticks": ""
           },
           "bgcolor": "#E5ECF6",
           "caxis": {
            "gridcolor": "white",
            "linecolor": "white",
            "ticks": ""
           }
          },
          "title": {
           "x": 0.05
          },
          "xaxis": {
           "automargin": true,
           "gridcolor": "white",
           "linecolor": "white",
           "ticks": "",
           "title": {
            "standoff": 15
           },
           "zerolinecolor": "white",
           "zerolinewidth": 2
          },
          "yaxis": {
           "automargin": true,
           "gridcolor": "white",
           "linecolor": "white",
           "ticks": "",
           "title": {
            "standoff": 15
           },
           "zerolinecolor": "white",
           "zerolinewidth": 2
          }
         }
        },
        "width": 800
       }
      },
      "text/html": [
       "<div>                            <div id=\"f54bf4da-e595-4dc5-b551-48ec6a53dcda\" class=\"plotly-graph-div\" style=\"height:800px; width:800px;\"></div>            <script type=\"text/javascript\">                require([\"plotly\"], function(Plotly) {                    window.PLOTLYENV=window.PLOTLYENV || {};                                    if (document.getElementById(\"f54bf4da-e595-4dc5-b551-48ec6a53dcda\")) {                    Plotly.newPlot(                        \"f54bf4da-e595-4dc5-b551-48ec6a53dcda\",                        [{\"customdata\":[[\"Square Victoria (Viger / du Square-Victoria)\",19],[\"M\\u00e9tro Champ-de-Mars (Viger / Sanguinet)\",35],[\"Ste-Catherine / Dezery\",19],[\"Evans / Clark\",15],[\"du Champ-de-Mars / Gosford\",23],[\"Brittany / Ainsley\",19],[\"de Bellechasse / Pie-IX\",23],[\"de l'H\\u00f4tel-de-Ville / Ste-Catherine\",31],[\"Ste-Catherine / Sanguinet\",47],[\"Crescent / de Maisonneuve\",23],[\"de Grosbois / Duchesneau\",15],[\"St-Andr\\u00e9 / St-Antoine\",27],[\"M\\u00e9tro St-Laurent (de Maisonneuve / St-Laurent)\",23],[\"Sanguinet / de Maisonneuve\",27],[\"St-Denis / Ste-Catherine\",43],[\"Berri /Ste-Catherine\",26],[\"Jacques-Le Ber / de la Pointe Nord\",27],[\"Atateken / du Square Amherst\",31],[\"St-Andr\\u00e9 / Ontario\",19],[\"M\\u00e9tro Sherbrooke (de Rigaud / Berri)\",23],[\"de l'H\\u00f4tel-de-Ville / Ontario\",27],[\"Beaudry / Ontario\",23],[\"de la Commune / Berri\",51],[\"des Ormeaux / Notre-Dame\",27],[\"Notre-Dame / St-Gabriel\",15],[\"de la Commune / Place Jacques-Cartier\",81],[\"de Maisonneuve / Mansfield (sud)\",27],[\"Irene / St-Jacques\",19],[\"St-Antoine / St-Fran\\u00e7ois-Xavier\",18],[\"M\\u00e9tro Place-d'Armes (Viger / St-Urbain)\",29],[\"Viger / Chenneville\",38],[\"de la Commune / St-Sulpice\",43],[\"St-Nicolas / Place d'Youville\",23],[\"Place d'Youville / McGill\",19],[\"des R\\u00e9collets / McGill\",23],[\"St-Jacques / St-Pierre\",23],[\"St-Jacques / McGill\",27],[\"de la Gaucheti\\u00e8re / Robert-Bourassa\",27],[\"Roy / St-Andr\\u00e9\",23],[\"M\\u00e9tro Bonaventure (de la Gaucheti\\u00e8re / de la Cath\\u00e9drale)\",31],[\"Milton / Durocher\",27],[\"William / St-Henri\",15],[\"Queen / Wellington\",47],[\"St-Maurice / Robert-Bourassa\",35],[\"Henri-Julien / de Bellechasse\",19],[\"de la Commune / King\",70],[\"M\\u00e9tro Place-des-Arts (du Pr\\u00e9sident-Kennedy / Jeanne-Mance)\",27],[\"Place du Canada (Peel / de la Gaucheti\\u00e8re)\",22],[\"Cypress / Peel\",27],[\"de la Cath\\u00e9drale / Ren\\u00e9-L\\u00e9vesque\",43],[\"St-Urbain / Ren\\u00e9-L\\u00e9vesque\",33],[\"Mansfield / Ste-Catherine\",23],[\"Drummond / Ste-Catherine\",31],[\"Drummond / de Maisonneuve\",47],[\"M\\u00e9tro Peel (de Maisonneuve / Stanley)\",49],[\"de la Montagne / Sherbrooke\",19],[\"Quai de la navette fluviale\",19],[\"2e avenue / Jean-Rivard\",31],[\"University / Milton\",47],[\"de Maisonneuve / Aylmer (ouest)\",37],[\"de Ville-Marie / Ste-Catherine\",15],[\"St-Alexandre / Ste-Catherine\",27],[\"M\\u00e9tro Vend\\u00f4me (de Marlowe / de Maisonneuve)\",31],[\"Mackay / Ste-Catherine\",31],[\"5e avenue / Rosemont\",19],[\"Aylmer / Ste-Catherine\",47],[\"Duke / Brennan\",27],[\"Notre-Dame / Jean-d'Estr\\u00e9es\",47],[\"Henri-Julien / du Carmel\",23],[\"M\\u00e9tro Lucien-L'Allier  (Lucien l'Allier / Argyle)\",17],[\"Joseph-Manseau / Ren\\u00e9-L\\u00e9vesque\",19],[\"Crescent / Ren\\u00e9-L\\u00e9vesque\",31],[\"M\\u00e9tro Beaubien (de Chateaubriand / Beaubien)\",23],[\"M\\u00e9tro Atwater (Atwater / Ste-Catherine)\",35],[\"Chomedey / de Maisonneuve\",19],[\"Lucien L'Allier / St-Jacques\",23],[\"St-Marc / Ste-Catherine\",31],[\"Ste-Catherine / Bishop\",27],[\"Ste-Catherine / Labelle\",31],[\"Mackay / de Maisonneuve\",35],[\"M\\u00e9tro Villa-Maria (de Monkland / D\\u00e9carie)\",26],[\"Lincoln / du Fort\",15],[\"de Rouen / Lesp\\u00e9rance\",27],[\"Wolfe / de la Gaucheti\\u00e8re\",27],[\"Plessis / Ren\\u00e9-L\\u00e9vesque\",19],[\"Ren\\u00e9-L\\u00e9vesque / Papineau\",25],[\"St-Mathieu / Baile\",23],[\"Logan / Fullum\",19],[\"Parc Plage\",19],[\"Poupart / Ste-Catherine\",19],[\"Ste-Catherine / Parthenais\",23],[\"Montcalm / de Maisonneuve\",19],[\"Alexandre-DeS\\u00e8ve / Ste-Catherine\",19],[\"M\\u00e9tro Papineau (Cartier / Ste-Catherine)\",25],[\"Parc Benny (Benny / de Monkland)\",23],[\"Plessis / Ontario\",15],[\"de Maisonneuve / Aylmer (est)\",21],[\"Alexandre-DeS\\u00e8ve  / Ontario\",23],[\"Dorion / Ontario\",35],[\"M\\u00e9tro Frontenac (Ontario / du Havre)\",23],[\"du Havre / de Rouen\",27],[\"Logan / d'Iberville\",19],[\"la Fontaine / Alexandre-de-S\\u00e8ve\",19],[\"Poupart / Ontario\",15],[\"de la Peltrie / de la C\\u00f4te-des-Neiges\",31],[\"Fullum / de Rouen\",27],[\"Henri-Julien / de Castelnau\",23],[\"Hogan / Ontario\",11],[\"Sherbrooke / Frontenac\",15],[\"Parc Baldwin (Fullum / Sherbrooke)\",35],[\"Terrasse Mercure / Fullum\",15],[\"Dorion / Sherbrooke\",19],[\"Ste-Famille / Sherbrooke\",35],[\"University / Prince-Arthur\",47],[\"Hutchison / Prince-Arthur\",39],[\"Andr\\u00e9-Laurendeau / Rachel\",14],[\"Atwater / Sherbrooke\",23],[\"Drolet / Beaubien\",23],[\"de Gasp\\u00e9 / Beaubien\",19],[\"Parc du P\\u00e9lican (2e avenue / St-Joseph)\",19],[\"Marquette / des Carri\\u00e8res\",27],[\"M\\u00e9tro Fabre (Marquette / Jean-Talon)\",19],[\"Louis-H\\u00e9mon / Jean-Talon\",19],[\"Metcalfe / de Maisonneuve\",31],[\"Drolet / Marie-Anne\",23],[\"Bercy / Rachel\",15],[\"Larivi\\u00e8re / de Lorimier\",35],[\"M\\u00e9tro Laurier (Berri / Laurier)\",23],[\"Gauthier / Papineau\",19],[\"Gauthier / de Lorimier\",15],[\"Gauthier / Parthenais\",15],[\"Marquette / Rachel\",15],[\"des \\u00c9rables / Rachel\",19],[\"Calixa-Lavall\\u00e9e / Rachel\",30],[\"Rachel / de Br\\u00e9beuf\",29],[\"du Parc-La Fontaine / Duluth\",23],[\"du Parc-La Fontaine / Roy\",23],[\"Calixa-Lavall\\u00e9e / Sherbrooke\",23],[\"\\u00c9mile-Duploy\\u00e9 / Sherbrooke\",27],[\"Chapleau / du Mont-Royal\",11],[\"Messier / du Mont-Royal\",19],[\"Parthenais / du Mont-Royal\",23],[\"Bordeaux / Mont-Royal\",23],[\"Marie-Anne / Papineau\",23],[\"Marquette / du Mont-Royal\",19],[\"de Lanaudi\\u00e8re / du Mont-Royal\",27],[\"de la Roche / Marie-Anne\",19],[\"de Br\\u00e9beuf / du Mont-Royal\",27],[\"de Br\\u00e9beuf / Gilford\",19],[\"Ann / Wellington\",19],[\"Garnier / St-Joseph\",23],[\"Cartier / St-Joseph\",19],[\"St-Dominique / de Bellechasse\",31],[\"Marquette / Laurier\",27],[\"de Lanaudi\\u00e8re / Laurier\",19],[\"Laurier / de Br\\u00e9beuf\",23],[\"Gerry-Boulet / St-Gr\\u00e9goire\",23],[\"Garnier / St-Gr\\u00e9goire\",27],[\"Marmier / St-Denis\",27],[\"Boyer / du Mont-Royal\",18],[\"de Mentana / Laurier\",23],[\"Wolfe / Robin\",23],[\"Berri / Cherrier\",39],[\"Roy / St-Denis\",23],[\"St-Andr\\u00e9 / Cherrier\",31],[\"du Parc-Lafontaine / Rachel\",19],[\"St-Hubert / Duluth\",23],[\"Rivard / Rachel\",15],[\"Duluth  / St-Denis\",23],[\"des Soeurs-Grises / Marguerite d'Youville\",39],[\"Clark / Rachel\",31],[\"de Bullion / du Mont-Royal\",15],[\"Laval / du Mont-Royal\",19],[\"M\\u00e9tro Mont-Royal (Rivard / du Mont-Royal)\",39],[\"des \\u00c9rables / B\\u00e9langer\",15],[\"St-Hubert / Laurier\",15],[\"Resther / du Mont-Royal\",23],[\"de Mentana / Marie-Anne\",19],[\"Chabot / Villeray\",15],[\"Pontiac / Gilford\",23],[\"St-Zotique / Clark\",11],[\"Boucher / St-Denis\",23],[\"de l'Esplanade / Fairmount\",15],[\"de Gasp\\u00e9 / Fairmount\",23],[\"de Bullion / St-Joseph\",31],[\"Villeneuve / St-Laurent\",23],[\"de Bordeaux / Masson\",19],[\"H\\u00e9l\\u00e8ne-Baillargeon / St-Denis\",23],[\"Clark / St-Viateur\",15],[\"Maguire / St-Laurent\",23],[\"de l'H\\u00f4tel-de-Ville / Villeneuve\",23],[\"Aylmer / Sherbrooke\",27],[\"Milton / du Parc\",23],[\"Prince-Arthur / du Parc\",23],[\"Ste-Famille / des Pins\",11],[\"Hutchison / des Pins\",23],[\"Milton / Clark\",27],[\"M\\u00e9tro Sauv\\u00e9 (Berri / Sauv\\u00e9)\",26],[\"Roy / St-Laurent\",23],[\"Duluth / de l'Esplanade\",23],[\"Duluth / St-Laurent\",15],[\"Square St-Louis (du Square St-Louis / Laval)\",31],[\"Metcalfe / St-Catherine\",43],[\"Parc Jeanne-Mance (monument \\u00e0 sir George-\\u00c9tienne Cartier)\",43],[\"Valli\\u00e8res / St-Laurent\",23],[\"de l'H\\u00f4tel-de-Ville / Roy\",19],[\"Laval / Duluth\",27],[\"du Mont-Royal / Clark\",27],[\"de l'Esplanade / du Mont-Royal\",23],[\"Parc Jeanne-Mance (du Mont-Royal / du Parc)\",33],[\"Villeneuve / du Parc\",15],[\"Villeneuve / St-Urbain\",19],[\"H\\u00f4pital Maisonneuve-Rosemont (Rosemont / Chatelain)\",31],[\"Jeanne-Mance / Laurier\",23],[\"St-Dominique / du Mont-Royal\",19],[\"Waverly / St-Viateur\",19],[\"Jeanne-Mance / St-Viateur\",23],[\"Bernard / St-Urbain\",19],[\"St-Dominique / St-Viateur\",31],[\"Laurier / de Bordeaux\",19],[\"Gilford / de Lanaudi\\u00e8re\",15],[\"St-Dominique / Napol\\u00e9on\",23],[\"de Bordeaux / Jean-Talon\",15],[\"Parc Kent (de Kent / Hudson)\",27],[\"Querbes / Laurier\",15],[\"Bloomfield / Bernard\",23],[\"Bloomfield / Van Horne\",23],[\"St-Cyril / Wiseman\",23],[\"St-Dominique / St-Zotique\",31],[\"St-Dominique / Rachel\",23],[\"B\\u00e9langer / St-Denis\",23],[\"March\\u00e9 Jean-Talon (Henri-Julien / Jean-Talon)\",23],[\"de Gasp\\u00e9 / Dante\",23],[\"Mozart / St-Laurent\",15],[\"M\\u00e9tro Jean-Talon (Berri / Jean-Talon)\",19],[\"Boyer / B\\u00e9langer\",23],[\"Boyer / St-Zotique\",19],[\"de St-Vallier / St-Zotique\",19],[\"Parc P\\u00e8re-Marquette (Chambord / Rosemont)\",39],[\"des \\u00c9rables / Dandurand\",15],[\"Cartier / Dandurand\",23],[\"Louis-H\\u00e9mon / Rosemont\",19],[\"de la Roche /  de Bellechasse\",15],[\"de Hampton / de Monkland\",15],[\"Chabot / de Bellechasse\",15],[\"des \\u00c9rables / Laurier\",15],[\"Louis-H\\u00e9bert / de Bellechasse\",27],[\"Chabot / Beaubien\",15],[\"Chambord / Beaubien\",15],[\"Wurtele / de Rouen\",15],[\"Fabre / St-Zotique\",19],[\"Place du Village (St-Jean-Baptiste / Notre-Dame)\",15],[\"de Bordeaux / St-Zotique\",19],[\"Cartier / B\\u00e9langer\",23],[\"Christophe-Colomb / St-Joseph\",19],[\"Chambord / de Castelnau\",15],[\"de la Roche / B\\u00e9langer\",23],[\"Louis-H\\u00e9bert / St-Zotique\",15],[\"Louis-H\\u00e9bert / B\\u00e9langer\",19],[\"Fabre / Beaubien\",19],[\"Fullum / Holt\",26],[\"M\\u00e9tro Rosemont (de St-Vallier / Rosemont)\",19],[\"Boyer / Rosemont\",31],[\"de Bellechasse / de St-Vallier\",15],[\"Augustin-Cantin / Shearer\",31],[\"Marie-Anne / St-Hubert\",19],[\"\\u00c9douard-Montpetit / de Stirling\",19],[\"McKenna / \\u00c9douard-Montpetit\",23],[\"Waverly / Van Horne\",15],[\"Hutchison / Van Horne\",19],[\"Bernard / Jeanne-Mance\",27],[\"Basile-Routhier / Chabanel\",15],[\"Biblioth\\u00e8que et Complexe aquatique Rosemont (9e avenue / Rosemont)\",15],[\"Boyer / Beaubien\",23],[\"des Bassins / du S\\u00e9minaire\",31],[\"Notre-Dame / de la Montagne\",27],[\"Guy / Notre-Dame\",27],[\"Louis-H\\u00e9bert / Beaubien\",19],[\"St-Dominique / Laurier\",23],[\"M\\u00e9tro Charlevoix (Centre / Charlevoix)\",23],[\"des Seigneurs / Notre-Dame\",22],[\"Ste-\\u00c9milie / Sir-Georges-Etienne-Cartier\",23],[\"Georges-Vanier / Notre-Dame\",19],[\"Quesnel / Vinet\",19],[\"Duvernay / Charlevoix\",19],[\"March\\u00e9 Atwater\",32],[\"Charlevoix / Lionel-Groulx\",23],[\"M\\u00e9tro Georges-Vanier (St-Antoine / Canning)\",17],[\"Laval / Rachel\",19],[\"4e avenue / de Verdun\",15],[\"de Soissons / de Darlington\",31],[\"Bel Air / St-Antoine\",23],[\"de Kent / de la C\\u00f4te-des-Neiges\",39],[\"Drolet / St-Zotique\",19],[\"de Lanaudi\\u00e8re / Marie-Anne\",19],[\"Jean-Brillant / de la C\\u00f4te-des-Neiges\",23],[\"McLynn / Plamondon\",27],[\"Bourbonni\\u00e8re / du Mont-Royal\",23],[\"de Bordeaux / Gilford\",19],[\"M\\u00e9tro Pr\\u00e9fontaine (Moreau / Hochelaga)\",30],[\"M\\u00e9tro Joliette  (Joliette / Hochelaga)\",19],[\"d'Orl\\u00e9ans / Hochelaga\",19],[\"Boyer / Jean-Talon\",23],[\"Aylwin / Ontario\",23],[\"D\\u00e9z\\u00e9ry / Ontario\",23],[\"Parc Lalancette (de Rouen / Valois)\",23],[\"M\\u00e9tro Viau (Viau / Pierre-de-Coubertin)\",55],[\"March\\u00e9 Maisonneuve\",22],[\"de la Salle / Ontario\",23],[\"Guizot / St-Laurent\",19],[\"Faillon / St-Denis\",23],[\"Drolet / Gounod\",23],[\"de Gasp\\u00e9 / Jarry\",23],[\"Guizot / St-Denis\",23],[\"de Gasp\\u00e9 / de Li\\u00e8ge\",15],[\"Leman / de Chateaubriand\",15],[\"M\\u00e9tro Jarry (Lajeunesse / Jarry)\",19],[\"du Rosaire / St-Hubert\",23],[\"Boyer / Everett\",15],[\"de Chateaubriand / Jarry\",15],[\"Harvard / de Monkland\",19],[\"de la Roche / Everett\",11],[\"Regina / de Verdun\",23],[\"Marquette / Villeray\",15],[\"Nicolet / Sherbrooke\",27],[\"M\\u00e9tro St-Michel (Shaughnessy / St-Michel)\",15],[\"Ryde / Charlevoix\",27],[\"de Laprairie / Centre\",23],[\"St-Dominique / Gounod\",15],[\"Lajeunesse / de Li\\u00e8ge\",15],[\"de Gasp\\u00e9 / Villeray\",15],[\"Marcil / Sherbrooke\",23],[\"Ontario / Sicard\",23],[\"de Monkland / Girouard\",15],[\"12e avenue / St-Zotique\",23],[\"1\\u00e8re  avenue / St-Zotique\",15],[\"St-Catherine / St-Laurent\",27],[\"Beaubien / 8e avenue\",15],[\"Molson / Beaubien\",23],[\"1\\u00e8re avenue / Rosemont\",15],[\"de la C\\u00f4te St-Antoine / Royal\",19],[\"de Chambly / Rachel\",23],[\"Wilderton  / Van Horne\",19],[\"3e avenue / Holt\",19],[\"10e avenue / Masson\",23],[\"U. Concordia - Campus Loyola (Sherbrooke / West Broadway)\",27],[\"d'Orl\\u00e9ans / Masson\",19],[\"5e avenue / Masson\",23],[\"Parc du P\\u00e9lican (1\\u00e8re avenue / Masson)\",39],[\"7e avenue / St-Joseph Rosemont\",27],[\"15e avenue / Masson\",23],[\"M\\u00e9tro Place St-Henri (St-Ferdinand / St-Jacques)\",23],[\"16e avenue / St-Joseph\",23],[\"de Ch\\u00e2teauguay / Ropery\",23],[\"de l'\\u00c9glise / Bannantyne\",15],[\"Parc J.-Arthur-Champagne (de Chambly / du Mont-Royal)\",23],[\"Omer-Lavall\\u00e9e / du Midway\",18],[\"Darling / Sherbrooke\",23],[\"M\\u00e9tro Pie-IX (Pierre-de-Coubertin / de la Salle)\",31],[\"Bloomfied / St-Viateur\",15],[\"Durocher / St-Viateur\",15],[\"Parc Pratt (Dunlop / Van Horne)\",15],[\"Parc Joyce (Rockland / Lajoie)\",15],[\"Davaar / de la C\\u00f4te-Ste-Catherine\",15],[\"M\\u00e9tro \\u00c9douard-Montpetit (du Mont-Royal / Vincent-d'Indy)\",26],[\"Gary-Carter / St-Laurent\",38],[\"St-Dominique / Jean-Talon\",35],[\"Delisle / George-Vanier\",27],[\"11e avenue / du Souvenir\",15],[\"de l'H\\u00f4tel-de-Ville / Sherbrooke\",27],[\"Campus MIL (Outremont / Th\\u00e9r\\u00e8se-Lavoie Roux)\",23],[\"Prince-Arthur / St-Urbain\",27],[\"Parc Jean-Drapeau (Chemin Macdonald)\",47],[\"Casino de Montr\\u00e9al\",19],[\"M\\u00e9tro Parc  (Hutchison / Ogilvy)\",33],[\"La Ronde\",23],[\"de Melrose / Sherbrooke\",15],[\"Letourneux / Hochelaga\",15],[\"Par\\u00e9 / Mountain Sights\",15],[\"Cartier / Rosemont\",19],[\"Notre-Dame-de-Gr\\u00e2ce / D\\u00e9carie\",15],[\"Beaucourt / de la C\\u00f4te-Ste-Catherine\",23],[\"de Maisonneuve / Mansfield SE\",23],[\"M\\u00e9tro Snowdon (de Westbury / Queen-Mary)\",27],[\"P\\u00e9loquin / Fleury\",15],[\"M\\u00e9tro Cr\\u00e9mazie (Cr\\u00e9mazie / Lajeunesse)\",15],[\"Louisbourg / O'brien\",23],[\"Ste-Catherine / Union\",34],[\"Parc St-Henri (Laporte / Guay)\",15],[\"M\\u00e9tro de l'\\u00c9glise (Ross / de l'\\u00c9glise)\",15],[\"M\\u00e9tro Verdun (Willibrord / de Verdun)\",27],[\"M\\u00e9tro Lasalle (de Rushbrooke / Caisse)\",23],[\"Place du Commerce\",33],[\"Clark / Prince-Arthur\",31],[\"Berlioz / de l'\\u00cele des Soeurs\",23],[\"St-Hubert / St-Joseph\",15],[\"de Maisonneuve / Greene\",19],[\"Hillside / Ste-Catherine\",15],[\"Victoria / de Maisonneuve\",15],[\"Victoria Hall\",15],[\"de la C\\u00f4te St-Antoine / Argyle\",19],[\"St-Charles / Montarville\",15],[\"Place Longueuil\",15],[\"St-Charles / Grant\",11],[\"St-Charles / Labont\\u00e9\",5],[\"Coll\\u00e8ge \\u00c9douard-Montpetit (de Gentilly / de Normandie)\",19],[\"M\\u00e9tro Longueuil - Universit\\u00e9 de Sherbrooke\",35],[\"Parc Ludger-Duvernay (St-Andr\\u00e9 / St-Hubert)\",19],[\"Cit\\u00e9 des Arts du Cirque (Paul Boutet / des Regrattiers)\",34],[\"Letourneux / Ste-Catherine\",19],[\"Drummond / Sherbrooke\",23],[\"M\\u00e9tro Assomption (Chauveau / de l'Assomption)\",27],[\"Jardin Botanique (Pie-IX / Sherbrooke)\",24],[\"19e avenue / St-Zotique\",27],[\"5e avenue / Bannantyne\",15],[\"Beatty / de Verdun\",23],[\"M\\u00e9tro Jolicoeur (de S\\u00e8ve / Drake)\",19],[\"de Bleury / de Maisonneuve\",21],[\"Parc St-Paul (Le Caron / Marc-Sauvalle)\",23],[\"Chambord / Fleury\",14],[\"Mozart / Waverly\",15],[\"LaSalle / Crawford\",15],[\"29e avenue / St-Zotique\",15],[\"LaSalle / 80e avenue\",23],[\"Natatorium (LaSalle / Rolland)\",27],[\"Francis / Fleury\",19],[\"M\\u00e9tro Plamondon (Carlton / Victoria)\",19],[\"Grand Boulevard / Sherbrooke\",19],[\"Park Row O / Sherbrooke\",15],[\"Ontario / Viau\",19],[\"M\\u00e9tro Cadillac (Cadillac / Sherbrooke)\",19],[\"Du Quesne / Pierre-de-Coubertin\",11],[\"26e avenue / Beaubien\",15],[\"L\\u00e9a-Roback / Sir-Georges-Etienne-Cartier\",34],[\"M\\u00e9tro Monk (Allard / Beaulieu)\",15],[\"Hamel / Sauv\\u00e9\",23],[\"Montmorency / Richardson\",31],[\"d'Outremont / Ogilvy\",19],[\"St-Andr\\u00e9 / Ste-Catherine\",15],[\"35e avenue / Beaubien\",31],[\"de Normanville / Villeray\",23],[\"Fortune / Wellington\",27],[\"27e avenue / Rosemont\",19],[\"Lajeunesse / Villeray\",15],[\"M\\u00e9tro Henri-Bourassa (Henri-Bourassa / Millen)\",16],[\"Jacques-Casault / Christophe-Colomb\",19],[\"6e avenue / Villeray\",15],[\"Union / Ren\\u00e9-L\\u00e9vesque\",31],[\"Pierre-de-Coubertin / Langelier\",19],[\"Canning / Notre-Dame\",23],[\"St-Patrick / Briand\",17],[\"St-Marc / Sherbrooke\",15],[\"Hamilton / Jolicoeur\",15],[\"Bloomfield / Jean-Talon\",19],[\"M\\u00e9tro Acadie (de l'Acadie / Beaumont)\",13],[\"Waverly / St-Zotique\",19],[\"Young / Wellington\",27],[\"St-Laurent / St-Jacques\",23],[\"de Mentana / St-Joseph\",19],[\"Hutchison / Beaubien\",26],[\"cyclo\",2],[\"Centre \\u00c9PIC (St-Zotique / 40e avenue)\",23],[\"Dubois / Eadie\",23],[\"Bloomfield / Ball\",15],[\"Tolhurst / Fleury\",19],[\"Guy / Sainte-Catherine\",31],[\"\\u00c9mile-Journault / de Chateaubriand\",31],[\"Marquette / Fleury\",15],[\"Clark / Fleury\",19],[\"Kirkfield / de Chambois\",27],[\"Everett / Garnier\",15],[\"Panet / Ste-Catherine\",19],[\"Earnscliffe / Queen-Mary\",23],[\"M\\u00e9tro Beaudry (Beaudry / Ste-Catherine)\",27],[\"St-Christophe / Ren\\u00e9-L\\u00e9vesque\",19],[\"Benny / Sherbrooke\",19],[\"M\\u00e9tro Universit\\u00e9 de Montr\\u00e9al (\\u00c9douard-Montpetit / Louis-Collin)\",26],[\"Parc des Rapides (LaSalle / 6e avenue)\",23],[\"M\\u00e9tro Langelier (Langelier / Sherbrooke)\",19],[\"Bennett / Adam\",19],[\"Valois / Ste-Catherine\",19],[\"Casgrain / St-Viateur\",23],[\"St-Germain / Hochelaga\",15],[\"Dollard / Van Horne\",19],[\"Durocher / Bernard\",15],[\"Parc Howard (de l'\\u00c9p\\u00e9e / de Li\\u00e8ge)\",15],[\"M\\u00e9tro Laurier (Berri / St-Joseph)\",18],[\"Alexandra / Jean-Talon\",15],[\"St-Dominique / Bernard\",23],[\"Maguire / Henri-Julien\",19],[\"Fullum / Marie-Anne\",15],[\"de Gasp\\u00e9 / St-Viateur\",19],[\"Cartier / Masson\",19],[\"de Bordeaux / Marie-Anne\",11],[\"Berri / Rachel\",15],[\"Drolet / Laurier\",27],[\"Aylmer / Prince-Arthur\",19],[\"Atwater / Greene\",25],[\"Fullum / Gilford\",15],[\"Labadie / du Parc\",15],[\"Durocher / Sherbrooke\",23],[\"Guilbault / Clark\",19],[\"du Mont-Royal / Augustin-Frigon\",19],[\"St-Urbain / Beaubien\",15],[\"Grand Boulevard / de Terrebonne\",31],[\"Ernest-Gendreau / du Mont-Royal\",23],[\"Parc Maisonneuve (Viau / Sherbrooke)\",23],[\"de Maisonneuve / Mansfield (nord)\",19],[\"Peel / Ottawa\",27],[\"M\\u00e9tro Angrignon (Lamont /  des Trinitaires)\",27],[\"Parc de Dieppe\",35],[\"Ottawa / William\",15],[\"Jogues / Allard\",19],[\"Shearer / Centre\",15],[\"Ropery / Augustin-Cantin\",23],[\"de la C\\u00f4te St-Paul / St-Ambroise\",35],[\"Rose-de-Lima / Workman\",27],[\"Biblioth\\u00e8que de Verdun (Brown / Bannantyne)\",15],[\"2e avenue / Wellington\",19],[\"Gordon / Wellington\",15],[\"Argyle / de Verdun\",23],[\"de l'\\u00c9glise / de Verdun\",19],[\"de Castelnau / Lajeunesse\",15],[\"William / Robert-Bourassa\",21],[\"Drolet / Jarry\",19],[\"Clark / de Li\\u00e8ge\",19],[\"de Lanaudi\\u00e8re / B\\u00e9langer\",23],[\"St-Urbain / de la Gaucheti\\u00e8re\",43],[\"City Councillors / du President-Kennedy\",31],[\"Richmond / des Bassins\",31],[\"Jeanne-Mance / Ren\\u00e9-L\\u00e9vesque\",58],[\"Bourgeoys / Favard\",15],[\"St-Mathieu / Sherbrooke\",23],[\"Beaudry / Sherbrooke\",27],[\"Logan / de Champlain\",19],[\"St-Andr\\u00e9 / Robin\",15],[\"Michelet / Jean-Talon\",19],[\"Tupper / du Fort\",19],[\"Jean Langlois / Fullum\",31],[\"Hochelaga / Chapleau\",23],[\"Notre-Dame / Gauvin\",19],[\"du President-Kennedy / Union\",23],[\"St-Hubert / de Maisonneuve (nord)\",23],[\"Jeanne-d'Arc / Ontario\",19],[\"Graham / Brookfield\",23],[\"Graham / Wicksteed\",19],[\"M\\u00e9tro Lionel-Groulx (St-Jacques / Atwater)\",19],[\"McTavish / Sherbrooke\",46],[\"Parc de Bullion (de Bullion / Prince-Arthur)\",19],[\"Metcalfe / du Square-Dorchester\",31],[\"Place des Festivals ( du Pr\\u00e9sident-Kennedy / de Bleury)\",27],[\"St-Jean-Baptiste / Ren\\u00e9-L\\u00e9vesque\",15],[\"Ar\\u00e9na Rodrigue-Gilbert (du Tricentenaire / de Montigny)\",15],[\"du Tricentenaire / Prince-Albert\",15],[\"de St-Firmin / Fleury\",31],[\"d'Iberville / Fleury\",19],[\"Gare Bois-de-Boulogne\",31],[\"Laforest / Dudemaine\",23],[\"Alfred Lalibert\\u00e9 / de Poutrincourt\",19],[\"Chabanel / de l'Esplanade\",15],[\"Chabanel / du Parc\",30],[\"B\\u00e9langer / des Galeries d'Anjou\",23],[\"Grey / Sherbrooke\",15],[\"Union / Ste-Catherine\",7],[\"des Jockeys / D\\u00e9carie\",19],[\"M\\u00e9tro de la Savane (de Sorel / Bougainville)\",23],[\"Graham / Kindersley\",23],[\"St-Joseph / 8e avenue Lachine\",31],[\"8e avenue / Notre-Dame Lachine\",23],[\"Parc St-Louis (St-Joseph / 34e avenue)\",27],[\"Victoria / 18e avenue Lachine\",15],[\"St-Joseph Lachine / 21e avenue\",19],[\"Gagne / LaSalle\",23],[\"Mairie d'arrondissement LaSalle (Dupras / Jeannette)\",19],[\"LaSalle / 37e avenue\",23],[\"Parc Highlands (Highlands / LaSalle)\",27],[\"Newman / Senkus\",19],[\"Casgrain / Maguire\",15],[\"Smith / Peel\",19],[\"M\\u00e9tro Radisson (Sherbrooke / des Groseilliers)\",15],[\"M\\u00e9tro Honor\\u00e9-Beaugrand (Sherbrooke / Honor\\u00e9-Beaugrand)\",23],[\"Parc F\\u00e9lix-Leclerc (Fran\\u00e7ois-Boivin / St-Zotique)\",15],[\"Ste-Claire / Pierre-T\\u00e9treault\",19],[\"Duchesneau / de Marseille\",27],[\"Bennett / Pierre-de-Coubertin\",19],[\"Li\\u00e9bert / Hochelaga\",23],[\"University / des Pins\",39],[\"des R\\u00e9collets / Martial\",27],[\"Dollard / Bernard\",23],[\"Rosemont / Viau\",23],[\"41e avenue / Rosemont\",19],[\"Jeanne-Mance / Beaubien\",15],[\"Ste-Croix / Tass\\u00e9\",23],[\"M\\u00e9tro du Coll\\u00e8ge (Cartier / D\\u00e9carie)\",17],[\"Stinson / Montpellier\",27],[\"Notre-Dame-de-Gr\\u00e2ce / Westmount\",15],[\"Thimens / Alexis-Nihon\",27],[\"Sherbrooke / Vignal\",23],[\"O'Brien / Poirier\",23],[\"de Lisieux / Jean-Talon\",22],[\"Parc Ferland (Belleherbe / Albanel)\",19],[\"Glengarry / Graham\",15],[\"St-Jacques / des Seigneurs\",23],[\"Turgeon / Notre-Dame\",19],[\"Elgar / de l'\\u00cele-des-S\\u0153urs\",14],[\"LaSalle / Godin\",27],[\"Hickson / Wellington\",23],[\"Argyle / Bannantyne\",15],[\"de Versailles / St-Jacques\",23],[\"M\\u00e9tro de Castelnau (de Castelnau / St-Laurent)\",23],[\"Papineau / \\u00c9mile-Journault\",35],[\"16e avenue / Jean-Talon\",11],[\"Melville / de Maisonneuve\",15],[\"du Souvenir / Chomedey\",15],[\"Parc Chopin (Dumouchel / Tessier)\",19],[\"Parc St-Claude (7e avenue / 8e rue)\",27],[\"Parc Henri-Dunant (L\\u00e9ger / Henri-Dunant)\",19],[\"Robin / 15e rue\",15],[\"Legrand / Cartier\",15],[\"de Gasp\\u00e9 / Marmier\",21],[\"C\\u00e9gep Marie-Victorin\",11],[\"H\\u00f4pital Sacr\\u00e9-Coeur (Forbes)\",13],[\"Pratt / Bates\",15],[\"Parc Van Horne (de la Peltrie / de Westbury)\",15],[\"St-R\\u00e9mi / Ste \\u00c9milie\",23],[\"de L\\u00e9ry / Sherbrooke\",15],[\"Parc de Beaus\\u00e9jour (Gouin / Henri-d'Arles)\",19],[\"Parc nature de l'\\u00cele-de-la-Visitation (Gouin / de Bruch\\u00e9si)\",19],[\"Parc Henri-Julien (Legendre / Henri-Julien)\",19],[\"Parc Georges St-Pierre (Oxford / Upper Lachine)\",19],[\"Parc de la Conf\\u00e9d\\u00e9ration (Fielding / West Hill)\",23],[\"REV (Souligny / Desmarteau)\",15],[\"des Ormeaux / de Grosbois\",15],[\"Parc MacDonald (Clanranald / Isabella)\",15],[\"Parc Reine-\\u00c9lizabeth (Penniston / Crawford)\",15],[\"Parc Labelle (LaSalle / Henri-Duhamel)\",19],[\"Parc Champdor\\u00e9 (Champdor\\u00e9 / de Lille)\",15],[\"Beurling / Godin\",19],[\"Parc Loyola (Somerled / Doherty)\",19],[\"Parc Villeray (Christophe-Colomb / Jarry)\",15],[\"Champdor\\u00e9 / de Lorimier\",15],[\"Parc Marlborough (Beauz\\u00e8le / Robichaud)\",15],[\"Place Rodolphe-Rousseau (Gohier / \\u00c9douard-Laurin)\",25],[\"Molson / William-Tremblay\",15],[\"C\\u00e9gep Andr\\u00e9-Laurendeau (Lapierre)\",30],[\"Terminus Newman (Airlie / Lafleur)\",19],[\"Parc Ivan-Franko (33e avenue / Victoria)\",15],[\"19e avenue / St-Antoine\",15],[\"Parc des V\\u00e9t\\u00e9rans (des V\\u00e9t\\u00e9rans / Broadway)\",23],[\"Monsabr\\u00e9 / Boileau\",19],[\"Monk / Biencourt\",15],[\"Egan / Laurendeau\",15],[\"Parc de l'H\\u00f4tel-de-Ville (Laurendeau / Ste-Julie)\",19],[\"Parc Sauv\\u00e9 (Balzac / de Bayonne)\",15],[\"Plessis / Logan\",19],[\"41e avenue / Victoria\",15],[\"de C\\u00f4me / Jean-Talon\",15],[\"Lapierre / Serge\",15],[\"St-Antoine / de la Montagne\",19],[\"McCulloch / de la C\\u00f4te Ste-Catherine\",15],[\"Lacombe / Victoria\",11],[\"Langelier / Marie-Victorin\",15],[\"Parc Joseph-Robin (18e avenue / Everett)\",19],[\"Centre r\\u00e9cr\\u00e9atif \\u00c9douard-Rivet (Lesage / Notre-Dame)\",19],[\"Gare d'autocars de Montr\\u00e9al (Berri / Ontario)\",15],[\"Marquette / Gilford\",15],[\"Gilford / St-Denis\",39],[\"Parc Chenier (de l'Ar\\u00e9na / Chenier)\",19],[\"Gloria / Dollard\",15],[\"Dixie / 54e avenue\",19],[\"St-Ambroise / Louis-Cyr\",31],[\"St-Charles / Thomas-Keefer\",19],[\"Gilford / des \\u00c9rables\",15],[\"Dorion / Rachel\",19],[\"6e avenue / B\\u00e9langer\",19],[\"Parc P\\u00e8re-Marquette (de Lanaudi\\u00e8re / de Bellechasse)\",19],[\"Messier / St-Joseph\",17],[\"Fullum / Ontario\",15],[\"Travaux publics LaSalle (Cordner / L\\u00e9ger)\",15],[\"8e avenue / Everett\",15],[\"CHU Ste-Justine (de la C\\u00f4te Ste-Catherine / Hudson)\",37],[\"Durocher / Beaumont\",19],[\"Sabrevois / des R\\u00e9collets\",15],[\"Parc de Montr\\u00e9al-Est (Notre-Dame Est / David)\",15],[\"Ateliers municipaux de St-Laurent (Cavendish / Poirier)\",19],[\"Rousselot / Jarry\",15],[\"Centre des loisirs (Tass\\u00e9 / Grenet)\",15],[\"Parc St-Laurent (Salk / Thomas-Chapais)\",19],[\"Biblioth\\u00e8que du Bois\\u00e9 (Thimens / Todd)\",23],[\"Parc St-Laurent (Dutrisac)\",19],[\"Parc Beaulac (rue \\u00c9lizabeth)\",15],[\"CHSLD St-Michel (8e avenue / Jarry)\",15],[\"Parc Wilfrid-Bastien (Lacordaire / des Galets)\",19],[\"H\\u00f4pital Santa Cabrini (St-Zotique / Jeanne-Jugan)\",15],[\"Parc Delorme (Malouin / Lafert\\u00e9)\",19],[\"Mairie d'arrondissement Montr\\u00e9al-Nord (H\\u00e9bert / de Charleroi)\",21],[\"Parc Luigi-Pirandello (de Bretagne / Jean-Rivard)\",15],[\"Parc LaSalle (10e avenue / Victoria)\",19],[\"Parc Stoney-Point (St-Joseph / 47e avenue)\",19],[\"Parc riverain de Lachine (des Iroquois)\",21],[\"Biblioth\\u00e8que Jean-Corbeil (Goncourt / Place Montrichard)\",11],[\"Ar\\u00e9na Chaumont (Chaumont / des Ormeaux)\",19],[\"Parc Chamberland (Dorais / de l'\\u00c9glise)\",19],[\"Bassin olympique (Chemin du Chenal le Moyne)\",19],[\"Parc Noel-Nord (Toupin / Keller)\",19],[\"Parc du Bois-Franc (de l'\\u00c9quateur / des Andes)\",19],[\"Parc Grovehill (St-Antoine / Ivan-Franko)\",15],[\"Parc Summerlea (53e avenue / St-Joseph)\",15],[\"Parc Kirkland (des \\u00c9rables / Boyer)\",15],[\"M\\u00e9tro Montmorency\",23],[\"M\\u00e9tro Cartier\",19],[\"Parc Painter (Marcotte / Quenneville)\",15],[\"Parc du Mail (Bois de Coulonges / du Mail)\",15],[\"March\\u00e9 Jean-Talon (Casgrain / Shamrock)\",26],[\"2e avenue / Centrale\",15],[\"M\\u00e9tro de la Concorde (L\\u00e9o-Lacombe)\",19],[\"Biblioth\\u00e8que d'Ahuntsic (Lajeunesse / Fleury)\",15],[\"Parc d'Antioche (Place d'Antioche / St-Zotique)\",19],[\"CCI Outremont (Dollard / Durcharme)\",15],[\"Fabrik8 (Waverly / Jean-Talon)\",18],[\"Terminus Le Carrefour (Terry-Fox / Le Carrefour)\",23],[\"LaSalle / 90e avenue\",15],[\"test514\",0],[\"Parc Beaubien Outremont (Stuart / St-Viateur)\",15],[\"HEC (Decelles / Jean-Brillant)\",25],[\"Parc Olympique (Pie-IX / Sherbrooke)\",25],[\"de Chenonceau / Chomedey\",23],[\"Mayfield / St-Martin O\",19],[\"9100\",0],[\"9102\",0],[\"9103\",0],[\"Parc H\\u00e9bert (Colbert / Provencher)\",15],[\"Parc Courbertin (Val\\u00e9ry / Perrier)\",19],[\"Parc Garibaldi (Li\\u00e9nart / B\\u00e9langer)\",15],[\"Alton-Goldbloom / Notre-Dame\",19],[\"Parc Charleroi (Alfred / Louis-Francoeur)\",15],[\"Parc Aim\\u00e9-L\\u00e9onard (Gouin / Ste-Gertrude)\",17],[\"Parc Maurice-B\\u00e9langer (H\\u00e9bert / Denomm\\u00e9e)\",15],[\"St-Hubert / de Maisonneuve (sud)\",19],[\"C\\u00c9GEP du Vieux-Montr\\u00e9al (Ontario / de l'H\\u00f4tel-de-Ville)\",15],[\"Complexe sportif Claude Robillard (\\u00c9mile-Journault)\",24],[\"Gare St-Michel / Montr\\u00e9al-Nord (Pie-IX / 56e)\",15],[\"IUSMM (Georges-Villeneuve)\",27],[\"Parc Eus\\u00e8be-M\\u00e9nard (Gouin / St-Vital)\",18],[\"CHSLD Joseph-Fran\\u00e7ois-Perrault (St-Michel / Everett)\",18],[\"Mairie d'arrondissement St-Laurent (Beaudet / Marcel-Laurin)\",27],[\"Hochelaga / de l'Assomption\",23],[\"Gare Montpellier (Muir / de la C\\u00f4te-Vertu)\",15],[\"Biblioth\\u00e8que du Vieux-St-Laurent (de l'\\u00c9glise / Filiatrault)\",18],[\"Gare du Ruisseau (Dutrisac / Henri-Bourassa)\",19],[\"M\\u00e9tro St-Laurent 2 ( de Maisonneuve / St-Laurent)\",23],[\"Parc Nicolas-Tillemont (des \\u00c9rables / Villeray)\",18],[\"BAnQ (Berri)\",15],[\"Parc Ottawa (de Belleville / Fleury)\",15],[\"CHSLD Robert Cliche (de Bellechasse / 16e avenue)\",15],[\"Square Viger (Berri / Viger)\",30],[\"Coll\\u00e8ge de Rosemont (15e avenue / Beaubien)\",25],[\"Parc Armand-Bombardier (Perras / Armand-Bombardier)\",15],[\"du Mans / des Alouettes\",23],[\"Pierre-P\\u00e9ladeau / du Centropolis\",23],[\"Jeanne-Mance / St-Martin O\",23],[\"de Grenoble / de Cassis\",19],[\"Le Corbusier / St-Martin O\",19],[\"McNamara / St-Martin O\",19],[\"Pr\\u00e9fontaine / Marcel-P\\u00e9pin\",19],[\"Keller / Cousineau\",15],[\"de Chambly / de Rouen\",11],[\"H\\u00f4pital G\\u00e9n\\u00e9ral Juif (de la C\\u00f4te-Ste-Catherine / L\\u00e9gar\\u00e9)\",26],[\"Parc Ernest-Rouleau (Gouin)\",19],[\"8115\",3],[\"Square Nelligan (des Appalaches / Alexis-Nihon)\",15],[\"Parc Honor\\u00e9-Mercier (Notre-Dame / Li\\u00e9bert)\",27],[\"Test ECO5.1.1\",0],[\"CHU Ste-Justine 2 (Decelles / de la C\\u00f4te-Ste-Catherine)\",3],[\"8099\",3],[\"8139\",3],[\"Grenet / Poirier\",15],[\"8101\",2],[\"Gare Lachine (Sir George Simpson / 48e avenue)\",15],[\"8100\",3]],\"hovertemplate\":\"<b>%{hovertext}</b><br><br>capacity=%{marker.color}<br>lat=%{lat}<br>lon=%{lon}<br>name=%{customdata[0]}<extra></extra>\",\"hovertext\":[\"Square Victoria (Viger / du Square-Victoria)\",\"M\\u00e9tro Champ-de-Mars (Viger / Sanguinet)\",\"Ste-Catherine / Dezery\",\"Evans / Clark\",\"du Champ-de-Mars / Gosford\",\"Brittany / Ainsley\",\"de Bellechasse / Pie-IX\",\"de l'H\\u00f4tel-de-Ville / Ste-Catherine\",\"Ste-Catherine / Sanguinet\",\"Crescent / de Maisonneuve\",\"de Grosbois / Duchesneau\",\"St-Andr\\u00e9 / St-Antoine\",\"M\\u00e9tro St-Laurent (de Maisonneuve / St-Laurent)\",\"Sanguinet / de Maisonneuve\",\"St-Denis / Ste-Catherine\",\"Berri /Ste-Catherine\",\"Jacques-Le Ber / de la Pointe Nord\",\"Atateken / du Square Amherst\",\"St-Andr\\u00e9 / Ontario\",\"M\\u00e9tro Sherbrooke (de Rigaud / Berri)\",\"de l'H\\u00f4tel-de-Ville / Ontario\",\"Beaudry / Ontario\",\"de la Commune / Berri\",\"des Ormeaux / Notre-Dame\",\"Notre-Dame / St-Gabriel\",\"de la Commune / Place Jacques-Cartier\",\"de Maisonneuve / Mansfield (sud)\",\"Irene / St-Jacques\",\"St-Antoine / St-Fran\\u00e7ois-Xavier\",\"M\\u00e9tro Place-d'Armes (Viger / St-Urbain)\",\"Viger / Chenneville\",\"de la Commune / St-Sulpice\",\"St-Nicolas / Place d'Youville\",\"Place d'Youville / McGill\",\"des R\\u00e9collets / McGill\",\"St-Jacques / St-Pierre\",\"St-Jacques / McGill\",\"de la Gaucheti\\u00e8re / Robert-Bourassa\",\"Roy / St-Andr\\u00e9\",\"M\\u00e9tro Bonaventure (de la Gaucheti\\u00e8re / de la Cath\\u00e9drale)\",\"Milton / Durocher\",\"William / St-Henri\",\"Queen / Wellington\",\"St-Maurice / Robert-Bourassa\",\"Henri-Julien / de Bellechasse\",\"de la Commune / King\",\"M\\u00e9tro Place-des-Arts (du Pr\\u00e9sident-Kennedy / Jeanne-Mance)\",\"Place du Canada (Peel / de la Gaucheti\\u00e8re)\",\"Cypress / Peel\",\"de la Cath\\u00e9drale / Ren\\u00e9-L\\u00e9vesque\",\"St-Urbain / Ren\\u00e9-L\\u00e9vesque\",\"Mansfield / Ste-Catherine\",\"Drummond / Ste-Catherine\",\"Drummond / de Maisonneuve\",\"M\\u00e9tro Peel (de Maisonneuve / Stanley)\",\"de la Montagne / Sherbrooke\",\"Quai de la navette fluviale\",\"2e avenue / Jean-Rivard\",\"University / Milton\",\"de Maisonneuve / Aylmer (ouest)\",\"de Ville-Marie / Ste-Catherine\",\"St-Alexandre / Ste-Catherine\",\"M\\u00e9tro Vend\\u00f4me (de Marlowe / de Maisonneuve)\",\"Mackay / Ste-Catherine\",\"5e avenue / Rosemont\",\"Aylmer / Ste-Catherine\",\"Duke / Brennan\",\"Notre-Dame / Jean-d'Estr\\u00e9es\",\"Henri-Julien / du Carmel\",\"M\\u00e9tro Lucien-L'Allier  (Lucien l'Allier / Argyle)\",\"Joseph-Manseau / Ren\\u00e9-L\\u00e9vesque\",\"Crescent / Ren\\u00e9-L\\u00e9vesque\",\"M\\u00e9tro Beaubien (de Chateaubriand / Beaubien)\",\"M\\u00e9tro Atwater (Atwater / Ste-Catherine)\",\"Chomedey / de Maisonneuve\",\"Lucien L'Allier / St-Jacques\",\"St-Marc / Ste-Catherine\",\"Ste-Catherine / Bishop\",\"Ste-Catherine / Labelle\",\"Mackay / de Maisonneuve\",\"M\\u00e9tro Villa-Maria (de Monkland / D\\u00e9carie)\",\"Lincoln / du Fort\",\"de Rouen / Lesp\\u00e9rance\",\"Wolfe / de la Gaucheti\\u00e8re\",\"Plessis / Ren\\u00e9-L\\u00e9vesque\",\"Ren\\u00e9-L\\u00e9vesque / Papineau\",\"St-Mathieu / Baile\",\"Logan / Fullum\",\"Parc Plage\",\"Poupart / Ste-Catherine\",\"Ste-Catherine / Parthenais\",\"Montcalm / de Maisonneuve\",\"Alexandre-DeS\\u00e8ve / Ste-Catherine\",\"M\\u00e9tro Papineau (Cartier / Ste-Catherine)\",\"Parc Benny (Benny / de Monkland)\",\"Plessis / Ontario\",\"de Maisonneuve / Aylmer (est)\",\"Alexandre-DeS\\u00e8ve  / Ontario\",\"Dorion / Ontario\",\"M\\u00e9tro Frontenac (Ontario / du Havre)\",\"du Havre / de Rouen\",\"Logan / d'Iberville\",\"la Fontaine / Alexandre-de-S\\u00e8ve\",\"Poupart / Ontario\",\"de la Peltrie / de la C\\u00f4te-des-Neiges\",\"Fullum / de Rouen\",\"Henri-Julien / de Castelnau\",\"Hogan / Ontario\",\"Sherbrooke / Frontenac\",\"Parc Baldwin (Fullum / Sherbrooke)\",\"Terrasse Mercure / Fullum\",\"Dorion / Sherbrooke\",\"Ste-Famille / Sherbrooke\",\"University / Prince-Arthur\",\"Hutchison / Prince-Arthur\",\"Andr\\u00e9-Laurendeau / Rachel\",\"Atwater / Sherbrooke\",\"Drolet / Beaubien\",\"de Gasp\\u00e9 / Beaubien\",\"Parc du P\\u00e9lican (2e avenue / St-Joseph)\",\"Marquette / des Carri\\u00e8res\",\"M\\u00e9tro Fabre (Marquette / Jean-Talon)\",\"Louis-H\\u00e9mon / Jean-Talon\",\"Metcalfe / de Maisonneuve\",\"Drolet / Marie-Anne\",\"Bercy / Rachel\",\"Larivi\\u00e8re / de Lorimier\",\"M\\u00e9tro Laurier (Berri / Laurier)\",\"Gauthier / Papineau\",\"Gauthier / de Lorimier\",\"Gauthier / Parthenais\",\"Marquette / Rachel\",\"des \\u00c9rables / Rachel\",\"Calixa-Lavall\\u00e9e / Rachel\",\"Rachel / de Br\\u00e9beuf\",\"du Parc-La Fontaine / Duluth\",\"du Parc-La Fontaine / Roy\",\"Calixa-Lavall\\u00e9e / Sherbrooke\",\"\\u00c9mile-Duploy\\u00e9 / Sherbrooke\",\"Chapleau / du Mont-Royal\",\"Messier / du Mont-Royal\",\"Parthenais / du Mont-Royal\",\"Bordeaux / Mont-Royal\",\"Marie-Anne / Papineau\",\"Marquette / du Mont-Royal\",\"de Lanaudi\\u00e8re / du Mont-Royal\",\"de la Roche / Marie-Anne\",\"de Br\\u00e9beuf / du Mont-Royal\",\"de Br\\u00e9beuf / Gilford\",\"Ann / Wellington\",\"Garnier / St-Joseph\",\"Cartier / St-Joseph\",\"St-Dominique / de Bellechasse\",\"Marquette / Laurier\",\"de Lanaudi\\u00e8re / Laurier\",\"Laurier / de Br\\u00e9beuf\",\"Gerry-Boulet / St-Gr\\u00e9goire\",\"Garnier / St-Gr\\u00e9goire\",\"Marmier / St-Denis\",\"Boyer / du Mont-Royal\",\"de Mentana / Laurier\",\"Wolfe / Robin\",\"Berri / Cherrier\",\"Roy / St-Denis\",\"St-Andr\\u00e9 / Cherrier\",\"du Parc-Lafontaine / Rachel\",\"St-Hubert / Duluth\",\"Rivard / Rachel\",\"Duluth  / St-Denis\",\"des Soeurs-Grises / Marguerite d'Youville\",\"Clark / Rachel\",\"de Bullion / du Mont-Royal\",\"Laval / du Mont-Royal\",\"M\\u00e9tro Mont-Royal (Rivard / du Mont-Royal)\",\"des \\u00c9rables / B\\u00e9langer\",\"St-Hubert / Laurier\",\"Resther / du Mont-Royal\",\"de Mentana / Marie-Anne\",\"Chabot / Villeray\",\"Pontiac / Gilford\",\"St-Zotique / Clark\",\"Boucher / St-Denis\",\"de l'Esplanade / Fairmount\",\"de Gasp\\u00e9 / Fairmount\",\"de Bullion / St-Joseph\",\"Villeneuve / St-Laurent\",\"de Bordeaux / Masson\",\"H\\u00e9l\\u00e8ne-Baillargeon / St-Denis\",\"Clark / St-Viateur\",\"Maguire / St-Laurent\",\"de l'H\\u00f4tel-de-Ville / Villeneuve\",\"Aylmer / Sherbrooke\",\"Milton / du Parc\",\"Prince-Arthur / du Parc\",\"Ste-Famille / des Pins\",\"Hutchison / des Pins\",\"Milton / Clark\",\"M\\u00e9tro Sauv\\u00e9 (Berri / Sauv\\u00e9)\",\"Roy / St-Laurent\",\"Duluth / de l'Esplanade\",\"Duluth / St-Laurent\",\"Square St-Louis (du Square St-Louis / Laval)\",\"Metcalfe / St-Catherine\",\"Parc Jeanne-Mance (monument \\u00e0 sir George-\\u00c9tienne Cartier)\",\"Valli\\u00e8res / St-Laurent\",\"de l'H\\u00f4tel-de-Ville / Roy\",\"Laval / Duluth\",\"du Mont-Royal / Clark\",\"de l'Esplanade / du Mont-Royal\",\"Parc Jeanne-Mance (du Mont-Royal / du Parc)\",\"Villeneuve / du Parc\",\"Villeneuve / St-Urbain\",\"H\\u00f4pital Maisonneuve-Rosemont (Rosemont / Chatelain)\",\"Jeanne-Mance / Laurier\",\"St-Dominique / du Mont-Royal\",\"Waverly / St-Viateur\",\"Jeanne-Mance / St-Viateur\",\"Bernard / St-Urbain\",\"St-Dominique / St-Viateur\",\"Laurier / de Bordeaux\",\"Gilford / de Lanaudi\\u00e8re\",\"St-Dominique / Napol\\u00e9on\",\"de Bordeaux / Jean-Talon\",\"Parc Kent (de Kent / Hudson)\",\"Querbes / Laurier\",\"Bloomfield / Bernard\",\"Bloomfield / Van Horne\",\"St-Cyril / Wiseman\",\"St-Dominique / St-Zotique\",\"St-Dominique / Rachel\",\"B\\u00e9langer / St-Denis\",\"March\\u00e9 Jean-Talon (Henri-Julien / Jean-Talon)\",\"de Gasp\\u00e9 / Dante\",\"Mozart / St-Laurent\",\"M\\u00e9tro Jean-Talon (Berri / Jean-Talon)\",\"Boyer / B\\u00e9langer\",\"Boyer / St-Zotique\",\"de St-Vallier / St-Zotique\",\"Parc P\\u00e8re-Marquette (Chambord / Rosemont)\",\"des \\u00c9rables / Dandurand\",\"Cartier / Dandurand\",\"Louis-H\\u00e9mon / Rosemont\",\"de la Roche /  de Bellechasse\",\"de Hampton / de Monkland\",\"Chabot / de Bellechasse\",\"des \\u00c9rables / Laurier\",\"Louis-H\\u00e9bert / de Bellechasse\",\"Chabot / Beaubien\",\"Chambord / Beaubien\",\"Wurtele / de Rouen\",\"Fabre / St-Zotique\",\"Place du Village (St-Jean-Baptiste / Notre-Dame)\",\"de Bordeaux / St-Zotique\",\"Cartier / B\\u00e9langer\",\"Christophe-Colomb / St-Joseph\",\"Chambord / de Castelnau\",\"de la Roche / B\\u00e9langer\",\"Louis-H\\u00e9bert / St-Zotique\",\"Louis-H\\u00e9bert / B\\u00e9langer\",\"Fabre / Beaubien\",\"Fullum / Holt\",\"M\\u00e9tro Rosemont (de St-Vallier / Rosemont)\",\"Boyer / Rosemont\",\"de Bellechasse / de St-Vallier\",\"Augustin-Cantin / Shearer\",\"Marie-Anne / St-Hubert\",\"\\u00c9douard-Montpetit / de Stirling\",\"McKenna / \\u00c9douard-Montpetit\",\"Waverly / Van Horne\",\"Hutchison / Van Horne\",\"Bernard / Jeanne-Mance\",\"Basile-Routhier / Chabanel\",\"Biblioth\\u00e8que et Complexe aquatique Rosemont (9e avenue / Rosemont)\",\"Boyer / Beaubien\",\"des Bassins / du S\\u00e9minaire\",\"Notre-Dame / de la Montagne\",\"Guy / Notre-Dame\",\"Louis-H\\u00e9bert / Beaubien\",\"St-Dominique / Laurier\",\"M\\u00e9tro Charlevoix (Centre / Charlevoix)\",\"des Seigneurs / Notre-Dame\",\"Ste-\\u00c9milie / Sir-Georges-Etienne-Cartier\",\"Georges-Vanier / Notre-Dame\",\"Quesnel / Vinet\",\"Duvernay / Charlevoix\",\"March\\u00e9 Atwater\",\"Charlevoix / Lionel-Groulx\",\"M\\u00e9tro Georges-Vanier (St-Antoine / Canning)\",\"Laval / Rachel\",\"4e avenue / de Verdun\",\"de Soissons / de Darlington\",\"Bel Air / St-Antoine\",\"de Kent / de la C\\u00f4te-des-Neiges\",\"Drolet / St-Zotique\",\"de Lanaudi\\u00e8re / Marie-Anne\",\"Jean-Brillant / de la C\\u00f4te-des-Neiges\",\"McLynn / Plamondon\",\"Bourbonni\\u00e8re / du Mont-Royal\",\"de Bordeaux / Gilford\",\"M\\u00e9tro Pr\\u00e9fontaine (Moreau / Hochelaga)\",\"M\\u00e9tro Joliette  (Joliette / Hochelaga)\",\"d'Orl\\u00e9ans / Hochelaga\",\"Boyer / Jean-Talon\",\"Aylwin / Ontario\",\"D\\u00e9z\\u00e9ry / Ontario\",\"Parc Lalancette (de Rouen / Valois)\",\"M\\u00e9tro Viau (Viau / Pierre-de-Coubertin)\",\"March\\u00e9 Maisonneuve\",\"de la Salle / Ontario\",\"Guizot / St-Laurent\",\"Faillon / St-Denis\",\"Drolet / Gounod\",\"de Gasp\\u00e9 / Jarry\",\"Guizot / St-Denis\",\"de Gasp\\u00e9 / de Li\\u00e8ge\",\"Leman / de Chateaubriand\",\"M\\u00e9tro Jarry (Lajeunesse / Jarry)\",\"du Rosaire / St-Hubert\",\"Boyer / Everett\",\"de Chateaubriand / Jarry\",\"Harvard / de Monkland\",\"de la Roche / Everett\",\"Regina / de Verdun\",\"Marquette / Villeray\",\"Nicolet / Sherbrooke\",\"M\\u00e9tro St-Michel (Shaughnessy / St-Michel)\",\"Ryde / Charlevoix\",\"de Laprairie / Centre\",\"St-Dominique / Gounod\",\"Lajeunesse / de Li\\u00e8ge\",\"de Gasp\\u00e9 / Villeray\",\"Marcil / Sherbrooke\",\"Ontario / Sicard\",\"de Monkland / Girouard\",\"12e avenue / St-Zotique\",\"1\\u00e8re  avenue / St-Zotique\",\"St-Catherine / St-Laurent\",\"Beaubien / 8e avenue\",\"Molson / Beaubien\",\"1\\u00e8re avenue / Rosemont\",\"de la C\\u00f4te St-Antoine / Royal\",\"de Chambly / Rachel\",\"Wilderton  / Van Horne\",\"3e avenue / Holt\",\"10e avenue / Masson\",\"U. Concordia - Campus Loyola (Sherbrooke / West Broadway)\",\"d'Orl\\u00e9ans / Masson\",\"5e avenue / Masson\",\"Parc du P\\u00e9lican (1\\u00e8re avenue / Masson)\",\"7e avenue / St-Joseph Rosemont\",\"15e avenue / Masson\",\"M\\u00e9tro Place St-Henri (St-Ferdinand / St-Jacques)\",\"16e avenue / St-Joseph\",\"de Ch\\u00e2teauguay / Ropery\",\"de l'\\u00c9glise / Bannantyne\",\"Parc J.-Arthur-Champagne (de Chambly / du Mont-Royal)\",\"Omer-Lavall\\u00e9e / du Midway\",\"Darling / Sherbrooke\",\"M\\u00e9tro Pie-IX (Pierre-de-Coubertin / de la Salle)\",\"Bloomfied / St-Viateur\",\"Durocher / St-Viateur\",\"Parc Pratt (Dunlop / Van Horne)\",\"Parc Joyce (Rockland / Lajoie)\",\"Davaar / de la C\\u00f4te-Ste-Catherine\",\"M\\u00e9tro \\u00c9douard-Montpetit (du Mont-Royal / Vincent-d'Indy)\",\"Gary-Carter / St-Laurent\",\"St-Dominique / Jean-Talon\",\"Delisle / George-Vanier\",\"11e avenue / du Souvenir\",\"de l'H\\u00f4tel-de-Ville / Sherbrooke\",\"Campus MIL (Outremont / Th\\u00e9r\\u00e8se-Lavoie Roux)\",\"Prince-Arthur / St-Urbain\",\"Parc Jean-Drapeau (Chemin Macdonald)\",\"Casino de Montr\\u00e9al\",\"M\\u00e9tro Parc  (Hutchison / Ogilvy)\",\"La Ronde\",\"de Melrose / Sherbrooke\",\"Letourneux / Hochelaga\",\"Par\\u00e9 / Mountain Sights\",\"Cartier / Rosemont\",\"Notre-Dame-de-Gr\\u00e2ce / D\\u00e9carie\",\"Beaucourt / de la C\\u00f4te-Ste-Catherine\",\"de Maisonneuve / Mansfield SE\",\"M\\u00e9tro Snowdon (de Westbury / Queen-Mary)\",\"P\\u00e9loquin / Fleury\",\"M\\u00e9tro Cr\\u00e9mazie (Cr\\u00e9mazie / Lajeunesse)\",\"Louisbourg / O'brien\",\"Ste-Catherine / Union\",\"Parc St-Henri (Laporte / Guay)\",\"M\\u00e9tro de l'\\u00c9glise (Ross / de l'\\u00c9glise)\",\"M\\u00e9tro Verdun (Willibrord / de Verdun)\",\"M\\u00e9tro Lasalle (de Rushbrooke / Caisse)\",\"Place du Commerce\",\"Clark / Prince-Arthur\",\"Berlioz / de l'\\u00cele des Soeurs\",\"St-Hubert / St-Joseph\",\"de Maisonneuve / Greene\",\"Hillside / Ste-Catherine\",\"Victoria / de Maisonneuve\",\"Victoria Hall\",\"de la C\\u00f4te St-Antoine / Argyle\",\"St-Charles / Montarville\",\"Place Longueuil\",\"St-Charles / Grant\",\"St-Charles / Labont\\u00e9\",\"Coll\\u00e8ge \\u00c9douard-Montpetit (de Gentilly / de Normandie)\",\"M\\u00e9tro Longueuil - Universit\\u00e9 de Sherbrooke\",\"Parc Ludger-Duvernay (St-Andr\\u00e9 / St-Hubert)\",\"Cit\\u00e9 des Arts du Cirque (Paul Boutet / des Regrattiers)\",\"Letourneux / Ste-Catherine\",\"Drummond / Sherbrooke\",\"M\\u00e9tro Assomption (Chauveau / de l'Assomption)\",\"Jardin Botanique (Pie-IX / Sherbrooke)\",\"19e avenue / St-Zotique\",\"5e avenue / Bannantyne\",\"Beatty / de Verdun\",\"M\\u00e9tro Jolicoeur (de S\\u00e8ve / Drake)\",\"de Bleury / de Maisonneuve\",\"Parc St-Paul (Le Caron / Marc-Sauvalle)\",\"Chambord / Fleury\",\"Mozart / Waverly\",\"LaSalle / Crawford\",\"29e avenue / St-Zotique\",\"LaSalle / 80e avenue\",\"Natatorium (LaSalle / Rolland)\",\"Francis / Fleury\",\"M\\u00e9tro Plamondon (Carlton / Victoria)\",\"Grand Boulevard / Sherbrooke\",\"Park Row O / Sherbrooke\",\"Ontario / Viau\",\"M\\u00e9tro Cadillac (Cadillac / Sherbrooke)\",\"Du Quesne / Pierre-de-Coubertin\",\"26e avenue / Beaubien\",\"L\\u00e9a-Roback / Sir-Georges-Etienne-Cartier\",\"M\\u00e9tro Monk (Allard / Beaulieu)\",\"Hamel / Sauv\\u00e9\",\"Montmorency / Richardson\",\"d'Outremont / Ogilvy\",\"St-Andr\\u00e9 / Ste-Catherine\",\"35e avenue / Beaubien\",\"de Normanville / Villeray\",\"Fortune / Wellington\",\"27e avenue / Rosemont\",\"Lajeunesse / Villeray\",\"M\\u00e9tro Henri-Bourassa (Henri-Bourassa / Millen)\",\"Jacques-Casault / Christophe-Colomb\",\"6e avenue / Villeray\",\"Union / Ren\\u00e9-L\\u00e9vesque\",\"Pierre-de-Coubertin / Langelier\",\"Canning / Notre-Dame\",\"St-Patrick / Briand\",\"St-Marc / Sherbrooke\",\"Hamilton / Jolicoeur\",\"Bloomfield / Jean-Talon\",\"M\\u00e9tro Acadie (de l'Acadie / Beaumont)\",\"Waverly / St-Zotique\",\"Young / Wellington\",\"St-Laurent / St-Jacques\",\"de Mentana / St-Joseph\",\"Hutchison / Beaubien\",\"cyclo\",\"Centre \\u00c9PIC (St-Zotique / 40e avenue)\",\"Dubois / Eadie\",\"Bloomfield / Ball\",\"Tolhurst / Fleury\",\"Guy / Sainte-Catherine\",\"\\u00c9mile-Journault / de Chateaubriand\",\"Marquette / Fleury\",\"Clark / Fleury\",\"Kirkfield / de Chambois\",\"Everett / Garnier\",\"Panet / Ste-Catherine\",\"Earnscliffe / Queen-Mary\",\"M\\u00e9tro Beaudry (Beaudry / Ste-Catherine)\",\"St-Christophe / Ren\\u00e9-L\\u00e9vesque\",\"Benny / Sherbrooke\",\"M\\u00e9tro Universit\\u00e9 de Montr\\u00e9al (\\u00c9douard-Montpetit / Louis-Collin)\",\"Parc des Rapides (LaSalle / 6e avenue)\",\"M\\u00e9tro Langelier (Langelier / Sherbrooke)\",\"Bennett / Adam\",\"Valois / Ste-Catherine\",\"Casgrain / St-Viateur\",\"St-Germain / Hochelaga\",\"Dollard / Van Horne\",\"Durocher / Bernard\",\"Parc Howard (de l'\\u00c9p\\u00e9e / de Li\\u00e8ge)\",\"M\\u00e9tro Laurier (Berri / St-Joseph)\",\"Alexandra / Jean-Talon\",\"St-Dominique / Bernard\",\"Maguire / Henri-Julien\",\"Fullum / Marie-Anne\",\"de Gasp\\u00e9 / St-Viateur\",\"Cartier / Masson\",\"de Bordeaux / Marie-Anne\",\"Berri / Rachel\",\"Drolet / Laurier\",\"Aylmer / Prince-Arthur\",\"Atwater / Greene\",\"Fullum / Gilford\",\"Labadie / du Parc\",\"Durocher / Sherbrooke\",\"Guilbault / Clark\",\"du Mont-Royal / Augustin-Frigon\",\"St-Urbain / Beaubien\",\"Grand Boulevard / de Terrebonne\",\"Ernest-Gendreau / du Mont-Royal\",\"Parc Maisonneuve (Viau / Sherbrooke)\",\"de Maisonneuve / Mansfield (nord)\",\"Peel / Ottawa\",\"M\\u00e9tro Angrignon (Lamont /  des Trinitaires)\",\"Parc de Dieppe\",\"Ottawa / William\",\"Jogues / Allard\",\"Shearer / Centre\",\"Ropery / Augustin-Cantin\",\"de la C\\u00f4te St-Paul / St-Ambroise\",\"Rose-de-Lima / Workman\",\"Biblioth\\u00e8que de Verdun (Brown / Bannantyne)\",\"2e avenue / Wellington\",\"Gordon / Wellington\",\"Argyle / de Verdun\",\"de l'\\u00c9glise / de Verdun\",\"de Castelnau / Lajeunesse\",\"William / Robert-Bourassa\",\"Drolet / Jarry\",\"Clark / de Li\\u00e8ge\",\"de Lanaudi\\u00e8re / B\\u00e9langer\",\"St-Urbain / de la Gaucheti\\u00e8re\",\"City Councillors / du President-Kennedy\",\"Richmond / des Bassins\",\"Jeanne-Mance / Ren\\u00e9-L\\u00e9vesque\",\"Bourgeoys / Favard\",\"St-Mathieu / Sherbrooke\",\"Beaudry / Sherbrooke\",\"Logan / de Champlain\",\"St-Andr\\u00e9 / Robin\",\"Michelet / Jean-Talon\",\"Tupper / du Fort\",\"Jean Langlois / Fullum\",\"Hochelaga / Chapleau\",\"Notre-Dame / Gauvin\",\"du President-Kennedy / Union\",\"St-Hubert / de Maisonneuve (nord)\",\"Jeanne-d'Arc / Ontario\",\"Graham / Brookfield\",\"Graham / Wicksteed\",\"M\\u00e9tro Lionel-Groulx (St-Jacques / Atwater)\",\"McTavish / Sherbrooke\",\"Parc de Bullion (de Bullion / Prince-Arthur)\",\"Metcalfe / du Square-Dorchester\",\"Place des Festivals ( du Pr\\u00e9sident-Kennedy / de Bleury)\",\"St-Jean-Baptiste / Ren\\u00e9-L\\u00e9vesque\",\"Ar\\u00e9na Rodrigue-Gilbert (du Tricentenaire / de Montigny)\",\"du Tricentenaire / Prince-Albert\",\"de St-Firmin / Fleury\",\"d'Iberville / Fleury\",\"Gare Bois-de-Boulogne\",\"Laforest / Dudemaine\",\"Alfred Lalibert\\u00e9 / de Poutrincourt\",\"Chabanel / de l'Esplanade\",\"Chabanel / du Parc\",\"B\\u00e9langer / des Galeries d'Anjou\",\"Grey / Sherbrooke\",\"Union / Ste-Catherine\",\"des Jockeys / D\\u00e9carie\",\"M\\u00e9tro de la Savane (de Sorel / Bougainville)\",\"Graham / Kindersley\",\"St-Joseph / 8e avenue Lachine\",\"8e avenue / Notre-Dame Lachine\",\"Parc St-Louis (St-Joseph / 34e avenue)\",\"Victoria / 18e avenue Lachine\",\"St-Joseph Lachine / 21e avenue\",\"Gagne / LaSalle\",\"Mairie d'arrondissement LaSalle (Dupras / Jeannette)\",\"LaSalle / 37e avenue\",\"Parc Highlands (Highlands / LaSalle)\",\"Newman / Senkus\",\"Casgrain / Maguire\",\"Smith / Peel\",\"M\\u00e9tro Radisson (Sherbrooke / des Groseilliers)\",\"M\\u00e9tro Honor\\u00e9-Beaugrand (Sherbrooke / Honor\\u00e9-Beaugrand)\",\"Parc F\\u00e9lix-Leclerc (Fran\\u00e7ois-Boivin / St-Zotique)\",\"Ste-Claire / Pierre-T\\u00e9treault\",\"Duchesneau / de Marseille\",\"Bennett / Pierre-de-Coubertin\",\"Li\\u00e9bert / Hochelaga\",\"University / des Pins\",\"des R\\u00e9collets / Martial\",\"Dollard / Bernard\",\"Rosemont / Viau\",\"41e avenue / Rosemont\",\"Jeanne-Mance / Beaubien\",\"Ste-Croix / Tass\\u00e9\",\"M\\u00e9tro du Coll\\u00e8ge (Cartier / D\\u00e9carie)\",\"Stinson / Montpellier\",\"Notre-Dame-de-Gr\\u00e2ce / Westmount\",\"Thimens / Alexis-Nihon\",\"Sherbrooke / Vignal\",\"O'Brien / Poirier\",\"de Lisieux / Jean-Talon\",\"Parc Ferland (Belleherbe / Albanel)\",\"Glengarry / Graham\",\"St-Jacques / des Seigneurs\",\"Turgeon / Notre-Dame\",\"Elgar / de l'\\u00cele-des-S\\u0153urs\",\"LaSalle / Godin\",\"Hickson / Wellington\",\"Argyle / Bannantyne\",\"de Versailles / St-Jacques\",\"M\\u00e9tro de Castelnau (de Castelnau / St-Laurent)\",\"Papineau / \\u00c9mile-Journault\",\"16e avenue / Jean-Talon\",\"Melville / de Maisonneuve\",\"du Souvenir / Chomedey\",\"Parc Chopin (Dumouchel / Tessier)\",\"Parc St-Claude (7e avenue / 8e rue)\",\"Parc Henri-Dunant (L\\u00e9ger / Henri-Dunant)\",\"Robin / 15e rue\",\"Legrand / Cartier\",\"de Gasp\\u00e9 / Marmier\",\"C\\u00e9gep Marie-Victorin\",\"H\\u00f4pital Sacr\\u00e9-Coeur (Forbes)\",\"Pratt / Bates\",\"Parc Van Horne (de la Peltrie / de Westbury)\",\"St-R\\u00e9mi / Ste \\u00c9milie\",\"de L\\u00e9ry / Sherbrooke\",\"Parc de Beaus\\u00e9jour (Gouin / Henri-d'Arles)\",\"Parc nature de l'\\u00cele-de-la-Visitation (Gouin / de Bruch\\u00e9si)\",\"Parc Henri-Julien (Legendre / Henri-Julien)\",\"Parc Georges St-Pierre (Oxford / Upper Lachine)\",\"Parc de la Conf\\u00e9d\\u00e9ration (Fielding / West Hill)\",\"REV (Souligny / Desmarteau)\",\"des Ormeaux / de Grosbois\",\"Parc MacDonald (Clanranald / Isabella)\",\"Parc Reine-\\u00c9lizabeth (Penniston / Crawford)\",\"Parc Labelle (LaSalle / Henri-Duhamel)\",\"Parc Champdor\\u00e9 (Champdor\\u00e9 / de Lille)\",\"Beurling / Godin\",\"Parc Loyola (Somerled / Doherty)\",\"Parc Villeray (Christophe-Colomb / Jarry)\",\"Champdor\\u00e9 / de Lorimier\",\"Parc Marlborough (Beauz\\u00e8le / Robichaud)\",\"Place Rodolphe-Rousseau (Gohier / \\u00c9douard-Laurin)\",\"Molson / William-Tremblay\",\"C\\u00e9gep Andr\\u00e9-Laurendeau (Lapierre)\",\"Terminus Newman (Airlie / Lafleur)\",\"Parc Ivan-Franko (33e avenue / Victoria)\",\"19e avenue / St-Antoine\",\"Parc des V\\u00e9t\\u00e9rans (des V\\u00e9t\\u00e9rans / Broadway)\",\"Monsabr\\u00e9 / Boileau\",\"Monk / Biencourt\",\"Egan / Laurendeau\",\"Parc de l'H\\u00f4tel-de-Ville (Laurendeau / Ste-Julie)\",\"Parc Sauv\\u00e9 (Balzac / de Bayonne)\",\"Plessis / Logan\",\"41e avenue / Victoria\",\"de C\\u00f4me / Jean-Talon\",\"Lapierre / Serge\",\"St-Antoine / de la Montagne\",\"McCulloch / de la C\\u00f4te Ste-Catherine\",\"Lacombe / Victoria\",\"Langelier / Marie-Victorin\",\"Parc Joseph-Robin (18e avenue / Everett)\",\"Centre r\\u00e9cr\\u00e9atif \\u00c9douard-Rivet (Lesage / Notre-Dame)\",\"Gare d'autocars de Montr\\u00e9al (Berri / Ontario)\",\"Marquette / Gilford\",\"Gilford / St-Denis\",\"Parc Chenier (de l'Ar\\u00e9na / Chenier)\",\"Gloria / Dollard\",\"Dixie / 54e avenue\",\"St-Ambroise / Louis-Cyr\",\"St-Charles / Thomas-Keefer\",\"Gilford / des \\u00c9rables\",\"Dorion / Rachel\",\"6e avenue / B\\u00e9langer\",\"Parc P\\u00e8re-Marquette (de Lanaudi\\u00e8re / de Bellechasse)\",\"Messier / St-Joseph\",\"Fullum / Ontario\",\"Travaux publics LaSalle (Cordner / L\\u00e9ger)\",\"8e avenue / Everett\",\"CHU Ste-Justine (de la C\\u00f4te Ste-Catherine / Hudson)\",\"Durocher / Beaumont\",\"Sabrevois / des R\\u00e9collets\",\"Parc de Montr\\u00e9al-Est (Notre-Dame Est / David)\",\"Ateliers municipaux de St-Laurent (Cavendish / Poirier)\",\"Rousselot / Jarry\",\"Centre des loisirs (Tass\\u00e9 / Grenet)\",\"Parc St-Laurent (Salk / Thomas-Chapais)\",\"Biblioth\\u00e8que du Bois\\u00e9 (Thimens / Todd)\",\"Parc St-Laurent (Dutrisac)\",\"Parc Beaulac (rue \\u00c9lizabeth)\",\"CHSLD St-Michel (8e avenue / Jarry)\",\"Parc Wilfrid-Bastien (Lacordaire / des Galets)\",\"H\\u00f4pital Santa Cabrini (St-Zotique / Jeanne-Jugan)\",\"Parc Delorme (Malouin / Lafert\\u00e9)\",\"Mairie d'arrondissement Montr\\u00e9al-Nord (H\\u00e9bert / de Charleroi)\",\"Parc Luigi-Pirandello (de Bretagne / Jean-Rivard)\",\"Parc LaSalle (10e avenue / Victoria)\",\"Parc Stoney-Point (St-Joseph / 47e avenue)\",\"Parc riverain de Lachine (des Iroquois)\",\"Biblioth\\u00e8que Jean-Corbeil (Goncourt / Place Montrichard)\",\"Ar\\u00e9na Chaumont (Chaumont / des Ormeaux)\",\"Parc Chamberland (Dorais / de l'\\u00c9glise)\",\"Bassin olympique (Chemin du Chenal le Moyne)\",\"Parc Noel-Nord (Toupin / Keller)\",\"Parc du Bois-Franc (de l'\\u00c9quateur / des Andes)\",\"Parc Grovehill (St-Antoine / Ivan-Franko)\",\"Parc Summerlea (53e avenue / St-Joseph)\",\"Parc Kirkland (des \\u00c9rables / Boyer)\",\"M\\u00e9tro Montmorency\",\"M\\u00e9tro Cartier\",\"Parc Painter (Marcotte / Quenneville)\",\"Parc du Mail (Bois de Coulonges / du Mail)\",\"March\\u00e9 Jean-Talon (Casgrain / Shamrock)\",\"2e avenue / Centrale\",\"M\\u00e9tro de la Concorde (L\\u00e9o-Lacombe)\",\"Biblioth\\u00e8que d'Ahuntsic (Lajeunesse / Fleury)\",\"Parc d'Antioche (Place d'Antioche / St-Zotique)\",\"CCI Outremont (Dollard / Durcharme)\",\"Fabrik8 (Waverly / Jean-Talon)\",\"Terminus Le Carrefour (Terry-Fox / Le Carrefour)\",\"LaSalle / 90e avenue\",\"test514\",\"Parc Beaubien Outremont (Stuart / St-Viateur)\",\"HEC (Decelles / Jean-Brillant)\",\"Parc Olympique (Pie-IX / Sherbrooke)\",\"de Chenonceau / Chomedey\",\"Mayfield / St-Martin O\",\"9100\",\"9102\",\"9103\",\"Parc H\\u00e9bert (Colbert / Provencher)\",\"Parc Courbertin (Val\\u00e9ry / Perrier)\",\"Parc Garibaldi (Li\\u00e9nart / B\\u00e9langer)\",\"Alton-Goldbloom / Notre-Dame\",\"Parc Charleroi (Alfred / Louis-Francoeur)\",\"Parc Aim\\u00e9-L\\u00e9onard (Gouin / Ste-Gertrude)\",\"Parc Maurice-B\\u00e9langer (H\\u00e9bert / Denomm\\u00e9e)\",\"St-Hubert / de Maisonneuve (sud)\",\"C\\u00c9GEP du Vieux-Montr\\u00e9al (Ontario / de l'H\\u00f4tel-de-Ville)\",\"Complexe sportif Claude Robillard (\\u00c9mile-Journault)\",\"Gare St-Michel / Montr\\u00e9al-Nord (Pie-IX / 56e)\",\"IUSMM (Georges-Villeneuve)\",\"Parc Eus\\u00e8be-M\\u00e9nard (Gouin / St-Vital)\",\"CHSLD Joseph-Fran\\u00e7ois-Perrault (St-Michel / Everett)\",\"Mairie d'arrondissement St-Laurent (Beaudet / Marcel-Laurin)\",\"Hochelaga / de l'Assomption\",\"Gare Montpellier (Muir / de la C\\u00f4te-Vertu)\",\"Biblioth\\u00e8que du Vieux-St-Laurent (de l'\\u00c9glise / Filiatrault)\",\"Gare du Ruisseau (Dutrisac / Henri-Bourassa)\",\"M\\u00e9tro St-Laurent 2 ( de Maisonneuve / St-Laurent)\",\"Parc Nicolas-Tillemont (des \\u00c9rables / Villeray)\",\"BAnQ (Berri)\",\"Parc Ottawa (de Belleville / Fleury)\",\"CHSLD Robert Cliche (de Bellechasse / 16e avenue)\",\"Square Viger (Berri / Viger)\",\"Coll\\u00e8ge de Rosemont (15e avenue / Beaubien)\",\"Parc Armand-Bombardier (Perras / Armand-Bombardier)\",\"du Mans / des Alouettes\",\"Pierre-P\\u00e9ladeau / du Centropolis\",\"Jeanne-Mance / St-Martin O\",\"de Grenoble / de Cassis\",\"Le Corbusier / St-Martin O\",\"McNamara / St-Martin O\",\"Pr\\u00e9fontaine / Marcel-P\\u00e9pin\",\"Keller / Cousineau\",\"de Chambly / de Rouen\",\"H\\u00f4pital G\\u00e9n\\u00e9ral Juif (de la C\\u00f4te-Ste-Catherine / L\\u00e9gar\\u00e9)\",\"Parc Ernest-Rouleau (Gouin)\",\"8115\",\"Square Nelligan (des Appalaches / Alexis-Nihon)\",\"Parc Honor\\u00e9-Mercier (Notre-Dame / Li\\u00e9bert)\",\"Test ECO5.1.1\",\"CHU Ste-Justine 2 (Decelles / de la C\\u00f4te-Ste-Catherine)\",\"8099\",\"8139\",\"Grenet / Poirier\",\"8101\",\"Gare Lachine (Sir George Simpson / 48e avenue)\",\"8100\"],\"lat\":[45.50206,45.51016276368593,45.53938508196168,45.51108373027205,45.50965520472071,45.52588991809354,45.56129266944769,45.51166045593874,45.512936177874096,45.49813207464428,45.611230741550536,45.51411170862938,45.51064978555748,45.51340553558378,45.51372291221464,45.514690595934766,45.47259900304475,45.52063377251984,45.51889,45.51814312154928,45.513591550752274,45.52145824890192,45.51086,45.59926552299961,45.50714391928411,45.50761009451047,45.502053864057466,45.4801330021149,45.50459069556304,45.50631445605528,45.50531166520915,45.50424245563397,45.501966859101564,45.49996470926352,45.5008764952487,45.50278649802565,45.50144108135568,45.50060578095098,45.521564270906616,45.49831217703312,45.508140959417744,45.49891911390352,45.49760527699099,45.49857779102015,45.5315079142152,45.49750375338383,45.50820461505136,45.49788352593901,45.49933033434456,45.499191207076606,45.50783754150584,45.50135588195754,45.49863930330429,45.49964099818754,45.50038,45.500015468871446,45.51366626207095,45.56250903804892,45.50651117539984,45.505173440423306,45.55797068222815,45.50527354034462,45.47393028235147,45.49582294706495,45.54990048023633,45.50434678685089,45.495581350533946,45.49428921452628,45.52795093787009,45.49487159597493,45.49168652100804,45.49600732302391,45.5353599615622,45.48952522221574,45.491750449903954,45.49325704729831,45.49285655460094,45.49663668261945,45.51473288454674,45.49682986230046,45.4789683985657,45.493245802758366,45.53862710657643,45.51622236316333,45.51937252291976,45.521052325434745,45.49289039867385,45.52836601591233,45.50265866521738,45.52900206660643,45.526179830406086,45.519131967116216,45.52123044585842,45.52353,45.46693565237702,45.52349210923463,45.50538591756765,45.52435882510794,45.526991277453526,45.53370598779895,45.53456256501449,45.53061161207863,45.52330366033427,45.53183672649831,45.499797390231926,45.5321322155395,45.53789110878484,45.53529548038031,45.5367,45.53407048533949,45.53569002831637,45.529352149785566,45.51007154847701,45.50746453265044,45.50975858607626,45.54303187243879,45.4912258547597,45.533348,45.53195791682639,45.54458083116821,45.53879934493943,45.54740777921938,45.5517742671765,45.501804363327565,45.52240257341408,45.53840340979245,45.5291345371163,45.52809995527671,45.52966629503036,45.53166363055749,45.53292625574653,45.52983801723605,45.533313304815366,45.52783154456306,45.52689,45.52451761488783,45.52286653749578,45.52479,45.52733971427933,45.53867,45.53711414,45.53640396516409,45.534583643143264,45.53198492626314,45.53229,45.53022106537559,45.52766001533137,45.52927839879717,45.530952034513255,45.49462764515684,45.5330129192707,45.53582823686429,45.52952466565309,45.53543,45.5333136054992,45.53251395631143,45.53383521794791,45.5358215436799,45.530846300478125,45.527432126380575,45.53045006508681,45.51958082831579,45.519266156911335,45.51908,45.52051578783967,45.52551168509886,45.52242565278864,45.5222776,45.52080238036152,45.498846367453694,45.5173538,45.52141314643908,45.5223645775784,45.524673,45.54912085535069,45.52895039362793,45.52562819123256,45.52602656522141,45.552289376429215,45.527009334270645,45.53140956373919,45.528150161032585,45.521495731487576,45.52557815939422,45.52404631813311,45.52142922483992,45.53898439552301,45.52974,45.5251943015533,45.52462848559264,45.52348082760688,45.50629456823703,45.50936142835129,45.51059,45.51283174510449,45.51069,45.5126400299994,45.55069206841976,45.51552884427053,45.51509198406273,45.51690647640709,45.516090801970655,45.50083231626815,45.5148664330228,45.51896722332005,45.51733075399989,45.51922631024093,45.51941,45.51825290855221,45.51689731423111,45.51829,45.520188,45.575707,45.52027633320609,45.52055948154798,45.5238561444472,45.523026476635074,45.52626688601944,45.52655700191558,45.53727946481992,45.53200800170645,45.51666442219882,45.54975479298636,45.5057209331225,45.51753998795678,45.520545179997015,45.522745298216094,45.52085479492202,45.53226461018495,45.518593,45.53696,45.53678525128436,45.53429782539273,45.53319050274838,45.53900036432657,45.54006,45.53848,45.536434338630336,45.53708783301333,45.54133176097677,45.53923559055867,45.54433850465683,45.53718135927993,45.47117930747152,45.5425697477813,45.53857413661824,45.546661109634606,45.54437554639807,45.539900246044354,45.5376278134876,45.543653916207866,45.640002860465096,45.546539011777845,45.546779039476185,45.53036486555959,45.545369233087456,45.54166959576632,45.55001,45.55158518908433,45.54189933152816,45.54391953154915,45.531921043052655,45.53409866804061,45.53341043363302,45.48390169543355,45.5246829812827,45.50723,45.50116506773693,45.527363,45.52497706918177,45.52428310031213,45.54986843142164,45.5520234093726,45.537041,45.49047561880464,45.49302901258371,45.48998450498787,45.5481863712796,45.52361490311454,45.478346880342265,45.48772278774177,45.472781067977614,45.48504797982277,45.485889,45.4820980397155,45.48020822800015,45.48392802,45.4891,45.52017845247635,45.4568844514464,45.50689914049937,45.4824297233159,45.50144933057703,45.53488214147823,45.52932643090091,45.49602276227824,45.48911308766352,45.55358456339093,45.53611005443118,45.541374968866094,45.54690718297082,45.55061693669672,45.54152678327907,45.54430657661276,45.54095791741757,45.54814504700217,45.56308416715535,45.55321884238814,45.55169283687059,45.53968044327973,45.53989085278141,45.54095134225734,45.540780049798,45.543423548290185,45.54248521237199,45.54721107501036,45.54355974189168,45.54481928225348,45.54310243053054,45.545841561840085,45.474565185029945,45.544867,45.467369,45.550681320460136,45.54969542033443,45.559199,45.4757434,45.48059248038378,45.53873794947064,45.545580534390176,45.53888723230076,45.471743,45.55626186680846,45.47710675189806,45.5568667309625,45.551937362101,45.50993151446477,45.55345684597528,45.54968589617967,45.54779995287998,45.46892698487744,45.54991069359101,45.51014162409143,45.54800352985515,45.55037651450808,45.45750908083069,45.557192,45.54752382909683,45.5451997,45.54710817336986,45.55389801568004,45.47729315148685,45.55293611277267,45.47930107352825,45.4632535358533,45.551584,45.5457759528664,45.54539579902699,45.55524110710243,45.51898660413148,45.52079584115535,45.514947674964425,45.515617,45.514379,45.510200304274754,45.53613488953656,45.53520398241678,45.48597399321214,45.56933906192115,45.5145247302944,45.52311432992147,45.51258740220925,45.51252079509179,45.5063732,45.53035130173597,45.52156536710626,45.46981978744856,45.55465888075087,45.49810026070624,45.54124722370603,45.47738495518824,45.491513,45.50229349416256,45.48542414888848,45.55702223161539,45.54640752148169,45.53039449604383,45.50373771539475,45.48013378575666,45.462846046287325,45.459487694540734,45.47069642604657,45.46714,45.513342512307055,45.45998577640931,45.528087917632654,45.48697062,45.48282602624293,45.47742856483265,45.48129146961133,45.48624101696415,45.53368199320325,45.52841043752244,45.539824,45.53527504835821,45.53722603812578,45.52331869398737,45.53147464147482,45.55984236120471,45.55078357889704,45.499967529242944,45.569789,45.554946972033726,45.56168275734862,45.456365,45.450729976972944,45.45608545783109,45.507096455662456,45.46174102134744,45.55982811984724,45.5315236502754,45.43791380065227,45.56776565172907,45.4157471675921,45.44454701497536,45.56387237463668,45.49530079236066,45.46670033299904,45.46072936353252,45.5594818,45.57683333463968,45.57505358749168,45.56485589064712,45.472051276471305,45.451030919298056,45.56076192837154,45.48511326136532,45.52687028194893,45.516426545782224,45.570081,45.547172039327485,45.477923,45.563709940264175,45.54218173507584,45.55675103297278,45.552123,45.55873962047568,45.50235036136798,45.580314546424674,45.48631864401023,45.46339729163665,45.49444855920154,45.45670282849069,45.52746031240825,45.52357479400008,45.53050525974957,45.49282530947313,45.50649566410142,45.52910695379893,45.52605851018324,45.53007509225256,45.57414703721992,45.45760820718457,45.52995941738481,45.54407915308118,45.49497512853125,45.54983321292286,45.56735205736566,45.54758205939525,45.51293324107222,45.54758153109644,45.51999897796297,45.48184507137741,45.51888453178292,45.5150280816668,45.4648769981855,45.50363996257211,45.42947143740888,45.58284663189181,45.55365135666641,45.54522973039872,45.52751292628879,45.543652466151,45.51915286772737,45.52222528598142,45.53318929909303,45.52723106564012,45.53233064590805,45.52793332015246,45.527041096087785,45.53650541861215,45.5276726466961,45.5380207402854,45.53340912723174,45.52287768023207,45.52625187609252,45.50856686947439,45.48049514330605,45.53922374455291,45.5198946757576,45.50707624836584,45.514107949601446,45.54355786336148,45.52954744851231,45.470535000953966,45.549713734001415,45.56493679334249,45.50238607958335,45.49419955357054,45.44705915105563,45.501863463435576,45.48972725318433,45.450020323797766,45.4828250990486,45.48097552629275,45.46766565386597,45.48026417718717,45.44826204820947,45.457784797618295,45.46098527155975,45.45301583620112,45.46300108733155,45.54043190217008,45.49716534003792,45.54195463236575,45.5399716347916,45.54365085053057,45.50707812811467,45.50625103256782,45.48752158511353,45.5063713381299,45.47993042065731,45.49578910481176,45.52303493310712,45.5231943285584,45.5181280865132,45.57627820285533,45.49122961531575,45.526499983000186,45.53445294687473,45.50002580878596,45.5051022424836,45.51613214980722,45.54959767887176,45.52022241072457,45.51693654712809,45.48295816149219,45.50277615861811,45.515604257816335,45.50022226680107,45.50764392965887,45.64141535746634,45.65140583915357,45.64954588445726,45.57062472207837,45.57543175951154,45.53972553109637,45.539806548176045,45.53308032414161,45.54068551727877,45.53830765459552,45.59722114932571,45.47629426230192,45.504027213143104,45.49404432109336,45.50045094800223,45.514080696641386,45.431518914135125,45.43498715540587,45.432839840726125,45.43579350588776,45.43352120253739,45.422451407155854,45.429166968311485,45.41631023854958,45.42612352042827,45.44404309237571,45.52576254881296,45.49276061084002,45.58917500418707,45.5967964774917,45.5914549914687,45.60191332161639,45.60962627826218,45.55774273362134,45.59587457490178,45.50817464963893,45.59089190991344,45.51678269880724,45.56833021674857,45.57178977666956,45.527650097960205,45.51953948301331,45.50843904979172,45.51962176248447,45.48046706437983,45.50897852206792,45.489979216588914,45.52252484113786,45.57934937043077,45.59576800881258,45.50918998627081,45.48918571608228,45.47888852807208,45.45682318753668,45.44693448484644,45.46484230147321,45.453318765468914,45.49277435999721,45.53570881624427,45.55988367688166,45.56244008398078,45.48184019359366,45.55188644388879,45.570726609302966,45.562152236510016,45.56843961893042,45.559495502858624,45.55233742797057,45.529668174024685,45.61749978312808,45.5319435900764,45.51694782364431,45.490494421832885,45.46976641104386,45.54099971663243,45.526765,45.57833184623925,45.5460355901214,45.46887995929811,45.47188199358608,45.604620837709874,45.605901731906485,45.48274245886277,45.43914465255811,45.47256100297732,45.5692509593831,45.44791581215845,45.45976107571447,45.54813638885782,45.566869345371856,45.52234149817879,45.5129938566323,45.54154850456526,45.43605512104547,45.42505966615074,45.43745998781385,45.43977865314493,45.63158117102497,45.57179634822239,45.45866319241031,45.45290792768395,45.630873806604825,45.59836857189897,45.5218942750191,45.44053238705948,45.58830296569168,45.43854405099729,45.49537171535007,45.51577505385328,45.49048314001669,45.61451982045293,45.56481129244175,45.62835934791188,45.516926210319546,45.53385065978592,45.52515518044864,45.60248649638568,45.42971096449354,45.44338026469991,45.47519326260791,45.477605,45.53723648862597,45.53163403743962,45.55456382820465,45.53932399260009,45.53946063965585,45.5303174,45.44527192876118,45.55776151418005,45.50398168549117,45.52800016604284,45.583287878804136,45.61269083010209,45.506175841460966,45.55081979211847,45.51473429416659,45.6062348,45.50403766981151,45.52591381815231,45.5200557245067,45.5616903,45.5864002,45.579346,45.5904902,45.59398503487043,45.57940569041942,45.43805550384184,45.43656827071224,45.43054314462451,45.6027276,45.610926628992026,45.502989,45.5169025120042,45.51758306374252,45.51317758246596,45.43982382100397,45.43836713933041,45.44606092178209,45.55814299291968,45.56007440937141,45.528630548578505,45.59833498124187,45.53519006163501,45.43289463113104,45.5604898518365,45.5534000891078,45.59566584124368,45.52001910239164,45.53330725719417,45.56842034638607,45.41774583815495,0.0,45.51596969492228,45.49772282989976,45.554824549823,45.56157,45.553017541248565,0.0,0.0,0.0,45.57237805962001,45.5839877335556,45.586476480180046,45.54502601340392,45.59953472156509,45.60835820969716,45.5877138098252,45.51586835126322,45.51401222645779,45.55298554800475,45.583197821913785,45.58661042838809,45.59253950875074,45.55969734528566,45.50682415585665,45.56688309109519,45.52374047147138,45.512843286755896,45.52814371649508,45.51076983368672,45.55463653358596,45.51601387670667,45.58116,45.557568,45.51221209004337,45.55774990838239,45.6391233,45.58033485941123,45.56251175219665,45.55742148238964,45.57889719514108,45.56500671740751,45.57120355585774,45.54365380040509,45.52355020292929,45.54710313981358,45.49624140543275,45.63131269772338,0.0,45.51431824920811,45.59275253568305,0.0,45.50094101588506,0.0,0.0,45.51871924623225,0.0,45.447821314280105,0.0],\"legendgroup\":\"\",\"lon\":[-73.56295,-73.55663707494385,-73.54099988937377,-73.56797754764557,-73.55400860309601,-73.65003436803818,-73.57611326515325,-73.56213569641113,-73.56124520301817,-73.57762072817422,-73.5312415660519,-73.552655428648,-73.56511591007802,-73.56259435415267,-73.5603104531765,-73.55990141630173,-73.5398056358099,-73.56390595436096,-73.56353,-73.56800436973572,-73.56625556945801,-73.56204986572264,-73.54983,-73.51226069033146,-73.55511903762817,-73.55183601379395,-73.57346534729004,-73.58393132686615,-73.55918794870377,-73.55967122894072,-73.56089115142822,-73.553469479084,-73.55515256524086,-73.55615437030792,-73.55900555849075,-73.55913430452347,-73.56014415621758,-73.56544822454453,-73.57036739587784,-73.56725603342056,-73.57492983341217,-73.55725407600403,-73.55534970760345,-73.56024205684662,-73.60308364033699,-73.55284452438353,-73.56881439685822,-73.56856763362885,-73.57175691987322,-73.56942057609558,-73.56313616037369,-73.57173800468445,-73.57422709465027,-73.576257401146,-73.57507,-73.57938900589943,-73.53842496871948,-73.61656039953232,-73.57666924595833,-73.5706517100334,-73.5291700065136,-73.5674786567688,-73.60473453998564,-73.57696294784546,-73.58308374881744,-73.56894850730896,-73.55371087789534,-73.56380335986614,-73.59502326697111,-73.57112377882004,-73.57676714658737,-73.57334746981905,-73.60363483428955,-73.5844581949641,-73.58394473791122,-73.56808215379715,-73.58065430100396,-73.57612865511328,-73.55961576104164,-73.57913017272949,-73.61959934234618,-73.58368472341681,-73.55283915996552,-73.55297327041626,-73.55195805430411,-73.54986727237701,-73.57761260132973,-73.55117082595825,-73.52753520011902,-73.54619935154915,-73.54922890663147,-73.55788965214742,-73.55386108160019,-73.55199,-73.63153114914894,-73.56073021888733,-73.5704317688942,-73.56053441762924,-73.55821162462234,-73.55217933654784,-73.55478646466509,-73.54911457747221,-73.55799973011017,-73.55348825454712,-73.6301752924919,-73.55876013636589,-73.6182153224945,-73.55116009712219,-73.56081,-73.56265068054199,-73.56586396694183,-73.56331842485814,-73.57075229287146,-73.57866883277892,-73.57610732316971,-73.56256484985352,-73.58763009309769,-73.605834,-73.60700100660324,-73.5717111825943,-73.58870029449461,-73.60766887664795,-73.60347837231528,-73.57434511184692,-73.58117669820786,-73.56196403503418,-73.55923354625702,-73.58843871625139,-73.56733649969101,-73.56536373496056,-73.56377989053726,-73.5703244805336,-73.56671154499054,-73.5719096660614,-73.57264,-73.57197672128677,-73.56837719678879,-73.56545,-73.56485076248646,-73.56936,-73.5710031,-73.57141345739365,-73.57315957546234,-73.57222616672516,-73.57544,-73.57699647545813,-73.57612399398931,-73.57792854309082,-73.58158497154362,-73.55674982070923,-73.58128666877745,-73.57869029045105,-73.60488876700401,-73.5822,-73.58373686671257,-73.58481109142303,-73.58928233385086,-73.58710169792175,-73.59832721208477,-73.57991673052311,-73.58763813972473,-73.5601159930229,-73.5692971944809,-73.5727,-73.567695915699,-73.57424452900887,-73.57418417930603,-73.5775906,-73.575798869133,-73.55462982326571,-73.58212888,-73.58498811721802,-73.58414590358734,-73.58255,-73.60087350010872,-73.587866127491,-73.58177483081818,-73.57785880565643,-73.61300647258759,-73.58576595783234,-73.61271411180496,-73.59169363975525,-73.5968267172575,-73.59285570681095,-73.59015061847458,-73.58953826151264,-73.5824453830719,-73.59527,-73.59935637563467,-73.5958108305931,-73.58732756238169,-73.57282698154448,-73.57386365532875,-73.57547,-73.57688784599304,-73.57805,-73.57060074806213,-73.65636706352234,-73.5758525133133,-73.58114182949066,-73.57950568199158,-73.5701286792755,-73.57245951890945,-73.58475860237377,-73.5836161673069,-73.57449866831303,-73.57718793155072,-73.58685,-73.5883381962776,-73.58910799026489,-73.59235,-73.590559,-73.561562,-73.59497621666378,-73.58582027256489,-73.60012650489807,-73.60184043645859,-73.60319092869759,-73.5982757806778,-73.5791677236557,-73.58044445514679,-73.57722043991089,-73.60556602478027,-73.62945914268494,-73.59783187508583,-73.60820215362764,-73.61328139901161,-73.61573964357376,-73.6110632121563,-73.581566,-73.61199,-73.6148879583925,-73.61217230558395,-73.61546069383621,-73.6142510175705,-73.60897,-73.60556,-73.60783427975548,-73.59321847558022,-73.58387768268585,-73.58594566583633,-73.58794391155243,-73.59750330448149,-73.6270022392273,-73.59214425086974,-73.57773005962372,-73.58868420124054,-73.59564453363419,-73.59936207532883,-73.5533943772316,-73.60126135876271,-73.49011301994324,-73.59866470098495,-73.60281676054001,-73.58439266681671,-73.61176248650736,-73.60760450363159,-73.59576,-73.59916493296623,-73.59758377075194,-73.58424894533528,-73.59804779291153,-73.59553456306458,-73.60112428665161,-73.56363236904144,-73.5788968205452,-73.615085,-73.62054750323296,-73.607723,-73.6106863617897,-73.6049484461546,-73.64765658974648,-73.58171837870032,-73.602026,-73.56022328138351,-73.56481790542603,-73.56710570398717,-73.592010140419,-73.59245739877223,-73.5696920567716,-73.5690826177597,-73.5852724313736,-73.5719633102417,-73.577514,-73.57487618923187,-73.57759863138199,-73.57731164,-73.57656,-73.57942387461662,-73.57260704040527,-73.623526096344,-73.58367975812143,-73.63305062055588,-73.60941231250763,-73.57480645179749,-73.62184492885717,-73.6470128595829,-73.56052905321121,-73.5762870311737,-73.5542231798172,-73.5515570640564,-73.54901432991028,-73.61248868051915,-73.54551016355799,-73.54702949523926,-73.5471260547638,-73.5481941328544,-73.53978216648102,-73.54009049478918,-73.63450437784195,-73.62026989459991,-73.62637460231781,-73.63040059804916,-73.63246187567711,-73.63634169101715,-73.63105237483978,-73.62777203321457,-73.6215104162693,-73.61607524188003,-73.62665355205536,-73.62403571605682,-73.614841,-73.570769,-73.61533787112421,-73.55464696884155,-73.599658,-73.5646007,-73.56577813625336,-73.62802147865295,-73.63490000367165,-73.62390697002411,-73.613924,-73.53744059801102,-73.6214379966259,-73.589306473732,-73.59392791986465,-73.56380671262741,-73.58784198760986,-73.59115451574326,-73.58486741781235,-73.6198702454567,-73.55826258659361,-73.6247518658638,-73.58138993382454,-73.57373356819151,-73.6394852399826,-73.569847,-73.57513636350632,-73.57645065,-73.56936693191528,-73.5713866353035,-73.58732163906097,-73.56577143073082,-73.56629446148872,-73.57587933540344,-73.561916,-73.56217458844185,-73.5565418866463,-73.55082213878632,-73.60493557993321,-73.6032706975675,-73.61962616443634,-73.614991,-73.610871,-73.6114051938057,-73.62258464097977,-73.6175217570053,-73.57283234596252,-73.70472729206085,-73.56835573911665,-73.61815363168716,-73.57373893260956,-73.53200376033783,-73.52457672,-73.6243924498558,-73.53533238172531,-73.61696138978003,-73.54660302400589,-73.65294188261032,-73.59104454517365,-73.61527817789465,-73.633649,-73.5733064264059,-73.62816195935011,-73.6599015713,-73.63842844963074,-73.70393217686795,-73.56948494911194,-73.58590811491013,-73.56592163443565,-73.57209205627441,-73.56542240828276,-73.54259,-73.57301607728004,-73.54395568370819,-73.58586251735687,-73.58929306,-73.59084337949753,-73.60016942024231,-73.6003303527832,-73.59572768211365,-73.51526074111462,-73.51716578006744,-73.508752,-73.51361989974976,-73.49506705999374,-73.52012693881989,-73.59242051839828,-73.61544728279114,-73.53409996037954,-73.57697367668152,-73.548081,-73.55529472231865,-73.58564794063568,-73.57614,-73.5725748538971,-73.58193710446358,-73.56844156980515,-73.58412176370621,-73.65832507610321,-73.61701235175133,-73.58274042606354,-73.57968807220459,-73.63751649856567,-73.57509076595306,-73.6555677652359,-73.63949386417517,-73.62355081379064,-73.63407254219055,-73.535496,-73.54647415224463,-73.53893224149942,-73.5774926841259,-73.5827162861824,-73.5939010977745,-73.6505614221096,-73.56043841700739,-73.62672328948975,-73.5581123828888,-73.573047,-73.61815631389618,-73.559038,-73.57139468193054,-73.62268656492233,-73.66716161370277,-73.630103,-73.60589044634253,-73.56658279895781,-73.5353136062622,-73.5702332854271,-73.59643578529356,-73.58337610960007,-73.59764268636354,-73.6241751909256,-73.62344294786453,-73.61470833420753,-73.55797827243805,-73.55649395853106,-73.58480304479599,-73.61296892166138,-73.60150516033173,-73.57462137937546,-73.59051011502743,-73.6329460144043,-73.66735741496086,-73.57777043248461,-73.64063255488873,-73.65378744900227,-73.66522908210754,-73.63389015197754,-73.61220851540565,-73.5548883676529,-73.63037377595901,-73.55593845248222,-73.55635821819305,-73.62659722566605,-73.6182689666748,-73.59309915918857,-73.54247644543648,-73.53414952754974,-73.53725016117096,-73.59879076480864,-73.5534825682771,-73.61646920442581,-73.60668718814848,-73.64188581705093,-73.58672618865965,-73.62018674612045,-73.60122251338906,-73.59347056655677,-73.56803923845291,-73.59738260507582,-73.58352363109587,-73.57065707445145,-73.57748061418532,-73.58975838928018,-73.57769787311554,-73.57782661914825,-73.57383679656778,-73.59682738780975,-73.57228517532349,-73.57523024082184,-73.56780052185059,-73.61071854829788,-73.63165721297264,-73.56384828686714,-73.5555911064148,-73.57333794236183,-73.55998456478119,-73.60229507088661,-73.5439610481262,-73.56406286358833,-73.60030621290207,-73.56206325352105,-73.56863468885422,-73.59391784324544,-73.58099363744259,-73.57785612344742,-73.56772773026023,-73.56731025516638,-73.57191503047943,-73.57156895217486,-73.61650675535202,-73.55933010578154,-73.62994194030762,-73.638114631176,-73.60565051436424,-73.56139540672302,-73.57139065861702,-73.56500297784805,-73.5642009973526,-73.55592101812363,-73.58259558677672,-73.56539458036421,-73.55584256350994,-73.56185138225555,-73.58353972434998,-73.58078241348267,-73.54575277422555,-73.55965197086334,-73.5601931065321,-73.57187882065773,-73.56049686670303,-73.54187428951263,-73.62985610961914,-73.64048302173615,-73.57975836854166,-73.57589408755302,-73.57213497161865,-73.57110500335693,-73.56932401657104,-73.4999567270279,-73.50041270256041,-73.49191546440125,-73.6517858505249,-73.64743050198739,-73.67716491222382,-73.6872661113739,-73.6945965886116,-73.65337640047073,-73.6548838019371,-73.56279015541077,-73.60617488622665,-73.56970220804214,-73.65449488162994,-73.66142839193344,-73.64694982767105,-73.67110446095467,-73.67079868912697,-73.69349151849747,-73.6801904439926,-73.68354320526123,-73.601194024086,-73.66280972957611,-73.61291594803333,-73.65741580724716,-73.61375212669373,-73.59485328197479,-73.55641052126883,-73.53965610265732,-73.53517949581145,-73.56275528669356,-73.52441847324371,-73.52273898082785,-73.54713141918182,-73.52352797985077,-73.58002064942411,-73.64061713218689,-73.61142262816429,-73.56666326522826,-73.56431499123573,-73.61229971051216,-73.68516325950623,-73.6729645729065,-73.6662483215332,-73.61122308304402,-73.69856357574463,-73.58932256698608,-73.69143962860107,-73.58168095350266,-73.5953038930893,-73.66032063961029,-73.57190027832984,-73.58198940753937,-73.546804189682,-73.57219934463501,-73.5666268694331,-73.5767751932144,-73.56885731220245,-73.61962348222733,-73.63356828689575,-73.59533339738846,-73.59537899494171,-73.74444007873535,-73.7370860205192,-73.69181513786316,-73.6752020941276,-73.6989176273346,-73.70748996734619,-73.60166944563389,-73.60601127147675,-73.71360540390015,-73.62631559371948,-73.63852232694626,-73.58925875287241,-73.55826258659361,-73.730423,-73.65595400333405,-73.6465984582901,-73.60943913459778,-73.64002168178558,-73.51599633693695,-73.53436946868896,-73.63497912883759,-73.59173655509949,-73.56998920440674,-73.63642623429769,-73.58381867408752,-73.64477455615997,-73.62434014678001,-73.64101678133011,-73.72167885303497,-73.68249848484993,-73.56501236557959,-73.60577523708344,-73.64959917962551,-73.69353175163269,-73.68137061595917,-73.50796043872833,-73.54152023792267,-73.59602272510529,-73.58918591405198,-73.49503889679909,-73.63610029220581,-73.55725058932876,-73.70242863893507,-73.57783721439773,-73.62021625041962,-73.56858909130096,-73.60060930252075,-73.62913727760315,-73.6118745803833,-73.59580412507057,-73.5000479221344,-73.56425732374191,-73.57891157269478,-73.58563594055795,-73.5432904958725,-73.633883446455,-73.71789157390594,-73.58094334602356,-73.573775,-73.5753321647644,-73.56824576854706,-73.59615683555603,-73.59587844472117,-73.57605636119843,-73.5548669,-73.62448364496231,-73.60154539346695,-73.62283945083618,-73.6192358493281,-73.63276362419128,-73.51004987955093,-73.71118605136871,-73.62088680267334,-73.69144901633263,-73.6287838,-73.70444297790526,-73.68911147117615,-73.67795147001743,-73.610512,-73.5952181,-73.570601,-73.5902694,-73.63767206668854,-73.60258877277374,-73.67273926734924,-73.70836973190308,-73.66902440786362,-73.5579303,-73.54673445224762,-73.689113,-73.52724552154541,-73.72661411762238,-73.71306091547012,-73.69487822055817,-73.71546685695648,-73.65079946815968,-73.71942043304443,-73.68125259876251,-73.67731243371964,-73.54596734046936,-73.61548215150833,-73.59685689210892,-73.7091851234436,-73.66225451231003,-73.5596626996994,-73.61890733242035,-73.62082242965698,-73.74687284231186,-73.64518761634827,0.0,-73.60827505588531,-73.61925333738327,-73.55370283126831,-73.75448,-73.75822663307189,0.0,0.0,0.0,-73.59370462596415,-73.60809333622456,-73.570396900177,-73.73787671327591,-73.62360253930092,-73.63850623369217,-73.63171823322773,-73.56008380651474,-73.56598667800426,-73.6386477202177,-73.62978704273701,-73.52969169616699,-73.64874824881554,-73.60145956277847,-73.68184804916382,-73.53943817317486,-73.67169924080372,-73.67612421512604,-73.69254536926746,-73.56493726372719,-73.61255215771962,-73.56291957199574,-73.6412434,-73.579191,-73.5546288639307,-73.58380123972893,-73.5961118,-73.68471868336201,-73.74370649456978,-73.7480603903532,-73.70492711663245,-73.7319054454565,-73.72351884841918,-73.55942063033581,-73.7138856947422,-73.54892447590828,-73.62983867526054,-73.61631497740746,0.0,-73.70799824595451,-73.51035632193089,0.0,-73.62563699483871,0.0,0.0,-73.69875401258469,0.0,-73.71091783046722,0.0],\"marker\":{\"color\":[19,35,19,15,23,19,23,31,47,23,15,27,23,27,43,26,27,31,19,23,27,23,51,27,15,81,27,19,18,29,38,43,23,19,23,23,27,27,23,31,27,15,47,35,19,70,27,22,27,43,33,23,31,47,49,19,19,31,47,37,15,27,31,31,19,47,27,47,23,17,19,31,23,35,19,23,31,27,31,35,26,15,27,27,19,25,23,19,19,19,23,19,19,25,23,15,21,23,35,23,27,19,19,15,31,27,23,11,15,35,15,19,35,47,39,14,23,23,19,19,27,19,19,31,23,15,35,23,19,15,15,15,19,30,29,23,23,23,27,11,19,23,23,23,19,27,19,27,19,19,23,19,31,27,19,23,23,27,27,18,23,23,39,23,31,19,23,15,23,39,31,15,19,39,15,15,23,19,15,23,11,23,15,23,31,23,19,23,15,23,23,27,23,23,11,23,27,26,23,23,15,31,43,43,23,19,27,27,23,33,15,19,31,23,19,19,23,19,31,19,15,23,15,27,15,23,23,23,31,23,23,23,23,15,19,23,19,19,39,15,23,19,15,15,15,15,27,15,15,15,19,15,19,23,19,15,23,15,19,19,26,19,31,15,31,19,19,23,15,19,27,15,15,23,31,27,27,19,23,23,22,23,19,19,19,32,23,17,19,15,31,23,39,19,19,23,27,23,19,30,19,19,23,23,23,23,55,22,23,19,23,23,23,23,15,15,19,23,15,15,19,11,23,15,27,15,27,23,15,15,15,23,23,15,23,15,27,15,23,15,19,23,19,19,23,27,19,23,39,27,23,23,23,23,15,23,18,23,31,15,15,15,15,15,26,38,35,27,15,27,23,27,47,19,33,23,15,15,15,19,15,23,23,27,15,15,23,34,15,15,27,23,33,31,23,15,19,15,15,15,19,15,15,11,5,19,35,19,34,19,23,27,24,27,15,23,19,21,23,14,15,15,15,23,27,19,19,19,15,19,19,11,15,34,15,23,31,19,15,31,23,27,19,15,16,19,15,31,19,23,17,15,15,19,13,19,27,23,19,26,2,23,23,15,19,31,31,15,19,27,15,19,23,27,19,19,26,23,19,19,19,23,15,19,15,15,18,15,23,19,15,19,19,11,15,27,19,25,15,15,23,19,19,15,31,23,23,19,27,27,35,15,19,15,23,35,27,15,19,15,23,19,15,21,19,19,23,43,31,31,58,15,23,27,19,15,19,19,31,23,19,23,23,19,23,19,19,46,19,31,27,15,15,15,31,19,31,23,19,15,30,23,15,7,19,23,23,31,23,27,15,19,23,19,23,27,19,15,19,15,23,15,19,27,19,23,39,27,23,23,19,15,23,17,27,15,27,23,23,22,19,15,23,19,14,27,23,15,23,23,35,11,15,15,19,27,19,15,15,21,11,13,15,15,23,15,19,19,19,19,23,15,15,15,15,19,15,19,19,15,15,15,25,15,30,19,15,15,23,19,15,15,19,15,19,15,15,15,19,15,11,15,19,19,15,15,39,19,15,19,31,19,15,19,19,19,17,15,15,15,37,19,15,15,19,15,15,19,23,19,15,15,19,15,19,21,15,19,19,21,11,19,19,19,19,19,15,15,15,23,19,15,15,26,15,19,15,19,15,18,23,15,0,15,25,25,23,19,0,0,0,15,19,15,19,15,17,15,19,15,24,15,27,18,18,27,23,15,18,19,23,18,15,15,15,30,25,15,23,23,23,19,19,19,19,15,11,26,19,3,15,27,0,3,3,3,15,2,15,3],\"coloraxis\":\"coloraxis\",\"size\":[19,35,19,15,23,19,23,31,47,23,15,27,23,27,43,26,27,31,19,23,27,23,51,27,15,81,27,19,18,29,38,43,23,19,23,23,27,27,23,31,27,15,47,35,19,70,27,22,27,43,33,23,31,47,49,19,19,31,47,37,15,27,31,31,19,47,27,47,23,17,19,31,23,35,19,23,31,27,31,35,26,15,27,27,19,25,23,19,19,19,23,19,19,25,23,15,21,23,35,23,27,19,19,15,31,27,23,11,15,35,15,19,35,47,39,14,23,23,19,19,27,19,19,31,23,15,35,23,19,15,15,15,19,30,29,23,23,23,27,11,19,23,23,23,19,27,19,27,19,19,23,19,31,27,19,23,23,27,27,18,23,23,39,23,31,19,23,15,23,39,31,15,19,39,15,15,23,19,15,23,11,23,15,23,31,23,19,23,15,23,23,27,23,23,11,23,27,26,23,23,15,31,43,43,23,19,27,27,23,33,15,19,31,23,19,19,23,19,31,19,15,23,15,27,15,23,23,23,31,23,23,23,23,15,19,23,19,19,39,15,23,19,15,15,15,15,27,15,15,15,19,15,19,23,19,15,23,15,19,19,26,19,31,15,31,19,19,23,15,19,27,15,15,23,31,27,27,19,23,23,22,23,19,19,19,32,23,17,19,15,31,23,39,19,19,23,27,23,19,30,19,19,23,23,23,23,55,22,23,19,23,23,23,23,15,15,19,23,15,15,19,11,23,15,27,15,27,23,15,15,15,23,23,15,23,15,27,15,23,15,19,23,19,19,23,27,19,23,39,27,23,23,23,23,15,23,18,23,31,15,15,15,15,15,26,38,35,27,15,27,23,27,47,19,33,23,15,15,15,19,15,23,23,27,15,15,23,34,15,15,27,23,33,31,23,15,19,15,15,15,19,15,15,11,5,19,35,19,34,19,23,27,24,27,15,23,19,21,23,14,15,15,15,23,27,19,19,19,15,19,19,11,15,34,15,23,31,19,15,31,23,27,19,15,16,19,15,31,19,23,17,15,15,19,13,19,27,23,19,26,2,23,23,15,19,31,31,15,19,27,15,19,23,27,19,19,26,23,19,19,19,23,15,19,15,15,18,15,23,19,15,19,19,11,15,27,19,25,15,15,23,19,19,15,31,23,23,19,27,27,35,15,19,15,23,35,27,15,19,15,23,19,15,21,19,19,23,43,31,31,58,15,23,27,19,15,19,19,31,23,19,23,23,19,23,19,19,46,19,31,27,15,15,15,31,19,31,23,19,15,30,23,15,7,19,23,23,31,23,27,15,19,23,19,23,27,19,15,19,15,23,15,19,27,19,23,39,27,23,23,19,15,23,17,27,15,27,23,23,22,19,15,23,19,14,27,23,15,23,23,35,11,15,15,19,27,19,15,15,21,11,13,15,15,23,15,19,19,19,19,23,15,15,15,15,19,15,19,19,15,15,15,25,15,30,19,15,15,23,19,15,15,19,15,19,15,15,15,19,15,11,15,19,19,15,15,39,19,15,19,31,19,15,19,19,19,17,15,15,15,37,19,15,15,19,15,15,19,23,19,15,15,19,15,19,21,15,19,19,21,11,19,19,19,19,19,15,15,15,23,19,15,15,26,15,19,15,19,15,18,23,15,0,15,25,25,23,19,0,0,0,15,19,15,19,15,17,15,19,15,24,15,27,18,18,27,23,15,18,19,23,18,15,15,15,30,25,15,23,23,23,19,19,19,19,15,11,26,19,3,15,27,0,3,3,3,15,2,15,3],\"sizemode\":\"area\",\"sizeref\":0.2025},\"mode\":\"markers\",\"name\":\"\",\"showlegend\":false,\"subplot\":\"mapbox\",\"type\":\"scattermapbox\"}],                        {\"template\":{\"data\":{\"bar\":[{\"error_x\":{\"color\":\"#2a3f5f\"},\"error_y\":{\"color\":\"#2a3f5f\"},\"marker\":{\"line\":{\"color\":\"#E5ECF6\",\"width\":0.5},\"pattern\":{\"fillmode\":\"overlay\",\"size\":10,\"solidity\":0.2}},\"type\":\"bar\"}],\"barpolar\":[{\"marker\":{\"line\":{\"color\":\"#E5ECF6\",\"width\":0.5},\"pattern\":{\"fillmode\":\"overlay\",\"size\":10,\"solidity\":0.2}},\"type\":\"barpolar\"}],\"carpet\":[{\"aaxis\":{\"endlinecolor\":\"#2a3f5f\",\"gridcolor\":\"white\",\"linecolor\":\"white\",\"minorgridcolor\":\"white\",\"startlinecolor\":\"#2a3f5f\"},\"baxis\":{\"endlinecolor\":\"#2a3f5f\",\"gridcolor\":\"white\",\"linecolor\":\"white\",\"minorgridcolor\":\"white\",\"startlinecolor\":\"#2a3f5f\"},\"type\":\"carpet\"}],\"choropleth\":[{\"colorbar\":{\"outlinewidth\":0,\"ticks\":\"\"},\"type\":\"choropleth\"}],\"contour\":[{\"colorbar\":{\"outlinewidth\":0,\"ticks\":\"\"},\"colorscale\":[[0.0,\"#0d0887\"],[0.1111111111111111,\"#46039f\"],[0.2222222222222222,\"#7201a8\"],[0.3333333333333333,\"#9c179e\"],[0.4444444444444444,\"#bd3786\"],[0.5555555555555556,\"#d8576b\"],[0.6666666666666666,\"#ed7953\"],[0.7777777777777778,\"#fb9f3a\"],[0.8888888888888888,\"#fdca26\"],[1.0,\"#f0f921\"]],\"type\":\"contour\"}],\"contourcarpet\":[{\"colorbar\":{\"outlinewidth\":0,\"ticks\":\"\"},\"type\":\"contourcarpet\"}],\"heatmap\":[{\"colorbar\":{\"outlinewidth\":0,\"ticks\":\"\"},\"colorscale\":[[0.0,\"#0d0887\"],[0.1111111111111111,\"#46039f\"],[0.2222222222222222,\"#7201a8\"],[0.3333333333333333,\"#9c179e\"],[0.4444444444444444,\"#bd3786\"],[0.5555555555555556,\"#d8576b\"],[0.6666666666666666,\"#ed7953\"],[0.7777777777777778,\"#fb9f3a\"],[0.8888888888888888,\"#fdca26\"],[1.0,\"#f0f921\"]],\"type\":\"heatmap\"}],\"heatmapgl\":[{\"colorbar\":{\"outlinewidth\":0,\"ticks\":\"\"},\"colorscale\":[[0.0,\"#0d0887\"],[0.1111111111111111,\"#46039f\"],[0.2222222222222222,\"#7201a8\"],[0.3333333333333333,\"#9c179e\"],[0.4444444444444444,\"#bd3786\"],[0.5555555555555556,\"#d8576b\"],[0.6666666666666666,\"#ed7953\"],[0.7777777777777778,\"#fb9f3a\"],[0.8888888888888888,\"#fdca26\"],[1.0,\"#f0f921\"]],\"type\":\"heatmapgl\"}],\"histogram\":[{\"marker\":{\"pattern\":{\"fillmode\":\"overlay\",\"size\":10,\"solidity\":0.2}},\"type\":\"histogram\"}],\"histogram2d\":[{\"colorbar\":{\"outlinewidth\":0,\"ticks\":\"\"},\"colorscale\":[[0.0,\"#0d0887\"],[0.1111111111111111,\"#46039f\"],[0.2222222222222222,\"#7201a8\"],[0.3333333333333333,\"#9c179e\"],[0.4444444444444444,\"#bd3786\"],[0.5555555555555556,\"#d8576b\"],[0.6666666666666666,\"#ed7953\"],[0.7777777777777778,\"#fb9f3a\"],[0.8888888888888888,\"#fdca26\"],[1.0,\"#f0f921\"]],\"type\":\"histogram2d\"}],\"histogram2dcontour\":[{\"colorbar\":{\"outlinewidth\":0,\"ticks\":\"\"},\"colorscale\":[[0.0,\"#0d0887\"],[0.1111111111111111,\"#46039f\"],[0.2222222222222222,\"#7201a8\"],[0.3333333333333333,\"#9c179e\"],[0.4444444444444444,\"#bd3786\"],[0.5555555555555556,\"#d8576b\"],[0.6666666666666666,\"#ed7953\"],[0.7777777777777778,\"#fb9f3a\"],[0.8888888888888888,\"#fdca26\"],[1.0,\"#f0f921\"]],\"type\":\"histogram2dcontour\"}],\"mesh3d\":[{\"colorbar\":{\"outlinewidth\":0,\"ticks\":\"\"},\"type\":\"mesh3d\"}],\"parcoords\":[{\"line\":{\"colorbar\":{\"outlinewidth\":0,\"ticks\":\"\"}},\"type\":\"parcoords\"}],\"pie\":[{\"automargin\":true,\"type\":\"pie\"}],\"scatter\":[{\"marker\":{\"colorbar\":{\"outlinewidth\":0,\"ticks\":\"\"}},\"type\":\"scatter\"}],\"scatter3d\":[{\"line\":{\"colorbar\":{\"outlinewidth\":0,\"ticks\":\"\"}},\"marker\":{\"colorbar\":{\"outlinewidth\":0,\"ticks\":\"\"}},\"type\":\"scatter3d\"}],\"scattercarpet\":[{\"marker\":{\"colorbar\":{\"outlinewidth\":0,\"ticks\":\"\"}},\"type\":\"scattercarpet\"}],\"scattergeo\":[{\"marker\":{\"colorbar\":{\"outlinewidth\":0,\"ticks\":\"\"}},\"type\":\"scattergeo\"}],\"scattergl\":[{\"marker\":{\"colorbar\":{\"outlinewidth\":0,\"ticks\":\"\"}},\"type\":\"scattergl\"}],\"scattermapbox\":[{\"marker\":{\"colorbar\":{\"outlinewidth\":0,\"ticks\":\"\"}},\"type\":\"scattermapbox\"}],\"scatterpolar\":[{\"marker\":{\"colorbar\":{\"outlinewidth\":0,\"ticks\":\"\"}},\"type\":\"scatterpolar\"}],\"scatterpolargl\":[{\"marker\":{\"colorbar\":{\"outlinewidth\":0,\"ticks\":\"\"}},\"type\":\"scatterpolargl\"}],\"scatterternary\":[{\"marker\":{\"colorbar\":{\"outlinewidth\":0,\"ticks\":\"\"}},\"type\":\"scatterternary\"}],\"surface\":[{\"colorbar\":{\"outlinewidth\":0,\"ticks\":\"\"},\"colorscale\":[[0.0,\"#0d0887\"],[0.1111111111111111,\"#46039f\"],[0.2222222222222222,\"#7201a8\"],[0.3333333333333333,\"#9c179e\"],[0.4444444444444444,\"#bd3786\"],[0.5555555555555556,\"#d8576b\"],[0.6666666666666666,\"#ed7953\"],[0.7777777777777778,\"#fb9f3a\"],[0.8888888888888888,\"#fdca26\"],[1.0,\"#f0f921\"]],\"type\":\"surface\"}],\"table\":[{\"cells\":{\"fill\":{\"color\":\"#EBF0F8\"},\"line\":{\"color\":\"white\"}},\"header\":{\"fill\":{\"color\":\"#C8D4E3\"},\"line\":{\"color\":\"white\"}},\"type\":\"table\"}]},\"layout\":{\"annotationdefaults\":{\"arrowcolor\":\"#2a3f5f\",\"arrowhead\":0,\"arrowwidth\":1},\"autotypenumbers\":\"strict\",\"coloraxis\":{\"colorbar\":{\"outlinewidth\":0,\"ticks\":\"\"}},\"colorscale\":{\"diverging\":[[0,\"#8e0152\"],[0.1,\"#c51b7d\"],[0.2,\"#de77ae\"],[0.3,\"#f1b6da\"],[0.4,\"#fde0ef\"],[0.5,\"#f7f7f7\"],[0.6,\"#e6f5d0\"],[0.7,\"#b8e186\"],[0.8,\"#7fbc41\"],[0.9,\"#4d9221\"],[1,\"#276419\"]],\"sequential\":[[0.0,\"#0d0887\"],[0.1111111111111111,\"#46039f\"],[0.2222222222222222,\"#7201a8\"],[0.3333333333333333,\"#9c179e\"],[0.4444444444444444,\"#bd3786\"],[0.5555555555555556,\"#d8576b\"],[0.6666666666666666,\"#ed7953\"],[0.7777777777777778,\"#fb9f3a\"],[0.8888888888888888,\"#fdca26\"],[1.0,\"#f0f921\"]],\"sequentialminus\":[[0.0,\"#0d0887\"],[0.1111111111111111,\"#46039f\"],[0.2222222222222222,\"#7201a8\"],[0.3333333333333333,\"#9c179e\"],[0.4444444444444444,\"#bd3786\"],[0.5555555555555556,\"#d8576b\"],[0.6666666666666666,\"#ed7953\"],[0.7777777777777778,\"#fb9f3a\"],[0.8888888888888888,\"#fdca26\"],[1.0,\"#f0f921\"]]},\"colorway\":[\"#636efa\",\"#EF553B\",\"#00cc96\",\"#ab63fa\",\"#FFA15A\",\"#19d3f3\",\"#FF6692\",\"#B6E880\",\"#FF97FF\",\"#FECB52\"],\"font\":{\"color\":\"#2a3f5f\"},\"geo\":{\"bgcolor\":\"white\",\"lakecolor\":\"white\",\"landcolor\":\"#E5ECF6\",\"showlakes\":true,\"showland\":true,\"subunitcolor\":\"white\"},\"hoverlabel\":{\"align\":\"left\"},\"hovermode\":\"closest\",\"mapbox\":{\"style\":\"light\"},\"paper_bgcolor\":\"white\",\"plot_bgcolor\":\"#E5ECF6\",\"polar\":{\"angularaxis\":{\"gridcolor\":\"white\",\"linecolor\":\"white\",\"ticks\":\"\"},\"bgcolor\":\"#E5ECF6\",\"radialaxis\":{\"gridcolor\":\"white\",\"linecolor\":\"white\",\"ticks\":\"\"}},\"scene\":{\"xaxis\":{\"backgroundcolor\":\"#E5ECF6\",\"gridcolor\":\"white\",\"gridwidth\":2,\"linecolor\":\"white\",\"showbackground\":true,\"ticks\":\"\",\"zerolinecolor\":\"white\"},\"yaxis\":{\"backgroundcolor\":\"#E5ECF6\",\"gridcolor\":\"white\",\"gridwidth\":2,\"linecolor\":\"white\",\"showbackground\":true,\"ticks\":\"\",\"zerolinecolor\":\"white\"},\"zaxis\":{\"backgroundcolor\":\"#E5ECF6\",\"gridcolor\":\"white\",\"gridwidth\":2,\"linecolor\":\"white\",\"showbackground\":true,\"ticks\":\"\",\"zerolinecolor\":\"white\"}},\"shapedefaults\":{\"line\":{\"color\":\"#2a3f5f\"}},\"ternary\":{\"aaxis\":{\"gridcolor\":\"white\",\"linecolor\":\"white\",\"ticks\":\"\"},\"baxis\":{\"gridcolor\":\"white\",\"linecolor\":\"white\",\"ticks\":\"\"},\"bgcolor\":\"#E5ECF6\",\"caxis\":{\"gridcolor\":\"white\",\"linecolor\":\"white\",\"ticks\":\"\"}},\"title\":{\"x\":0.05},\"xaxis\":{\"automargin\":true,\"gridcolor\":\"white\",\"linecolor\":\"white\",\"ticks\":\"\",\"title\":{\"standoff\":15},\"zerolinecolor\":\"white\",\"zerolinewidth\":2},\"yaxis\":{\"automargin\":true,\"gridcolor\":\"white\",\"linecolor\":\"white\",\"ticks\":\"\",\"title\":{\"standoff\":15},\"zerolinecolor\":\"white\",\"zerolinewidth\":2}}},\"mapbox\":{\"domain\":{\"x\":[0.0,1.0],\"y\":[0.0,1.0]},\"center\":{\"lat\":44.93868770117234,\"lon\":-72.6510886348803},\"zoom\":8,\"style\":\"open-street-map\"},\"coloraxis\":{\"colorbar\":{\"title\":{\"text\":\"capacity\"}},\"colorscale\":[[0.0,\"#0d0887\"],[0.1111111111111111,\"#46039f\"],[0.2222222222222222,\"#7201a8\"],[0.3333333333333333,\"#9c179e\"],[0.4444444444444444,\"#bd3786\"],[0.5555555555555556,\"#d8576b\"],[0.6666666666666666,\"#ed7953\"],[0.7777777777777778,\"#fb9f3a\"],[0.8888888888888888,\"#fdca26\"],[1.0,\"#f0f921\"]]},\"legend\":{\"tracegroupgap\":0,\"itemsizing\":\"constant\"},\"margin\":{\"t\":60},\"height\":800,\"width\":800,\"hovermode\":\"closest\"},                        {\"responsive\": true}                    ).then(function(){\n",
       "                            \n",
       "var gd = document.getElementById('f54bf4da-e595-4dc5-b551-48ec6a53dcda');\n",
       "var x = new MutationObserver(function (mutations, observer) {{\n",
       "        var display = window.getComputedStyle(gd).display;\n",
       "        if (!display || display === 'none') {{\n",
       "            console.log([gd, 'removed!']);\n",
       "            Plotly.purge(gd);\n",
       "            observer.disconnect();\n",
       "        }}\n",
       "}});\n",
       "\n",
       "// Listen for the removal of the full notebook cells\n",
       "var notebookContainer = gd.closest('#notebook-container');\n",
       "if (notebookContainer) {{\n",
       "    x.observe(notebookContainer, {childList: true});\n",
       "}}\n",
       "\n",
       "// Listen for the clearing of the current output cell\n",
       "var outputEl = gd.closest('.output');\n",
       "if (outputEl) {{\n",
       "    x.observe(outputEl, {childList: true});\n",
       "}}\n",
       "\n",
       "                        })                };                });            </script>        </div>"
      ]
     },
     "metadata": {},
     "output_type": "display_data"
    }
   ],
   "source": [
    "## map: https://stackoverflow.com/questions/53233228/plot-latitude-longitude-from-csv-in-python-3-6\n",
    "\n",
    "# color_scale = [(0, 'orange'), (1, 'red')]\n",
    "fig = px.scatter_mapbox(\n",
    "    df, \n",
    "    lat = \"lat\", \n",
    "    lon = \"lon\", \n",
    "    hover_name = \"name\", \n",
    "    hover_data = [\"name\", \"capacity\"],\n",
    "#     zoom = 10,\n",
    "    size = \"capacity\",\n",
    "    color = \"capacity\",\n",
    "    height=800, \n",
    "    width=800, \n",
    ")\n",
    "\n",
    "fig.update_layout(mapbox_style=\"open-street-map\", hovermode='closest',)\n",
    "# fig.update_layout(margin={\"r\":0,\"t\":0,\"l\":0,\"b\":0})\n",
    "fig.show()"
   ]
  },
  {
   "cell_type": "code",
   "execution_count": null,
   "id": "1da900ff",
   "metadata": {},
   "outputs": [],
   "source": []
  }
 ],
 "metadata": {
  "kernelspec": {
   "display_name": "Python 3 (ipykernel)",
   "language": "python",
   "name": "python3"
  },
  "language_info": {
   "codemirror_mode": {
    "name": "ipython",
    "version": 3
   },
   "file_extension": ".py",
   "mimetype": "text/x-python",
   "name": "python",
   "nbconvert_exporter": "python",
   "pygments_lexer": "ipython3",
   "version": "3.8.10"
  }
 },
 "nbformat": 4,
 "nbformat_minor": 5
}
