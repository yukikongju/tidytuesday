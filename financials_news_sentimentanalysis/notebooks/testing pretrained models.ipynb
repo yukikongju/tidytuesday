{
 "cells": [
  {
   "cell_type": "code",
   "execution_count": 3,
   "id": "be2700c7",
   "metadata": {},
   "outputs": [],
   "source": [
    "import pandas as pd\n",
    "\n",
    "from vaderSentiment.vaderSentiment import SentimentIntensityAnalyzer\n",
    "from transformers import pipeline\n",
    "\n",
    "from sklearn.metrics import classification_report"
   ]
  },
  {
   "cell_type": "markdown",
   "id": "c4459d52",
   "metadata": {},
   "source": [
    "### Get Data"
   ]
  },
  {
   "cell_type": "code",
   "execution_count": 2,
   "id": "83847f92",
   "metadata": {},
   "outputs": [],
   "source": [
    "df = pd.read_csv('../data/data.csv')\n",
    "df = df[:400]"
   ]
  },
  {
   "cell_type": "code",
   "execution_count": 5,
   "id": "62c63c41",
   "metadata": {},
   "outputs": [
    {
     "name": "stdout",
     "output_type": "stream",
     "text": [
      "['positive' 'negative' 'neutral']\n"
     ]
    }
   ],
   "source": [
    "print(df['Sentiment'].unique())"
   ]
  },
  {
   "cell_type": "code",
   "execution_count": null,
   "id": "9fbf7a99",
   "metadata": {},
   "outputs": [],
   "source": []
  },
  {
   "cell_type": "code",
   "execution_count": null,
   "id": "7534d2e7",
   "metadata": {},
   "outputs": [],
   "source": []
  },
  {
   "cell_type": "markdown",
   "id": "388978aa",
   "metadata": {},
   "source": [
    "### Predicting with Vader"
   ]
  },
  {
   "cell_type": "code",
   "execution_count": 6,
   "id": "0031d4d0",
   "metadata": {},
   "outputs": [
    {
     "name": "stdout",
     "output_type": "stream",
     "text": [
      "neutral\n"
     ]
    }
   ],
   "source": [
    "def get_vader_prediction(analyzer, sentence):\n",
    "    scores = analyzer.polarity_scores(sentence)\n",
    "    max_value = max(scores['neg'], scores['pos'], scores['neu'])\n",
    "    pred = [key for key, value in scores.items() if value == max_value][0]\n",
    "    \n",
    "    pred_map = {'neu': 'neutral', 'pos': 'positive', 'neg': 'negative'}\n",
    "    \n",
    "    return pred_map.get(pred)\n",
    "\n",
    "vader_analyzer = SentimentIntensityAnalyzer()\n",
    "print(get_vader_prediction(vader_analyzer, \"Stock market is down 50 points\"))"
   ]
  },
  {
   "cell_type": "code",
   "execution_count": 8,
   "id": "de9d9b0c",
   "metadata": {},
   "outputs": [
    {
     "name": "stdout",
     "output_type": "stream",
     "text": [
      "              precision    recall  f1-score   support\n",
      "\n",
      "    negative       0.00      0.00      0.00         0\n",
      "     neutral       1.00      0.54      0.70       399\n",
      "    positive       0.01      1.00      0.02         1\n",
      "\n",
      "    accuracy                           0.54       400\n",
      "   macro avg       0.34      0.51      0.24       400\n",
      "weighted avg       1.00      0.54      0.70       400\n",
      "\n"
     ]
    },
    {
     "name": "stderr",
     "output_type": "stream",
     "text": [
      "/home/yukikongju/.local/lib/python3.8/site-packages/sklearn/metrics/_classification.py:1308: UndefinedMetricWarning: Recall and F-score are ill-defined and being set to 0.0 in labels with no true samples. Use `zero_division` parameter to control this behavior.\n",
      "  _warn_prf(average, modifier, msg_start, len(result))\n",
      "/home/yukikongju/.local/lib/python3.8/site-packages/sklearn/metrics/_classification.py:1308: UndefinedMetricWarning: Recall and F-score are ill-defined and being set to 0.0 in labels with no true samples. Use `zero_division` parameter to control this behavior.\n",
      "  _warn_prf(average, modifier, msg_start, len(result))\n",
      "/home/yukikongju/.local/lib/python3.8/site-packages/sklearn/metrics/_classification.py:1308: UndefinedMetricWarning: Recall and F-score are ill-defined and being set to 0.0 in labels with no true samples. Use `zero_division` parameter to control this behavior.\n",
      "  _warn_prf(average, modifier, msg_start, len(result))\n"
     ]
    }
   ],
   "source": [
    "df['vader_pred'] = df['Sentence'].apply(lambda x: get_vader_prediction(vader_analyzer, x))\n",
    "print(classification_report(df['vader_pred'], df['Sentiment']))"
   ]
  },
  {
   "cell_type": "code",
   "execution_count": null,
   "id": "e3019709",
   "metadata": {},
   "outputs": [],
   "source": []
  },
  {
   "cell_type": "markdown",
   "id": "7f7b6210",
   "metadata": {},
   "source": [
    "### Predicting with transformers pipeline"
   ]
  },
  {
   "cell_type": "code",
   "execution_count": 9,
   "id": "4d5c111c",
   "metadata": {},
   "outputs": [
    {
     "name": "stderr",
     "output_type": "stream",
     "text": [
      "No model was supplied, defaulted to distilbert-base-uncased-finetuned-sst-2-english (https://huggingface.co/distilbert-base-uncased-finetuned-sst-2-english)\n",
      "2022-08-07 11:01:25.792396: W tensorflow/stream_executor/platform/default/dso_loader.cc:64] Could not load dynamic library 'libcuda.so.1'; dlerror: libcuda.so.1: cannot open shared object file: No such file or directory\n",
      "2022-08-07 11:01:25.792419: W tensorflow/stream_executor/cuda/cuda_driver.cc:269] failed call to cuInit: UNKNOWN ERROR (303)\n",
      "2022-08-07 11:01:25.792436: I tensorflow/stream_executor/cuda/cuda_diagnostics.cc:156] kernel driver does not appear to be running on this host (yukikongju-Swift-SF314-511): /proc/driver/nvidia/version does not exist\n",
      "2022-08-07 11:01:25.798420: I tensorflow/core/platform/cpu_feature_guard.cc:151] This TensorFlow binary is optimized with oneAPI Deep Neural Network Library (oneDNN) to use the following CPU instructions in performance-critical operations:  AVX2 AVX512F FMA\n",
      "To enable them in other operations, rebuild TensorFlow with the appropriate compiler flags.\n"
     ]
    }
   ],
   "source": [
    "model = pipeline('sentiment-analysis')"
   ]
  },
  {
   "cell_type": "code",
   "execution_count": 16,
   "id": "f6c0c83c",
   "metadata": {},
   "outputs": [
    {
     "data": {
      "text/html": [
       "<div>\n",
       "<style scoped>\n",
       "    .dataframe tbody tr th:only-of-type {\n",
       "        vertical-align: middle;\n",
       "    }\n",
       "\n",
       "    .dataframe tbody tr th {\n",
       "        vertical-align: top;\n",
       "    }\n",
       "\n",
       "    .dataframe thead th {\n",
       "        text-align: right;\n",
       "    }\n",
       "</style>\n",
       "<table border=\"1\" class=\"dataframe\">\n",
       "  <thead>\n",
       "    <tr style=\"text-align: right;\">\n",
       "      <th></th>\n",
       "      <th>label</th>\n",
       "      <th>score</th>\n",
       "    </tr>\n",
       "  </thead>\n",
       "  <tbody>\n",
       "    <tr>\n",
       "      <th>0</th>\n",
       "      <td>NEGATIVE</td>\n",
       "      <td>0.999770</td>\n",
       "    </tr>\n",
       "    <tr>\n",
       "      <th>1</th>\n",
       "      <td>POSITIVE</td>\n",
       "      <td>0.997794</td>\n",
       "    </tr>\n",
       "    <tr>\n",
       "      <th>2</th>\n",
       "      <td>POSITIVE</td>\n",
       "      <td>0.995788</td>\n",
       "    </tr>\n",
       "  </tbody>\n",
       "</table>\n",
       "</div>"
      ],
      "text/plain": [
       "      label     score\n",
       "0  NEGATIVE  0.999770\n",
       "1  POSITIVE  0.997794\n",
       "2  POSITIVE  0.995788"
      ]
     },
     "execution_count": 16,
     "metadata": {},
     "output_type": "execute_result"
    }
   ],
   "source": [
    "pd.DataFrame(model([\"the stock market is down\", \"i like apples\", \"i am walking\"]))"
   ]
  },
  {
   "cell_type": "code",
   "execution_count": 18,
   "id": "a60fc391",
   "metadata": {},
   "outputs": [],
   "source": [
    "# remark: pipeline only predicts negative/positive, not neutral\n",
    "df_emotions = df[df['Sentiment'] != 'neutral']\n",
    "emotions_pred = model(df_emotions['Sentence'].tolist())\n",
    "df_emotions['trans_pred'] = pd.DataFrame(emotions_pred)['label'].apply(lambda x: x.lower()).tolist()"
   ]
  },
  {
   "cell_type": "code",
   "execution_count": 27,
   "id": "8c3111f8",
   "metadata": {},
   "outputs": [
    {
     "name": "stdout",
     "output_type": "stream",
     "text": [
      "              precision    recall  f1-score   support\n",
      "\n",
      "    negative       0.50      0.94      0.66        64\n",
      "    positive       0.94      0.51      0.66       120\n",
      "\n",
      "    accuracy                           0.66       184\n",
      "   macro avg       0.72      0.72      0.66       184\n",
      "weighted avg       0.79      0.66      0.66       184\n",
      "\n"
     ]
    }
   ],
   "source": [
    "print(classification_report(df_emotions['Sentiment'], df_emotions['trans_pred']))"
   ]
  },
  {
   "cell_type": "code",
   "execution_count": null,
   "id": "4e5044e5",
   "metadata": {},
   "outputs": [],
   "source": []
  },
  {
   "cell_type": "code",
   "execution_count": null,
   "id": "849024ce",
   "metadata": {},
   "outputs": [],
   "source": []
  },
  {
   "cell_type": "code",
   "execution_count": null,
   "id": "983f958d",
   "metadata": {},
   "outputs": [],
   "source": []
  },
  {
   "cell_type": "code",
   "execution_count": null,
   "id": "8e84085e",
   "metadata": {},
   "outputs": [],
   "source": []
  },
  {
   "cell_type": "code",
   "execution_count": null,
   "id": "64737d35",
   "metadata": {},
   "outputs": [],
   "source": []
  }
 ],
 "metadata": {
  "kernelspec": {
   "display_name": "Python 3 (ipykernel)",
   "language": "python",
   "name": "python3"
  },
  "language_info": {
   "codemirror_mode": {
    "name": "ipython",
    "version": 3
   },
   "file_extension": ".py",
   "mimetype": "text/x-python",
   "name": "python",
   "nbconvert_exporter": "python",
   "pygments_lexer": "ipython3",
   "version": "3.8.10"
  }
 },
 "nbformat": 4,
 "nbformat_minor": 5
}
